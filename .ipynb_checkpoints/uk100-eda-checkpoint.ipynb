{
 "cells": [
  {
   "cell_type": "code",
   "execution_count": 1,
   "metadata": {},
   "outputs": [],
   "source": [
    "import pyspark as ps\n",
    "import pyspark.sql.functions as f\n",
    "from pyspark import SQLContext\n",
    "from pyspark.sql.types import IntegerType, DateType, TimestampType\n",
    "from datetime import datetime\n",
    "%matplotlib inline\n",
    "import matplotlib.pyplot as plt\n",
    "plt.style.use(\"seaborn-pastel\")\n",
    "import scipy.stats as stats\n",
    "import numpy as np"
   ]
  },
  {
   "cell_type": "code",
   "execution_count": 2,
   "metadata": {},
   "outputs": [],
   "source": [
    "spark = (ps.sql.SparkSession.builder \n",
    "        .master(\"local[4]\") \n",
    "        .appName(\"sparkSQL exercise\") \n",
    "        .getOrCreate()\n",
    "        )\n",
    "sc = spark.sparkContext"
   ]
  },
  {
   "cell_type": "code",
   "execution_count": 3,
   "metadata": {},
   "outputs": [
    {
     "data": {
      "text/html": [
       "\n",
       "        <div>\n",
       "            <p><b>SparkContext</b></p>\n",
       "\n",
       "            <p><a href=\"http://7e5b74eb1d72:4040\">Spark UI</a></p>\n",
       "\n",
       "            <dl>\n",
       "              <dt>Version</dt>\n",
       "                <dd><code>v2.4.4</code></dd>\n",
       "              <dt>Master</dt>\n",
       "                <dd><code>local[4]</code></dd>\n",
       "              <dt>AppName</dt>\n",
       "                <dd><code>sparkSQL exercise</code></dd>\n",
       "            </dl>\n",
       "        </div>\n",
       "        "
      ],
      "text/plain": [
       "<SparkContext master=local[4] appName=sparkSQL exercise>"
      ]
     },
     "execution_count": 3,
     "metadata": {},
     "output_type": "execute_result"
    }
   ],
   "source": [
    "sc"
   ]
  },
  {
   "cell_type": "code",
   "execution_count": 4,
   "metadata": {},
   "outputs": [],
   "source": [
    "sqlContext = SQLContext(sc)"
   ]
  },
  {
   "cell_type": "code",
   "execution_count": 5,
   "metadata": {},
   "outputs": [],
   "source": [
    "df = sqlContext.read.csv(\"data/uk100.csv\", header=True)"
   ]
  },
  {
   "cell_type": "code",
   "execution_count": 6,
   "metadata": {},
   "outputs": [
    {
     "name": "stdout",
     "output_type": "stream",
     "text": [
      "root\n",
      " |-- _c0: string (nullable = true)\n",
      " |-- rank: string (nullable = true)\n",
      " |-- last_week_rank: string (nullable = true)\n",
      " |-- hmm: string (nullable = true)\n",
      " |-- title: string (nullable = true)\n",
      " |-- artist: string (nullable = true)\n",
      " |-- label: string (nullable = true)\n",
      " |-- peak_rank: string (nullable = true)\n",
      " |-- weeks_on_chart: string (nullable = true)\n",
      " |-- week_of: string (nullable = true)\n",
      "\n"
     ]
    }
   ],
   "source": [
    "df.printSchema()"
   ]
  },
  {
   "cell_type": "code",
   "execution_count": 7,
   "metadata": {},
   "outputs": [],
   "source": [
    "df.createOrReplaceTempView('test')"
   ]
  },
  {
   "cell_type": "code",
   "execution_count": 8,
   "metadata": {},
   "outputs": [
    {
     "name": "stdout",
     "output_type": "stream",
     "text": [
      "+---+----+--------------+--------+--------------------+--------------------+--------------------+---------+--------------+----------------+\n",
      "|_c0|rank|last_week_rank|     hmm|               title|              artist|               label|peak_rank|weeks_on_chart|         week_of|\n",
      "+---+----+--------------+--------+--------------------+--------------------+--------------------+---------+--------------+----------------+\n",
      "|  0|   1|            11|        |               RIVER|      ELLIE GOULDING|             POLYDOR|        1|             5|December 27 2019|\n",
      "|  1|   2|             8|        |ALL I WANT FOR CH...|        MARIAH CAREY|            COLUMBIA|        2|            99|December 27 2019|\n",
      "|  2|   3|             5|        |      LAST CHRISTMAS|                WHAM|                 RCA|        2|            64|December 27 2019|\n",
      "|  3|   4|            14|        |FAIRYTALE OF NEW ...|POGUES FT KIRSTY ...|         WARNER BROS|        2|            99|December 27 2019|\n",
      "|  4|   5|             2|        |              OWN IT|STORMZY/ED SHEERA...|      ATLANTIC/MERKY|        2|             5|December 27 2019|\n",
      "|  5|   6|            16|        |MERRY CHRISTMAS E...|     SHAKIN' STEVENS|                 RCA|        1|            71|December 27 2019|\n",
      "|  6|   7|            17|        |DO THEY KNOW IT'S...|            BAND AID|             MERCURY|        1|            80|December 27 2019|\n",
      "|  7|   8|            19|        | STEP INTO CHRISTMAS|          ELTON JOHN|             MERCURY|        8|            38|December 27 2019|\n",
      "|  8|   9|            34|        |HAPPY CHRISTMAS (...|         JOHN LEGEND|            COLUMBIA|        9|             3|December 27 2019|\n",
      "|  9|  10|            29|        |I WISH IT COULD B...|             WIZZARD|                 EMI|       10|            57|December 27 2019|\n",
      "| 10|  11|            24|        |IT'S BEGINNING TO...|       MICHAEL BUBLE|             REPRISE|        7|            33|December 27 2019|\n",
      "| 11|  12|             3|        |       BEFORE YOU GO|       LEWIS CAPALDI|                 EMI|        2|             6|December 27 2019|\n",
      "| 12|  13|            28|        |       SANTA TELL ME|       ARIANA GRANDE|    REPUBLIC RECORDS|       13|            18|December 27 2019|\n",
      "| 13|  14|             4|        |     DON'T START NOW|            DUA LIPA|      WARNER RECORDS|        2|             8|December 27 2019|\n",
      "| 14|  15|            25|        |      ONE MORE SLEEP|         LEONA LEWIS|          SYCO MUSIC|        3|            23|December 27 2019|\n",
      "| 15|  16|             7|        |             ROXANNE|      ARIZONA ZERVAS|          SONY MUSIC|        5|             8|December 27 2019|\n",
      "| 16|  17|            36|        |SANTA'S COMING FO...|                 SIA|ATLANTIC/MONKEY P...|       17|            12|December 27 2019|\n",
      "| 17|  18|            32|        |ROCKIN' AROUND TH...|          BRENDA LEE|                 MCA|        6|            47|December 27 2019|\n",
      "| 18|  19|            31|        |MERRY XMAS EVERYBODY|               SLADE|                UMTV|        1|            98|December 27 2019|\n",
      "| 19|  20|            10|        |        DANCE MONKEY|           TONES & I|          PARLOPHONE|        1|            21|December 27 2019|\n",
      "+---+----+--------------+--------+--------------------+--------------------+--------------------+---------+--------------+----------------+\n",
      "only showing top 20 rows\n",
      "\n"
     ]
    }
   ],
   "source": [
    "spark.sql('''SELECT *\n",
    "            FROM test\n",
    "            LIMIT 30\n",
    "            ''').show()"
   ]
  },
  {
   "cell_type": "markdown",
   "metadata": {},
   "source": [
    "## Drop unneeded columns and cast the rest to the correct types."
   ]
  },
  {
   "cell_type": "code",
   "execution_count": 9,
   "metadata": {},
   "outputs": [],
   "source": [
    "df = df.drop('_c0')\n",
    "df = df.drop('hmm')\n",
    "\n",
    "for col in df.columns:\n",
    "    df = df.withColumn(col, f.lower(f.col(col)))\n",
    "\n",
    "df = df.withColumn(\"rank\", df[\"rank\"].cast(IntegerType()))\n",
    "df = df.withColumn(\"peak_rank\", df[\"peak_rank\"].cast(IntegerType()))\n",
    "df = df.withColumn(\"weeks_on_chart\", df[\"weeks_on_chart\"].cast(IntegerType()))\n",
    "\n",
    "def to_date(x):\n",
    "    return datetime.strptime(x, '%B %d %Y')\n",
    "change_to_datetype = f.udf(lambda y: to_date(y), DateType())\n",
    "\n",
    "df = df.withColumn(\"week_of\", change_to_datetype('week_of'))"
   ]
  },
  {
   "cell_type": "code",
   "execution_count": 10,
   "metadata": {},
   "outputs": [
    {
     "name": "stdout",
     "output_type": "stream",
     "text": [
      "root\n",
      " |-- rank: integer (nullable = true)\n",
      " |-- last_week_rank: string (nullable = true)\n",
      " |-- title: string (nullable = true)\n",
      " |-- artist: string (nullable = true)\n",
      " |-- label: string (nullable = true)\n",
      " |-- peak_rank: integer (nullable = true)\n",
      " |-- weeks_on_chart: integer (nullable = true)\n",
      " |-- week_of: date (nullable = true)\n",
      "\n"
     ]
    }
   ],
   "source": [
    "df.printSchema()"
   ]
  },
  {
   "cell_type": "code",
   "execution_count": 11,
   "metadata": {},
   "outputs": [],
   "source": [
    "df.createOrReplaceTempView('test')"
   ]
  },
  {
   "cell_type": "markdown",
   "metadata": {},
   "source": [
    "## Total Count"
   ]
  },
  {
   "cell_type": "code",
   "execution_count": 12,
   "metadata": {},
   "outputs": [
    {
     "name": "stdout",
     "output_type": "stream",
     "text": [
      "+--------+\n",
      "|count(1)|\n",
      "+--------+\n",
      "|   26000|\n",
      "+--------+\n",
      "\n"
     ]
    }
   ],
   "source": [
    "spark.sql('''\n",
    "        SELECT COUNT(*)\n",
    "        FROM test\n",
    "        ''').show()"
   ]
  },
  {
   "cell_type": "code",
   "execution_count": 13,
   "metadata": {},
   "outputs": [
    {
     "name": "stdout",
     "output_type": "stream",
     "text": [
      "+----+--------------+--------------------+--------------------+--------------------+---------+--------------+----------+\n",
      "|rank|last_week_rank|               title|              artist|               label|peak_rank|weeks_on_chart|   week_of|\n",
      "+----+--------------+--------------------+--------------------+--------------------+---------+--------------+----------+\n",
      "|   1|            11|               river|      ellie goulding|             polydor|        1|             5|2019-12-27|\n",
      "|   2|             8|all i want for ch...|        mariah carey|            columbia|        2|            99|2019-12-27|\n",
      "|   3|             5|      last christmas|                wham|                 rca|        2|            64|2019-12-27|\n",
      "|   4|            14|fairytale of new ...|pogues ft kirsty ...|         warner bros|        2|            99|2019-12-27|\n",
      "|   5|             2|              own it|stormzy/ed sheera...|      atlantic/merky|        2|             5|2019-12-27|\n",
      "|   6|            16|merry christmas e...|     shakin' stevens|                 rca|        1|            71|2019-12-27|\n",
      "|   7|            17|do they know it's...|            band aid|             mercury|        1|            80|2019-12-27|\n",
      "|   8|            19| step into christmas|          elton john|             mercury|        8|            38|2019-12-27|\n",
      "|   9|            34|happy christmas (...|         john legend|            columbia|        9|             3|2019-12-27|\n",
      "|  10|            29|i wish it could b...|             wizzard|                 emi|       10|            57|2019-12-27|\n",
      "|  11|            24|it's beginning to...|       michael buble|             reprise|        7|            33|2019-12-27|\n",
      "|  12|             3|       before you go|       lewis capaldi|                 emi|        2|             6|2019-12-27|\n",
      "|  13|            28|       santa tell me|       ariana grande|    republic records|       13|            18|2019-12-27|\n",
      "|  14|             4|     don't start now|            dua lipa|      warner records|        2|             8|2019-12-27|\n",
      "|  15|            25|      one more sleep|         leona lewis|          syco music|        3|            23|2019-12-27|\n",
      "|  16|             7|             roxanne|      arizona zervas|          sony music|        5|             8|2019-12-27|\n",
      "|  17|            36|santa's coming fo...|                 sia|atlantic/monkey p...|       17|            12|2019-12-27|\n",
      "|  18|            32|rockin' around th...|          brenda lee|                 mca|        6|            47|2019-12-27|\n",
      "|  19|            31|merry xmas everybody|               slade|                umtv|        1|            98|2019-12-27|\n",
      "|  20|            10|        dance monkey|           tones & i|          parlophone|        1|            21|2019-12-27|\n",
      "+----+--------------+--------------------+--------------------+--------------------+---------+--------------+----------+\n",
      "only showing top 20 rows\n",
      "\n"
     ]
    }
   ],
   "source": [
    "spark.sql('''\n",
    "        SELECT *\n",
    "        FROM test\n",
    "        ''').show()"
   ]
  },
  {
   "cell_type": "markdown",
   "metadata": {},
   "source": [
    "## Number of distinct titles that have reached rank 1"
   ]
  },
  {
   "cell_type": "code",
   "execution_count": 14,
   "metadata": {},
   "outputs": [
    {
     "name": "stdout",
     "output_type": "stream",
     "text": [
      "+---------------------+\n",
      "|count(DISTINCT title)|\n",
      "+---------------------+\n",
      "|                   77|\n",
      "+---------------------+\n",
      "\n"
     ]
    }
   ],
   "source": [
    "spark.sql('''\n",
    "        SELECT COUNT(DISTINCT title)\n",
    "        FROM test\n",
    "        WHERE rank == 1''').show()"
   ]
  },
  {
   "cell_type": "markdown",
   "metadata": {},
   "source": [
    "## Number of unique songs"
   ]
  },
  {
   "cell_type": "code",
   "execution_count": 15,
   "metadata": {},
   "outputs": [],
   "source": [
    "num_unique_songs = spark.sql('''\n",
    "        SELECT artist, title\n",
    "        FROM test\n",
    "        GROUP BY artist, title''')"
   ]
  },
  {
   "cell_type": "code",
   "execution_count": 16,
   "metadata": {},
   "outputs": [
    {
     "data": {
      "text/plain": [
       "2605"
      ]
     },
     "execution_count": 16,
     "metadata": {},
     "output_type": "execute_result"
    }
   ],
   "source": [
    "num_unique_songs.count()"
   ]
  },
  {
   "cell_type": "markdown",
   "metadata": {},
   "source": [
    "## How many weeks did these songs stay at rank 1"
   ]
  },
  {
   "cell_type": "code",
   "execution_count": 17,
   "metadata": {},
   "outputs": [
    {
     "name": "stdout",
     "output_type": "stream",
     "text": [
      "+--------------------+--------------------+---------+------------+\n",
      "|              artist|               title|num_weeks|min(week_of)|\n",
      "+--------------------+--------------------+---------+------------+\n",
      "|drake ft wizkid &...|           one dance|       15|  2016-04-15|\n",
      "|          ed sheeran|        shape of you|       14|  2017-01-13|\n",
      "|           tones & i|        dance monkey|       11|  2019-10-04|\n",
      "|luis fonsi/daddy ...|   despacito (remix)|       11|  2017-05-12|\n",
      "|               drake|          god's plan|        9|  2018-01-26|\n",
      "|        clean bandit|            rockabye|        9|  2016-11-11|\n",
      "|ed sheeran & just...|        i don't care|        8|  2019-05-17|\n",
      "|calvin harris & d...|            one kiss|        8|  2018-04-20|\n",
      "|       lewis capaldi|   someone you loved|        7|  2019-03-01|\n",
      "|calvin harris & s...|            promises|        6|  2018-09-07|\n",
      "|          ed sheeran|             perfect|        6|  2017-12-08|\n",
      "|shawn mendes/cami...|            senorita|        6|  2019-07-12|\n",
      "|       ariana grande|        thank u next|        6|  2018-11-09|\n",
      "|       justin bieber|       love yourself|        6|  2015-12-04|\n",
      "|ed sheeran ft sto...|take me back to l...|        5|  2019-08-30|\n",
      "|        lukas graham|             7 years|        5|  2016-02-12|\n",
      "|       justin bieber|    what do you mean|        5|  2015-09-04|\n",
      "|camila cabello ft...|              havana|        5|  2017-11-03|\n",
      "|major lazer/justi...|          cold water|        5|  2016-07-29|\n",
      "|        jason derulo|     want to want me|        4|  2015-05-31|\n",
      "+--------------------+--------------------+---------+------------+\n",
      "only showing top 20 rows\n",
      "\n"
     ]
    }
   ],
   "source": [
    "spark.sql('''\n",
    "            SELECT DISTINCT artist, title, COUNT(*) as num_weeks, MIN(week_of)\n",
    "            FROM test\n",
    "            WHERE rank == 1\n",
    "            GROUP BY 1, 2\n",
    "            ORDER BY 3 DESC\n",
    "            ''').show()"
   ]
  },
  {
   "cell_type": "markdown",
   "metadata": {},
   "source": [
    "## Total number of appearances on the top 100 tht peaked at rank 1, in order"
   ]
  },
  {
   "cell_type": "code",
   "execution_count": 18,
   "metadata": {},
   "outputs": [
    {
     "name": "stdout",
     "output_type": "stream",
     "text": [
      "+--------------------+--------------------+---------+------------+\n",
      "|              artist|               title|num_weeks|min(week_of)|\n",
      "+--------------------+--------------------+---------+------------+\n",
      "|          ed sheeran|        shape of you|       97|  2017-01-13|\n",
      "|          ed sheeran|   thinking out loud|       90|  2015-01-11|\n",
      "|          ed sheeran|             perfect|       81|  2017-12-08|\n",
      "|         george ezra|             shotgun|       74|  2018-06-29|\n",
      "|mark ronson ft br...|         uptown funk|       72|  2015-01-11|\n",
      "|luis fonsi/daddy ...|   despacito (remix)|       71|  2017-05-12|\n",
      "|       justin bieber|               sorry|       65|  2015-11-20|\n",
      "|drake ft wizkid &...|           one dance|       64|  2016-04-15|\n",
      "|       justin bieber|    what do you mean|       62|  2015-09-04|\n",
      "|       justin bieber|       love yourself|       62|  2015-12-04|\n",
      "|            dua lipa|           new rules|       61|  2017-08-18|\n",
      "|       years & years|                king|       59|  2015-03-08|\n",
      "|      ellie goulding| love me like you do|       57|  2015-02-08|\n",
      "|lady gaga & bradl...|             shallow|       57|  2018-10-26|\n",
      "|calvin harris & d...|            one kiss|       52|  2018-04-20|\n",
      "|         jess glynne|        hold my hand|       51|  2015-03-29|\n",
      "|        shawn mendes|            stitches|       51|  2016-01-22|\n",
      "|        lukas graham|             7 years|       49|  2016-02-12|\n",
      "|               adele|               hello|       49|  2015-10-30|\n",
      "|                 omi|cheerleader (feli...|       48|  2015-05-03|\n",
      "+--------------------+--------------------+---------+------------+\n",
      "only showing top 20 rows\n",
      "\n"
     ]
    }
   ],
   "source": [
    "spark.sql('''\n",
    "            SELECT DISTINCT artist, title, COUNT(*) as num_weeks, MIN(week_of)\n",
    "            FROM test\n",
    "            WHERE peak_rank == 1\n",
    "            GROUP BY 1,2\n",
    "            ORDER BY 3 DESC\n",
    "            ''').show()"
   ]
  },
  {
   "cell_type": "markdown",
   "metadata": {},
   "source": [
    "## Average lifespan (songs that hit rank 1)"
   ]
  },
  {
   "cell_type": "code",
   "execution_count": 19,
   "metadata": {},
   "outputs": [
    {
     "name": "stdout",
     "output_type": "stream",
     "text": [
      "+------------------+\n",
      "|    avg(num_weeks)|\n",
      "+------------------+\n",
      "|26.708661417322833|\n",
      "+------------------+\n",
      "\n"
     ]
    }
   ],
   "source": [
    "spark.sql('''\n",
    "            SELECT AVG(num_weeks)\n",
    "            FROM (SELECT DISTINCT title, COUNT(*) as num_weeks\n",
    "                    FROM test\n",
    "                    WHERE peak_rank == 1\n",
    "                    GROUP BY 1\n",
    "                    ORDER BY 2 DESC)\n",
    "            ''').show()"
   ]
  },
  {
   "cell_type": "markdown",
   "metadata": {},
   "source": [
    "## Average lifespan (overall)"
   ]
  },
  {
   "cell_type": "code",
   "execution_count": 20,
   "metadata": {},
   "outputs": [
    {
     "name": "stdout",
     "output_type": "stream",
     "text": [
      "+-----------------+\n",
      "|   avg(num_weeks)|\n",
      "+-----------------+\n",
      "|9.980806142034549|\n",
      "+-----------------+\n",
      "\n"
     ]
    }
   ],
   "source": [
    "spark.sql('''\n",
    "            SELECT AVG(num_weeks)\n",
    "            FROM (SELECT title, COUNT(*) as num_weeks\n",
    "                    FROM test\n",
    "                    \n",
    "                    GROUP BY 1, artist\n",
    "                    ORDER BY 2 DESC)\n",
    "            ''').show()"
   ]
  },
  {
   "cell_type": "markdown",
   "metadata": {},
   "source": [
    "## Histogram of lifespans"
   ]
  },
  {
   "cell_type": "code",
   "execution_count": 79,
   "metadata": {},
   "outputs": [],
   "source": [
    "lifespan_count = spark.sql('''\n",
    "            SELECT artist, title, MAX(weeks_on_chart) as num_weeks\n",
    "            FROM test\n",
    "            GROUP BY artist, title''')"
   ]
  },
  {
   "cell_type": "code",
   "execution_count": 80,
   "metadata": {},
   "outputs": [],
   "source": [
    "lifespan_count = lifespan_count.rdd.map(lambda row: row.num_weeks).collect()"
   ]
  },
  {
   "cell_type": "code",
   "execution_count": 82,
   "metadata": {},
   "outputs": [
    {
     "data": {
      "image/png": "[encoded data removed]",
      "text/plain": [
       "<Figure size 720x432 with 1 Axes>"
      ]
     },
     "metadata": {
      "needs_background": "light"
     },
     "output_type": "display_data"
    }
   ],
   "source": [
    "fig, ax = plt.subplots(figsize=(10,6))\n",
    "ax.hist(lifespan_count, bins=50)\n",
    "ax.set_xlim(0, 120)\n",
    "\n",
    "ax.set_title(\"Lifespan Counts (Original)\", fontsize=20)\n",
    "ax.set_ylabel(\"Number of Songs\", fontsize=12)\n",
    "ax.set_xlabel(\"Lifespan(weeks)\", fontsize=12)\n",
    "ax.grid(alpha=0.15)\n",
    "plt.savefig(\"img/Lifespan_counts_original.png\")"
   ]
  },
  {
   "cell_type": "markdown",
   "metadata": {},
   "source": [
    "## Average rank for the song \"Shape of You\" by Ed Sheeran"
   ]
  },
  {
   "cell_type": "code",
   "execution_count": 21,
   "metadata": {},
   "outputs": [
    {
     "name": "stdout",
     "output_type": "stream",
     "text": [
      "+-----------------------------------+-------------------+\n",
      "|round(avg(CAST(rank AS BIGINT)), 2)|max(weeks_on_chart)|\n",
      "+-----------------------------------+-------------------+\n",
      "|                              42.52|                 97|\n",
      "+-----------------------------------+-------------------+\n",
      "\n"
     ]
    }
   ],
   "source": [
    "spark.sql('''\n",
    "            SELECT ROUND(AVG(rank),2), MAX(weeks_on_chart)\n",
    "            FROM test\n",
    "            WHERE title = \"shape of you\"\n",
    "            ''').show()"
   ]
  },
  {
   "cell_type": "markdown",
   "metadata": {},
   "source": [
    "## Average rank and number of weeks on chart per song"
   ]
  },
  {
   "cell_type": "code",
   "execution_count": 22,
   "metadata": {},
   "outputs": [
    {
     "name": "stdout",
     "output_type": "stream",
     "text": [
      "+--------------------+--------------------+------------------+--------+\n",
      "|              artist|               title|         avg(rank)|count(1)|\n",
      "+--------------------+--------------------+------------------+--------+\n",
      "|          elton john| step into christmas|  38.8421052631579|      19|\n",
      "|clean bandit ft e...|                mama|              98.0|       1|\n",
      "|            m o/chip|           wondering|              91.0|       1|\n",
      "|               drake|             nonstop| 40.84615384615385|      13|\n",
      "|florence & the ma...|             big god|              97.0|       1|\n",
      "|raye/mabel/steffl...|           cigarette|              55.5|      16|\n",
      "|   jax jones ft raye|   you don't know me| 36.24242424242424|      33|\n",
      "|ryan gosling & em...|       city of stars|             68.25|       4|\n",
      "|kygo ft ella hend...|        here for you|              52.0|      10|\n",
      "|sigma ft paloma f...|            changing| 65.22222222222223|      18|\n",
      "|        adam lambert|          ghost town|              76.5|       2|\n",
      "|               ciara|               i bet|              72.0|       7|\n",
      "|charli xcx ft rit...|            doing it| 37.81818181818182|      11|\n",
      "|       bars & melody|        keep smiling|              52.0|       1|\n",
      "|beyonce/glover/ei...|can you feel the ...|              91.5|       2|\n",
      "|clean bandit ft d...|                solo| 35.89655172413793|      29|\n",
      "|        shawn mendes|where were you in...|              91.0|       1|\n",
      "|               drake| diplomatic immunity|              61.2|       5|\n",
      "|        lil uzi vert|       xo tour llif3|53.205128205128204|      39|\n",
      "|teddy mac the son...|you make me feel ...|              43.0|       1|\n",
      "+--------------------+--------------------+------------------+--------+\n",
      "only showing top 20 rows\n",
      "\n"
     ]
    }
   ],
   "source": [
    "spark.sql('''\n",
    "            SELECT artist, title, AVG(rank), COUNT(*)\n",
    "            FROM test\n",
    "            GROUP BY artist, title''').show()"
   ]
  },
  {
   "cell_type": "markdown",
   "metadata": {},
   "source": [
    "## Create new db of new songs only"
   ]
  },
  {
   "cell_type": "markdown",
   "metadata": {},
   "source": [
    "## Left semi join to remove non-new songs from original db"
   ]
  },
  {
   "cell_type": "code",
   "execution_count": 23,
   "metadata": {},
   "outputs": [],
   "source": [
    "new_songs = spark.sql('''\n",
    "            SELECT artist, title\n",
    "            FROM test\n",
    "            WHERE last_week_rank like \"%new%\"''')"
   ]
  },
  {
   "cell_type": "code",
   "execution_count": 24,
   "metadata": {},
   "outputs": [],
   "source": [
    "new_songs_2015_2019 = df.join(new_songs, ['title', 'artist'],how='leftsemi')"
   ]
  },
  {
   "cell_type": "code",
   "execution_count": 25,
   "metadata": {},
   "outputs": [
    {
     "data": {
      "text/plain": [
       "22822"
      ]
     },
     "execution_count": 25,
     "metadata": {},
     "output_type": "execute_result"
    }
   ],
   "source": [
    "new_songs_2015_2019.count()"
   ]
  },
  {
   "cell_type": "code",
   "execution_count": 26,
   "metadata": {},
   "outputs": [],
   "source": [
    "new_songs_2015_2019.createOrReplaceTempView('count_test')"
   ]
  },
  {
   "cell_type": "code",
   "execution_count": 27,
   "metadata": {},
   "outputs": [
    {
     "data": {
      "text/plain": [
       "2339"
      ]
     },
     "execution_count": 27,
     "metadata": {},
     "output_type": "execute_result"
    }
   ],
   "source": [
    "spark.sql('''\n",
    "            SELECT artist, title\n",
    "            FROM count_test\n",
    "            GROUP BY artist, title''').count()"
   ]
  },
  {
   "cell_type": "code",
   "execution_count": 28,
   "metadata": {},
   "outputs": [],
   "source": [
    "peak_75 = spark.sql('''\n",
    "            SELECT artist, title, MIN(peak_rank) as real_peak\n",
    "            FROM test\n",
    "            \n",
    "            GROUP BY artist, title\n",
    "            HAVING real_peak <= 75\n",
    "            ''')"
   ]
  },
  {
   "cell_type": "code",
   "execution_count": 29,
   "metadata": {},
   "outputs": [
    {
     "data": {
      "text/plain": [
       "2048"
      ]
     },
     "execution_count": 29,
     "metadata": {},
     "output_type": "execute_result"
    }
   ],
   "source": [
    "peak_75.count()"
   ]
  },
  {
   "cell_type": "code",
   "execution_count": 30,
   "metadata": {},
   "outputs": [],
   "source": [
    "songs_2015_2019 = new_songs_2015_2019.join(peak_75, ['title', 'artist'],how='leftsemi')"
   ]
  },
  {
   "cell_type": "code",
   "execution_count": 31,
   "metadata": {},
   "outputs": [],
   "source": [
    "songs_2015_2019.createOrReplaceTempView('test2')"
   ]
  },
  {
   "cell_type": "code",
   "execution_count": 32,
   "metadata": {},
   "outputs": [
    {
     "name": "stdout",
     "output_type": "stream",
     "text": [
      "+--------------------+--------------------+----+--------------+--------------------+---------+--------------+----------+\n",
      "|               title|              artist|rank|last_week_rank|               label|peak_rank|weeks_on_chart|   week_of|\n",
      "+--------------------+--------------------+----+--------------+--------------------+---------+--------------+----------+\n",
      "|               river|      ellie goulding|   1|            11|             polydor|        1|             5|2019-12-27|\n",
      "|              own it|stormzy/ed sheera...|   5|             2|      atlantic/merky|        2|             5|2019-12-27|\n",
      "|happy christmas (...|         john legend|   9|            34|            columbia|        9|             3|2019-12-27|\n",
      "|       before you go|       lewis capaldi|  12|             3|                 emi|        2|             6|2019-12-27|\n",
      "|     don't start now|            dua lipa|  14|             4|      warner records|        2|             8|2019-12-27|\n",
      "|             roxanne|      arizona zervas|  16|             7|          sony music|        5|             8|2019-12-27|\n",
      "|santa's coming fo...|                 sia|  17|            36|atlantic/monkey p...|       17|            12|2019-12-27|\n",
      "|        dance monkey|           tones & i|  20|            10|          parlophone|        1|            21|2019-12-27|\n",
      "|cozy little chris...|          katy perry|  22|            43|              virgin|       22|             7|2019-12-27|\n",
      "| everything i wanted|       billie eilish|  23|            13|          interscope|        3|             6|2019-12-27|\n",
      "|           adore you|        harry styles|  26|            12|            columbia|       11|             3|2019-12-27|\n",
      "|    jingle bell rock|         bobby helms|  30|            61|                 mca|       30|            10|2019-12-27|\n",
      "|christmas (baby p...|        darlene love|  33|            70|   legacy recordings|       22|             8|2019-12-27|\n",
      "|          pump it up|               endor|  36|            23|            defected|       20|            11|2019-12-27|\n",
      "|            audacity|stormzy ft headie...|  38|             6|      atlantic/merky|        6|             2|2019-12-27|\n",
      "|           vossi bop|             stormzy|  40|            re|               merky|        1|            32|2019-12-27|\n",
      "|     blinding lights|              weeknd|  41|            20|    republic records|       12|             4|2019-12-27|\n",
      "| lose you to love me|        selena gomez|  43|            22|          interscope|        3|            10|2019-12-27|\n",
      "|        this is real|jax jones ft ella...|  44|            30|             polydor|       18|            14|2019-12-27|\n",
      "|             falling|       trevor daniel|  45|            26|               alamo|       26|             5|2019-12-27|\n",
      "+--------------------+--------------------+----+--------------+--------------------+---------+--------------+----------+\n",
      "only showing top 20 rows\n",
      "\n"
     ]
    }
   ],
   "source": [
    "spark.sql('''\n",
    "            SELECT *\n",
    "            FROM test2''').show()"
   ]
  },
  {
   "cell_type": "code",
   "execution_count": 33,
   "metadata": {},
   "outputs": [
    {
     "name": "stdout",
     "output_type": "stream",
     "text": [
      "+--------+\n",
      "|count(1)|\n",
      "+--------+\n",
      "|   21880|\n",
      "+--------+\n",
      "\n"
     ]
    }
   ],
   "source": [
    "spark.sql('''\n",
    "            SELECT COUNT(*)\n",
    "            FROM test2''').show()"
   ]
  },
  {
   "cell_type": "code",
   "execution_count": 34,
   "metadata": {},
   "outputs": [
    {
     "name": "stdout",
     "output_type": "stream",
     "text": [
      "+--------------------+--------------------+\n",
      "|              artist|               title|\n",
      "+--------------------+--------------------+\n",
      "|               drake|             nonstop|\n",
      "|raye/mabel/steffl...|           cigarette|\n",
      "|   jax jones ft raye|   you don't know me|\n",
      "|ryan gosling & em...|       city of stars|\n",
      "|kygo ft ella hend...|        here for you|\n",
      "|        adam lambert|          ghost town|\n",
      "|               ciara|               i bet|\n",
      "|charli xcx ft rit...|            doing it|\n",
      "|       bars & melody|        keep smiling|\n",
      "|clean bandit ft d...|                solo|\n",
      "|               drake| diplomatic immunity|\n",
      "|        lil uzi vert|       xo tour llif3|\n",
      "|teddy mac the son...|you make me feel ...|\n",
      "|          little mix|                hair|\n",
      "|           aronchupa|    i'm an albatraoz|\n",
      "|dj fresh ft ella ...|             gravity|\n",
      "|               drake|         behind barz|\n",
      "| lil nas x & cardi b|               rodeo|\n",
      "|asap rocky ft skepta|praise the lord (...|\n",
      "|kygo ft justin jesso|          stargazing|\n",
      "+--------------------+--------------------+\n",
      "only showing top 20 rows\n",
      "\n"
     ]
    }
   ],
   "source": [
    "spark.sql('''\n",
    "            SELECT artist, title\n",
    "            FROM test2\n",
    "            GROUP BY artist, title''').show()"
   ]
  },
  {
   "cell_type": "code",
   "execution_count": 35,
   "metadata": {},
   "outputs": [
    {
     "name": "stdout",
     "output_type": "stream",
     "text": [
      "+--------+\n",
      "|count(1)|\n",
      "+--------+\n",
      "|    1785|\n",
      "+--------+\n",
      "\n"
     ]
    }
   ],
   "source": [
    "spark.sql('''\n",
    "            SELECT COUNT(*)\n",
    "            FROM (SELECT artist, title\n",
    "                FROM test2\n",
    "                GROUP BY artist, title)''').show()"
   ]
  },
  {
   "cell_type": "code",
   "execution_count": 36,
   "metadata": {},
   "outputs": [
    {
     "name": "stdout",
     "output_type": "stream",
     "text": [
      "root\n",
      " |-- title: string (nullable = true)\n",
      " |-- artist: string (nullable = true)\n",
      " |-- rank: integer (nullable = true)\n",
      " |-- last_week_rank: string (nullable = true)\n",
      " |-- label: string (nullable = true)\n",
      " |-- peak_rank: integer (nullable = true)\n",
      " |-- weeks_on_chart: integer (nullable = true)\n",
      " |-- week_of: date (nullable = true)\n",
      "\n"
     ]
    }
   ],
   "source": [
    "songs_2015_2019.printSchema()"
   ]
  },
  {
   "cell_type": "markdown",
   "metadata": {},
   "source": [
    "## number of appearances per song and avg rank"
   ]
  },
  {
   "cell_type": "code",
   "execution_count": 37,
   "metadata": {},
   "outputs": [
    {
     "name": "stdout",
     "output_type": "stream",
     "text": [
      "+--------------------+--------------------+--------+-----------------------------------+------------+\n",
      "|               title|              artist|count(1)|round(avg(CAST(rank AS BIGINT)), 2)|week_entered|\n",
      "+--------------------+--------------------+--------+-----------------------------------+------------+\n",
      "|             perfect|          ed sheeran|     110|                              48.09|  2017-03-10|\n",
      "|        shape of you|          ed sheeran|      97|                              42.52|  2017-01-13|\n",
      "|             shotgun|         george ezra|      87|                              35.99|  2018-03-30|\n",
      "|             lean on|major lazer ft mo...|      79|                              45.92|  2015-03-08|\n",
      "|          this is me|settle/greatest s...|      75|                              40.84|  2018-01-05|\n",
      "|     shut up & dance|       walk the moon|      72|                              54.63|  2015-06-07|\n",
      "|can't stop the fe...|   justin timberlake|      71|                              46.94|  2016-05-13|\n",
      "|               sorry|       justin bieber|      68|                              41.43|  2015-10-30|\n",
      "|            stitches|        shawn mendes|      67|                              47.63|  2015-09-25|\n",
      "|       cheap thrills|                 sia|      66|                              39.12|  2016-02-19|\n",
      "|           new rules|            dua lipa|      66|                              43.92|  2017-07-14|\n",
      "|           one dance|drake ft wizkid &...|      65|                              33.86|  2016-04-08|\n",
      "|       love yourself|       justin bieber|      64|                              44.41|  2015-11-20|\n",
      "|    leave a light on|          tom walker|      63|                              51.38|  2018-01-05|\n",
      "|    what do you mean|       justin bieber|      62|                              37.92|  2015-09-04|\n",
      "|             shallow|lady gaga & bradl...|      60|                              43.43|  2018-10-05|\n",
      "|                king|       years & years|      59|                              51.51|  2015-03-08|\n",
      "|          high hopes|  panic at the disco|      58|                              50.47|  2018-06-01|\n",
      "|           the hills|              weeknd|      57|                              40.25|  2015-05-31|\n",
      "|           lush life|        zara larsson|      57|                              44.19|  2016-01-08|\n",
      "+--------------------+--------------------+--------+-----------------------------------+------------+\n",
      "only showing top 20 rows\n",
      "\n"
     ]
    }
   ],
   "source": [
    "spark.sql('''\n",
    "            SELECT title, artist, count(*), ROUND(AVG(rank),2), MIN(week_of) as week_entered\n",
    "            FROM test2\n",
    "            GROUP BY title, artist\n",
    "            ORDER BY 3 DESC''').show()"
   ]
  },
  {
   "cell_type": "code",
   "execution_count": 38,
   "metadata": {},
   "outputs": [
    {
     "name": "stdout",
     "output_type": "stream",
     "text": [
      "+------------------+\n",
      "|        avg(count)|\n",
      "+------------------+\n",
      "|17.761658031088082|\n",
      "+------------------+\n",
      "\n"
     ]
    }
   ],
   "source": [
    "spark.sql('''\n",
    "            SELECT AVG(count)\n",
    "            FROM (SELECT title, artist, COUNT(*) as count\n",
    "                FROM test2\n",
    "                GROUP BY 1,2\n",
    "                HAVING count >4\n",
    "                ORDER BY 3)\n",
    "            ''').show()"
   ]
  },
  {
   "cell_type": "markdown",
   "metadata": {},
   "source": [
    "## Number of appearances by label"
   ]
  },
  {
   "cell_type": "code",
   "execution_count": 39,
   "metadata": {},
   "outputs": [
    {
     "name": "stdout",
     "output_type": "stream",
     "text": [
      "+--------------------+--------+\n",
      "|               label|count(1)|\n",
      "+--------------------+--------+\n",
      "|            atlantic|    1924|\n",
      "|          interscope|    1349|\n",
      "|            columbia|    1269|\n",
      "|             polydor|    1118|\n",
      "|                 rca|     926|\n",
      "|    republic records|     758|\n",
      "|          syco music|     710|\n",
      "|                 emi|     705|\n",
      "|              virgin|     671|\n",
      "|              asylum|     645|\n",
      "|cash money/republ...|     619|\n",
      "|          parlophone|     602|\n",
      "|              island|     558|\n",
      "|         warner bros|     540|\n",
      "|             capitol|     460|\n",
      "|             def jam|     451|\n",
      "|   ministry of sound|     414|\n",
      "|            positiva|     360|\n",
      "|                epic|     345|\n",
      "|          relentless|     339|\n",
      "+--------------------+--------+\n",
      "only showing top 20 rows\n",
      "\n"
     ]
    }
   ],
   "source": [
    "spark.sql('''\n",
    "            SELECT label, COUNT(*)\n",
    "            FROM test2\n",
    "            GROUP BY 1\n",
    "            ORDER BY 2 DESC\n",
    "            ''').show()"
   ]
  },
  {
   "cell_type": "code",
   "execution_count": 40,
   "metadata": {},
   "outputs": [
    {
     "name": "stdout",
     "output_type": "stream",
     "text": [
      "+---------------------+\n",
      "|count(DISTINCT label)|\n",
      "+---------------------+\n",
      "|                  315|\n",
      "+---------------------+\n",
      "\n"
     ]
    }
   ],
   "source": [
    "spark.sql('''\n",
    "            SELECT COUNT(DISTINCT label)\n",
    "            FROM test2\n",
    "            ''').show()"
   ]
  },
  {
   "cell_type": "markdown",
   "metadata": {},
   "source": [
    "## Average rank of each label"
   ]
  },
  {
   "cell_type": "code",
   "execution_count": 41,
   "metadata": {},
   "outputs": [
    {
     "name": "stdout",
     "output_type": "stream",
     "text": [
      "+--------------------+---------+--------+\n",
      "|               label|num_songs|avg_rank|\n",
      "+--------------------+---------+--------+\n",
      "|          interscope|      123|   47.68|\n",
      "|            atlantic|      103|   45.62|\n",
      "|            columbia|       91|   45.94|\n",
      "|             polydor|       90|   48.54|\n",
      "|                 rca|       76|   51.01|\n",
      "|              virgin|       75|   50.71|\n",
      "|cash money/republ...|       64|   48.47|\n",
      "|              island|       56|   50.87|\n",
      "|          syco music|       53|   44.35|\n",
      "|                 emi|       52|   45.19|\n",
      "|    republic records|       46|   42.41|\n",
      "|             def jam|       44|   51.08|\n",
      "|          parlophone|       43|   46.49|\n",
      "|         warner bros|       37|   46.71|\n",
      "|             capitol|       33|   44.19|\n",
      "|              asylum|       32|   44.52|\n",
      "|   ministry of sound|       30|    44.4|\n",
      "| republic records/xo|       23|   45.06|\n",
      "|                epic|       23|   52.12|\n",
      "|          relentless|       18|   52.24|\n",
      "+--------------------+---------+--------+\n",
      "only showing top 20 rows\n",
      "\n"
     ]
    }
   ],
   "source": [
    "spark.sql('''\n",
    "            SELECT label, COUNT(DISTINCT title) AS num_songs, ROUND(AVG(rank),2) AS avg_rank\n",
    "            FROM test2\n",
    "            GROUP BY 1\n",
    "            ORDER BY 2 DESC\n",
    "            ''').show()"
   ]
  },
  {
   "cell_type": "code",
   "execution_count": 42,
   "metadata": {},
   "outputs": [
    {
     "name": "stdout",
     "output_type": "stream",
     "text": [
      "+---------------------------+---------+--------+\n",
      "|label                      |num_songs|avg_rank|\n",
      "+---------------------------+---------+--------+\n",
      "|republic records           |46       |42.41   |\n",
      "|positiva                   |18       |43.13   |\n",
      "|capitol                    |33       |44.19   |\n",
      "|syco music                 |53       |44.35   |\n",
      "|ministry of sound          |30       |44.4    |\n",
      "|asylum                     |32       |44.52   |\n",
      "|republic records/xo        |23       |45.06   |\n",
      "|emi                        |52       |45.19   |\n",
      "|atlantic                   |103      |45.62   |\n",
      "|columbia                   |91       |45.94   |\n",
      "|parlophone                 |43       |46.49   |\n",
      "|warner bros                |37       |46.71   |\n",
      "|interscope                 |123      |47.68   |\n",
      "|cash money/republic records|64       |48.47   |\n",
      "|polydor                    |90       |48.54   |\n",
      "|virgin                     |75       |50.71   |\n",
      "|island                     |56       |50.87   |\n",
      "|rca                        |76       |51.01   |\n",
      "|def jam                    |44       |51.08   |\n",
      "|epic                       |23       |52.12   |\n",
      "|relentless                 |18       |52.24   |\n",
      "+---------------------------+---------+--------+\n",
      "\n"
     ]
    }
   ],
   "source": [
    "spark.sql('''\n",
    "            SELECT label, COUNT(DISTINCT title) AS num_songs, ROUND(AVG(rank),2) AS avg_rank\n",
    "            FROM test2\n",
    "            GROUP BY 1\n",
    "            HAVING num_songs >15\n",
    "            ORDER BY 3\n",
    "            ''').show(50, False)"
   ]
  },
  {
   "cell_type": "markdown",
   "metadata": {},
   "source": [
    "## Average rank per label (without collabs)"
   ]
  },
  {
   "cell_type": "code",
   "execution_count": 43,
   "metadata": {},
   "outputs": [
    {
     "name": "stdout",
     "output_type": "stream",
     "text": [
      "+-----------------+---------------------+--------+\n",
      "|label            |count(DISTINCT title)|avg_rank|\n",
      "+-----------------+---------------------+--------+\n",
      "|interscope       |123                  |47.68   |\n",
      "|atlantic         |103                  |45.62   |\n",
      "|columbia         |91                   |45.94   |\n",
      "|polydor          |90                   |48.54   |\n",
      "|rca              |76                   |51.01   |\n",
      "|virgin           |75                   |50.71   |\n",
      "|island           |56                   |50.87   |\n",
      "|syco music       |53                   |44.35   |\n",
      "|emi              |52                   |45.19   |\n",
      "|republic records |46                   |42.41   |\n",
      "|def jam          |44                   |51.08   |\n",
      "|parlophone       |43                   |46.49   |\n",
      "|warner bros      |37                   |46.71   |\n",
      "|capitol          |33                   |44.19   |\n",
      "|asylum           |32                   |44.52   |\n",
      "|ministry of sound|30                   |44.4    |\n",
      "|epic             |23                   |52.12   |\n",
      "|positiva         |18                   |43.13   |\n",
      "|relentless       |18                   |52.24   |\n",
      "|black butter     |15                   |49.92   |\n",
      "+-----------------+---------------------+--------+\n",
      "only showing top 20 rows\n",
      "\n"
     ]
    }
   ],
   "source": [
    "spark.sql('''\n",
    "            SELECT label, COUNT(DISTINCT title), ROUND(AVG(rank),2) AS avg_rank\n",
    "            FROM test2\n",
    "            WHERE label NOT IN (SELECT label\n",
    "                                FROM test2\n",
    "                                WHERE label like \"%/%\"\n",
    "                                GROUP BY label)\n",
    "            GROUP BY 1\n",
    "            ORDER BY 2 DESC\n",
    "            ''').show(20, False)"
   ]
  },
  {
   "cell_type": "markdown",
   "metadata": {},
   "source": [
    "## Most appearances by artist"
   ]
  },
  {
   "cell_type": "code",
   "execution_count": 44,
   "metadata": {},
   "outputs": [
    {
     "name": "stdout",
     "output_type": "stream",
     "text": [
      "+--------------+--------+--------+\n",
      "|        artist|count(1)|avg_rank|\n",
      "+--------------+--------+--------+\n",
      "|    ed sheeran|     440|   45.51|\n",
      "|         drake|     328|   46.52|\n",
      "| justin bieber|     258|   45.78|\n",
      "| ariana grande|     254|   39.24|\n",
      "|    little mix|     241|   45.37|\n",
      "|  shawn mendes|     212|   42.69|\n",
      "|   jess glynne|     203|   43.39|\n",
      "|   george ezra|     194|   45.12|\n",
      "|        weeknd|     183|   44.96|\n",
      "|      dua lipa|     172|   41.03|\n",
      "| lewis capaldi|     158|   29.18|\n",
      "| years & years|     156|    45.3|\n",
      "|  zara larsson|     142|   43.61|\n",
      "|       stormzy|     141|   48.94|\n",
      "|ellie goulding|     139|   44.53|\n",
      "|   post malone|     136|   45.18|\n",
      "|  taylor swift|     131|   50.73|\n",
      "|    anne-marie|     122|   44.04|\n",
      "|      coldplay|     120|   47.46|\n",
      "|         adele|     118|    48.0|\n",
      "+--------------+--------+--------+\n",
      "only showing top 20 rows\n",
      "\n"
     ]
    }
   ],
   "source": [
    "spark.sql('''\n",
    "            SELECT DISTINCT artist, COUNT(*), ROUND(AVG(rank),2) AS avg_rank\n",
    "            FROM test2\n",
    "            GROUP BY 1\n",
    "            ORDER BY 2 DESC''').show()"
   ]
  },
  {
   "cell_type": "markdown",
   "metadata": {},
   "source": [
    "## More Ed Sheeran"
   ]
  },
  {
   "cell_type": "code",
   "execution_count": 45,
   "metadata": {},
   "outputs": [
    {
     "name": "stdout",
     "output_type": "stream",
     "text": [
      "+------------------------------+--------+----+------------+\n",
      "|title                         |count(1)|peak|min(week_of)|\n",
      "+------------------------------+--------+----+------------+\n",
      "|perfect                       |110     |1   |2017-03-10  |\n",
      "|shape of you                  |97      |1   |2017-01-13  |\n",
      "|castle on the hill            |53      |2   |2017-01-13  |\n",
      "|galway girl                   |31      |2   |2017-03-10  |\n",
      "|supermarket flowers           |21      |8   |2017-03-10  |\n",
      "|happier                       |18      |6   |2017-03-10  |\n",
      "|what do i know                |17      |9   |2017-03-10  |\n",
      "|new man                       |14      |5   |2017-03-10  |\n",
      "|dive                          |13      |8   |2017-03-10  |\n",
      "|barcelona                     |13      |12  |2017-03-10  |\n",
      "|how would you feel (paean)    |12      |2   |2017-02-24  |\n",
      "|nancy mulligan                |10      |13  |2017-03-10  |\n",
      "|bibia be ye ye                |8       |18  |2017-03-10  |\n",
      "|hearts don't break around here|8       |15  |2017-03-10  |\n",
      "|eraser                        |8       |14  |2017-03-10  |\n",
      "|save myself                   |6       |19  |2017-03-10  |\n",
      "|i will take you home          |1       |69  |2015-04-05  |\n",
      "+------------------------------+--------+----+------------+\n",
      "\n"
     ]
    }
   ],
   "source": [
    "spark.sql('''\n",
    "            SELECT title, COUNT(*), MIN(rank) as peak, MIN(week_of)\n",
    "            FROM test2\n",
    "            WHERE artist = \"ed sheeran\"\n",
    "            GROUP BY 1\n",
    "            ORDER BY 2 DESC\n",
    "            ''').show(30, False)"
   ]
  },
  {
   "cell_type": "code",
   "execution_count": 46,
   "metadata": {},
   "outputs": [
    {
     "name": "stdout",
     "output_type": "stream",
     "text": [
      "+--------------------------+--------+----+------------+\n",
      "|title                     |count(1)|peak|min(week_of)|\n",
      "+--------------------------+--------+----+------------+\n",
      "|perfect                   |110     |1   |2017-03-10  |\n",
      "|shape of you              |97      |1   |2017-01-13  |\n",
      "|castle on the hill        |53      |2   |2017-01-13  |\n",
      "|galway girl               |31      |2   |2017-03-10  |\n",
      "|new man                   |14      |5   |2017-03-10  |\n",
      "|how would you feel (paean)|12      |2   |2017-02-24  |\n",
      "+--------------------------+--------+----+------------+\n",
      "\n"
     ]
    }
   ],
   "source": [
    "spark.sql('''\n",
    "            SELECT title, COUNT(*), MIN(rank) as peak, MIN(week_of)\n",
    "            FROM test2\n",
    "            WHERE artist = \"ed sheeran\"\n",
    "            GROUP BY 1\n",
    "            HAVING peak < 6\n",
    "            ORDER BY 2 DESC\n",
    "            ''').show(20, False)"
   ]
  },
  {
   "cell_type": "code",
   "execution_count": 47,
   "metadata": {},
   "outputs": [
    {
     "name": "stdout",
     "output_type": "stream",
     "text": [
      "+---------------------+\n",
      "|count(DISTINCT title)|\n",
      "+---------------------+\n",
      "|                   17|\n",
      "+---------------------+\n",
      "\n"
     ]
    }
   ],
   "source": [
    "spark.sql('''\n",
    "            SELECT COUNT(DISTINCT title)\n",
    "            FROM test2\n",
    "            WHERE artist = \"ed sheeran\"\n",
    "            \n",
    "            ''').show()"
   ]
  },
  {
   "cell_type": "code",
   "execution_count": 48,
   "metadata": {},
   "outputs": [
    {
     "name": "stdout",
     "output_type": "stream",
     "text": [
      "root\n",
      " |-- rank: integer (nullable = true)\n",
      " |-- last_week_rank: string (nullable = true)\n",
      " |-- title: string (nullable = true)\n",
      " |-- artist: string (nullable = true)\n",
      " |-- label: string (nullable = true)\n",
      " |-- peak_rank: integer (nullable = true)\n",
      " |-- weeks_on_chart: integer (nullable = true)\n",
      " |-- week_of: date (nullable = true)\n",
      "\n",
      "root\n",
      " |-- title: string (nullable = true)\n",
      " |-- artist: string (nullable = true)\n",
      " |-- rank: integer (nullable = true)\n",
      " |-- last_week_rank: string (nullable = true)\n",
      " |-- label: string (nullable = true)\n",
      " |-- peak_rank: integer (nullable = true)\n",
      " |-- weeks_on_chart: integer (nullable = true)\n",
      " |-- week_of: date (nullable = true)\n",
      "\n"
     ]
    }
   ],
   "source": [
    "df.printSchema() #table = test\n",
    "songs_2015_2019.printSchema() # table = test2"
   ]
  },
  {
   "cell_type": "markdown",
   "metadata": {},
   "source": [
    "## Life of songs (ordered by first entrance date) with avg rank over life"
   ]
  },
  {
   "cell_type": "code",
   "execution_count": 49,
   "metadata": {},
   "outputs": [
    {
     "name": "stdout",
     "output_type": "stream",
     "text": [
      "+--------------------+--------------------+---------+--------+-------------+\n",
      "|              artist|               title|num_weeks|avg_rank|entrance_date|\n",
      "+--------------------+--------------------+---------+--------+-------------+\n",
      "|        fall out boy|        irresistible|        2|    75.5|   2015-01-11|\n",
      "|                 omi|         cheerleader|       16|   60.81|   2015-01-11|\n",
      "|kygo ft conrad se...|           firestone|       55|   46.56|   2015-01-11|\n",
      "|tchami ft kaleem ...|           promesses|        9|   43.33|   2015-01-11|\n",
      "|fuse odg ft killb...|    thinking about u|        3|   80.67|   2015-01-11|\n",
      "|              tulisa|  living without you|        1|    44.0|   2015-01-11|\n",
      "|           james bay|               scars|        9|   76.89|   2015-01-11|\n",
      "|              avicii|          the nights|       33|   35.27|   2015-01-18|\n",
      "|kid ink ft chris ...|               hotel|        5|    53.4|   2015-01-18|\n",
      "|    big sean ft e-40|i don't f**k with...|       13|   81.54|   2015-01-18|\n",
      "|        fall out boy|american beauty/a...|        3|    75.0|   2015-01-18|\n",
      "|        fall out boy|         uma thurman|        3|    83.0|   2015-01-18|\n",
      "|          rae morris|   under the shadows|        3|   66.33|   2015-01-18|\n",
      "|noel gallagher's ...|ballad of the mig...|        4|   67.25|   2015-01-18|\n",
      "|    pitbull ft ne-yo|   time of our lives|       25|   54.12|   2015-01-25|\n",
      "|majestic & jungle 70|creeping in the dark|        1|    75.0|   2015-01-25|\n",
      "|     nathan grisdale|            only one|        1|    67.0|   2015-01-25|\n",
      "|            maroon 5|               sugar|       45|   37.93|   2015-01-25|\n",
      "|        selena gomez|the heart wants w...|        3|   58.67|   2015-02-01|\n",
      "|rihanna/kanye wes...|    fourfive seconds|       28|    28.5|   2015-02-01|\n",
      "+--------------------+--------------------+---------+--------+-------------+\n",
      "only showing top 20 rows\n",
      "\n"
     ]
    }
   ],
   "source": [
    "spark.sql('''\n",
    "            SELECT artist, title, COUNT(*) AS num_weeks, ROUND(AVG(rank),2) AS avg_rank, MIN(week_of) AS entrance_date\n",
    "            FROM test2\n",
    "            GROUP BY 1,2\n",
    "            ORDER BY 5''').show()"
   ]
  },
  {
   "cell_type": "markdown",
   "metadata": {},
   "source": [
    "## starting rank"
   ]
  },
  {
   "cell_type": "code",
   "execution_count": 50,
   "metadata": {},
   "outputs": [
    {
     "name": "stdout",
     "output_type": "stream",
     "text": [
      "+--------------------+--------------------+----+----------+\n",
      "|              artist|               title|rank|   week_of|\n",
      "+--------------------+--------------------+----+----------+\n",
      "|fuse odg ft killb...|    thinking about u|  79|2015-01-11|\n",
      "|              tulisa|  living without you|  44|2015-01-11|\n",
      "|kygo ft conrad se...|           firestone|  97|2015-01-11|\n",
      "|           james bay|               scars|  63|2015-01-11|\n",
      "|                 omi|         cheerleader|  96|2015-01-11|\n",
      "|tchami ft kaleem ...|           promesses|   7|2015-01-11|\n",
      "|        fall out boy|        irresistible|  70|2015-01-11|\n",
      "|              avicii|          the nights|  16|2015-01-18|\n",
      "|        fall out boy|american beauty/a...|  89|2015-01-18|\n",
      "|noel gallagher's ...|ballad of the mig...|  75|2015-01-18|\n",
      "|kid ink ft chris ...|               hotel|  43|2015-01-18|\n",
      "|        fall out boy|         uma thurman|  71|2015-01-18|\n",
      "|    big sean ft e-40|i don't f**k with...|  97|2015-01-18|\n",
      "|          rae morris|   under the shadows|  53|2015-01-18|\n",
      "|     nathan grisdale|            only one|  67|2015-01-25|\n",
      "|majestic & jungle 70|creeping in the dark|  75|2015-01-25|\n",
      "|            maroon 5|               sugar|  55|2015-01-25|\n",
      "|    pitbull ft ne-yo|   time of our lives|  81|2015-01-25|\n",
      "|        selena gomez|the heart wants w...|  30|2015-02-01|\n",
      "|hannah wants & ch...|              rhymes|  13|2015-02-01|\n",
      "+--------------------+--------------------+----+----------+\n",
      "only showing top 20 rows\n",
      "\n"
     ]
    }
   ],
   "source": [
    "spark.sql('''\n",
    "            SELECT artist, title, rank, week_of\n",
    "            FROM test2\n",
    "            WHERE weeks_on_chart = 1\n",
    "            ORDER BY 4''').show()"
   ]
  },
  {
   "cell_type": "markdown",
   "metadata": {},
   "source": [
    "## Final DF"
   ]
  },
  {
   "cell_type": "code",
   "execution_count": 51,
   "metadata": {},
   "outputs": [],
   "source": [
    "final_df = spark.sql('''\n",
    "            SELECT artist, title, COUNT(*) AS num_weeks, ROUND(AVG(rank),2) AS avg_rank, MIN(week_of) AS entrance_date\n",
    "            FROM test2\n",
    "            GROUP BY 1,2\n",
    "            ORDER BY 5''')"
   ]
  },
  {
   "cell_type": "code",
   "execution_count": 52,
   "metadata": {},
   "outputs": [],
   "source": [
    "final_df.createOrReplaceTempView('test3')"
   ]
  },
  {
   "cell_type": "code",
   "execution_count": 53,
   "metadata": {},
   "outputs": [
    {
     "name": "stdout",
     "output_type": "stream",
     "text": [
      "root\n",
      " |-- artist: string (nullable = true)\n",
      " |-- title: string (nullable = true)\n",
      " |-- num_weeks: long (nullable = false)\n",
      " |-- avg_rank: double (nullable = true)\n",
      " |-- entrance_date: date (nullable = true)\n",
      "\n"
     ]
    }
   ],
   "source": [
    "final_df.printSchema()"
   ]
  },
  {
   "cell_type": "code",
   "execution_count": 54,
   "metadata": {},
   "outputs": [
    {
     "name": "stdout",
     "output_type": "stream",
     "text": [
      "+--------+\n",
      "|count(1)|\n",
      "+--------+\n",
      "|    1785|\n",
      "+--------+\n",
      "\n"
     ]
    }
   ],
   "source": [
    "spark.sql('''\n",
    "            SELECT COUNT(*)\n",
    "            FROM test3''').show()"
   ]
  },
  {
   "cell_type": "code",
   "execution_count": 55,
   "metadata": {},
   "outputs": [],
   "source": [
    "survival = spark.sql('''\n",
    "            SELECT *\n",
    "            FROM test3\n",
    "            ''')"
   ]
  },
  {
   "cell_type": "code",
   "execution_count": 56,
   "metadata": {},
   "outputs": [],
   "source": [
    "lifespan = survival.rdd.map(lambda row: row.num_weeks).collect()"
   ]
  },
  {
   "cell_type": "code",
   "execution_count": 57,
   "metadata": {},
   "outputs": [
    {
     "data": {
      "image/png": "[encoded data removed]",
      "text/plain": [
       "<Figure size 720x432 with 1 Axes>"
      ]
     },
     "metadata": {
      "needs_background": "light"
     },
     "output_type": "display_data"
    }
   ],
   "source": [
    "fig, ax = plt.subplots(figsize=(10,6))\n",
    "ax.hist(lifespan, bins=50)\n",
    "ax.set_xlim(0, 120)\n",
    "ax.set_ylim(0, 600)\n",
    "ax.set_title(\"Lifespan Counts\", fontsize=20)\n",
    "ax.set_ylabel(\"Number of Songs\", fontsize=12)\n",
    "ax.set_xlabel(\"Lifespan(weeks)\", fontsize=12)\n",
    "ax.grid(alpha=0.15)\n",
    "plt.savefig(\"img/Lifespan_counts.png\")"
   ]
  },
  {
   "cell_type": "code",
   "execution_count": 58,
   "metadata": {},
   "outputs": [
    {
     "name": "stdout",
     "output_type": "stream",
     "text": [
      "+--------------------+--------------------+---------+--------+-------------+\n",
      "|              artist|               title|num_weeks|avg_rank|entrance_date|\n",
      "+--------------------+--------------------+---------+--------+-------------+\n",
      "|          ed sheeran|             perfect|      110|   48.09|   2017-03-10|\n",
      "|          ed sheeran|        shape of you|       97|   42.52|   2017-01-13|\n",
      "|         george ezra|             shotgun|       87|   35.99|   2018-03-30|\n",
      "|major lazer ft mo...|             lean on|       79|   45.92|   2015-03-08|\n",
      "|settle/greatest s...|          this is me|       75|   40.84|   2018-01-05|\n",
      "|       walk the moon|     shut up & dance|       72|   54.63|   2015-06-07|\n",
      "|   justin timberlake|can't stop the fe...|       71|   46.94|   2016-05-13|\n",
      "|       justin bieber|               sorry|       68|   41.43|   2015-10-30|\n",
      "|        shawn mendes|            stitches|       67|   47.63|   2015-09-25|\n",
      "|            dua lipa|           new rules|       66|   43.92|   2017-07-14|\n",
      "|                 sia|       cheap thrills|       66|   39.12|   2016-02-19|\n",
      "|drake ft wizkid &...|           one dance|       65|   33.86|   2016-04-08|\n",
      "|       justin bieber|       love yourself|       64|   44.41|   2015-11-20|\n",
      "|          tom walker|    leave a light on|       63|   51.38|   2018-01-05|\n",
      "|       justin bieber|    what do you mean|       62|   37.92|   2015-09-04|\n",
      "|lady gaga & bradl...|             shallow|       60|   43.43|   2018-10-05|\n",
      "|       years & years|                king|       59|   51.51|   2015-03-08|\n",
      "|  panic at the disco|          high hopes|       58|   50.47|   2018-06-01|\n",
      "|skrillex & diplo/...|     where are u now|       57|    38.4|   2015-03-15|\n",
      "|        zara larsson|           lush life|       57|   44.19|   2016-01-08|\n",
      "+--------------------+--------------------+---------+--------+-------------+\n",
      "only showing top 20 rows\n",
      "\n"
     ]
    }
   ],
   "source": [
    "spark.sql('''\n",
    "            SELECT *\n",
    "            FROM test3\n",
    "            ORDER BY num_weeks DESC''').show()"
   ]
  },
  {
   "cell_type": "code",
   "execution_count": 59,
   "metadata": {},
   "outputs": [],
   "source": [
    "months = ['January', 'February', 'March', 'April', 'May', 'June', 'July', 'August', 'September', 'October', 'November', 'December']"
   ]
  },
  {
   "cell_type": "code",
   "execution_count": 60,
   "metadata": {},
   "outputs": [],
   "source": [
    "num_per_month = spark.sql('''\n",
    "            SELECT MONTH(entrance_date) as month, COUNT(*) as num_songs\n",
    "            FROM test3\n",
    "            WHERE entrance_date < \"2019-01-01\"\n",
    "            GROUP BY MONTH(entrance_date)\n",
    "            ORDER BY 1\n",
    "            ''')"
   ]
  },
  {
   "cell_type": "code",
   "execution_count": 61,
   "metadata": {},
   "outputs": [],
   "source": [
    "num_per_month = num_per_month.rdd.map(lambda row: row.num_songs).collect()"
   ]
  },
  {
   "cell_type": "code",
   "execution_count": 62,
   "metadata": {},
   "outputs": [
    {
     "data": {
      "text/plain": [
       "[91, 104, 162, 125, 134, 109, 100, 101, 112, 115, 129, 80]"
      ]
     },
     "execution_count": 62,
     "metadata": {},
     "output_type": "execute_result"
    }
   ],
   "source": [
    "num_per_month"
   ]
  },
  {
   "cell_type": "code",
   "execution_count": 63,
   "metadata": {},
   "outputs": [
    {
     "data": {
      "image/png": "[encoded data removed]",
      "text/plain": [
       "<Figure size 864x432 with 1 Axes>"
      ]
     },
     "metadata": {
      "needs_background": "light"
     },
     "output_type": "display_data"
    }
   ],
   "source": [
    "fig, ax = plt.subplots(figsize=(12,6))\n",
    "\n",
    "ax.barh(months, num_per_month, height=0.5)\n",
    "ax.invert_yaxis()\n",
    "for i, v in enumerate(num_per_month):\n",
    "    ax.text(v + 3, i + .25, str(v), color='blue')\n",
    "ax.set_xlim(0,200)\n",
    "ax.set_title('Number of Songs Per Month (removed: Songs released in 2019)', fontsize=14)\n",
    "ax.set_xlabel(\"Number of Songs\", fontsize=12)\n",
    "ax.grid(alpha=0.15)\n",
    "plt.savefig(\"img/num_songs_month.png\")"
   ]
  },
  {
   "cell_type": "code",
   "execution_count": 64,
   "metadata": {},
   "outputs": [
    {
     "name": "stdout",
     "output_type": "stream",
     "text": [
      "+--------------------+------------------------+\n",
      "|month(entrance_date)|round(avg(num_weeks), 2)|\n",
      "+--------------------+------------------------+\n",
      "|                   1|                   17.88|\n",
      "|                   2|                   13.49|\n",
      "|                   3|                   13.53|\n",
      "|                   4|                   12.13|\n",
      "|                   5|                   12.81|\n",
      "|                   6|                   13.82|\n",
      "|                   7|                   13.08|\n",
      "|                   8|                   15.47|\n",
      "|                   9|                    13.9|\n",
      "|                  10|                    13.7|\n",
      "|                  11|                   11.95|\n",
      "|                  12|                    9.83|\n",
      "+--------------------+------------------------+\n",
      "\n"
     ]
    }
   ],
   "source": [
    "spark.sql('''\n",
    "            SELECT MONTH(entrance_date), ROUND(AVG(num_weeks),2)\n",
    "            FROM test3\n",
    "            WHERE entrance_date < \"2019-01-01\"\n",
    "            GROUP BY MONTH(entrance_date)\n",
    "            ORDER BY 1''').show()"
   ]
  },
  {
   "cell_type": "code",
   "execution_count": 65,
   "metadata": {},
   "outputs": [
    {
     "name": "stdout",
     "output_type": "stream",
     "text": [
      "+--------------------+\n",
      "|avg_lifespan_overall|\n",
      "+--------------------+\n",
      "|               13.43|\n",
      "+--------------------+\n",
      "\n"
     ]
    }
   ],
   "source": [
    "avg_lifespan_overall = spark.sql('''\n",
    "            SELECT ROUND(AVG(num_weeks),2) AS avg_lifespan_overall\n",
    "            FROM test3\n",
    "            WHERE entrance_date < \"2019-01-01\"''').show()"
   ]
  },
  {
   "cell_type": "code",
   "execution_count": 66,
   "metadata": {},
   "outputs": [],
   "source": [
    "avg_lifespan_per_month = spark.sql('''\n",
    "            SELECT MONTH(entrance_date) AS month, ROUND(AVG(num_weeks),2) AS avg_lifespan\n",
    "            FROM test3\n",
    "            WHERE entrance_date < \"2019-01-01\"\n",
    "            GROUP BY MONTH(entrance_date)\n",
    "            ORDER BY 1''')"
   ]
  },
  {
   "cell_type": "code",
   "execution_count": 67,
   "metadata": {},
   "outputs": [],
   "source": [
    "avg_lifespan = avg_lifespan_per_month.rdd.map(lambda row: row.avg_lifespan).collect()"
   ]
  },
  {
   "cell_type": "code",
   "execution_count": 68,
   "metadata": {},
   "outputs": [
    {
     "data": {
      "image/png": "[encoded data removed]",
      "text/plain": [
       "<Figure size 864x432 with 1 Axes>"
      ]
     },
     "metadata": {
      "needs_background": "light"
     },
     "output_type": "display_data"
    }
   ],
   "source": [
    "fig, ax = plt.subplots(figsize=(12,6))\n",
    "\n",
    "ax.barh(months, avg_lifespan, height=0.5)\n",
    "ax.invert_yaxis()\n",
    "for i, v in enumerate(avg_lifespan):\n",
    "    ax.text(v + 0.25, i + .1, str(v), color='blue')\n",
    "ax.axvline(13.43, color='r', linestyle=\"--\", alpha=0.4, label=\"Overall Average Lifespan\")\n",
    "ax.set_xlim(0,21)\n",
    "ax.set_title('Average Lifespan (Without songs released in 2019)', fontsize=14)\n",
    "ax.set_xlabel(\"Lifespan (weeks)\", fontsize=12)\n",
    "ax.legend()\n",
    "ax.grid(alpha=0.15)\n",
    "plt.savefig(\"img/avg_lifespan_month.png\")"
   ]
  },
  {
   "cell_type": "code",
   "execution_count": 69,
   "metadata": {},
   "outputs": [],
   "source": [
    "def samp(month):\n",
    "    sample = spark.sql('''\n",
    "                SELECT num_weeks\n",
    "                FROM test3\n",
    "                WHERE MONTH(entrance_date)={}\n",
    "                    AND entrance_date < \"2019-01-01\"'''.format(month))\n",
    "    return sample.rdd.map(lambda row: row.num_weeks).collect()\n",
    "\n",
    "def samp_exclude_month(month):\n",
    "    sample = spark.sql('''\n",
    "                SELECT num_weeks\n",
    "                FROM test3\n",
    "                WHERE entrance_date < \"2019-01-01\"\n",
    "                    AND MONTH(entrance_date) <> {}'''.format(month))\n",
    "    return sample.rdd.map(lambda row: row.num_weeks).collect()"
   ]
  },
  {
   "cell_type": "code",
   "execution_count": 70,
   "metadata": {},
   "outputs": [],
   "source": [
    "jan = samp(1)\n",
    "not_jan = samp_exclude_month(1)\n",
    "feb = samp(2)\n",
    "not_feb = samp_exclude_month(2)\n",
    "mar = samp(3)\n",
    "not_mar = samp_exclude_month(3)\n",
    "apr = samp(4)\n",
    "not_apr = samp_exclude_month(4)\n",
    "may = samp(5)\n",
    "not_may = samp_exclude_month(5)\n",
    "jun = samp(6)\n",
    "not_jun = samp_exclude_month(6)\n",
    "jul = samp(7)\n",
    "not_jul = samp_exclude_month(7)\n",
    "aug = samp(8)\n",
    "not_aug = samp_exclude_month(8)\n",
    "sep = samp(9)\n",
    "not_sep = samp_exclude_month(9)\n",
    "octo = samp(10)\n",
    "not_octo = samp_exclude_month(10)\n",
    "nov = samp(11)\n",
    "not_nov = samp_exclude_month(11)\n",
    "dec = samp(12)\n",
    "not_dec = samp_exclude_month(12)"
   ]
  },
  {
   "cell_type": "code",
   "execution_count": 71,
   "metadata": {},
   "outputs": [
    {
     "data": {
      "image/png": "[encoded data removed]",
      "text/plain": [
       "<Figure size 576x720 with 4 Axes>"
      ]
     },
     "metadata": {
      "needs_background": "light"
     },
     "output_type": "display_data"
    }
   ],
   "source": [
    "fig, axes= plt.subplots(4, figsize=(8,10))\n",
    "\n",
    "axes[0].hist(jan, bins=30, label=\"January\")\n",
    "axes[1].hist(feb, bins=30, color=\"r\", label=\"February\")\n",
    "axes[2].hist(mar, bins=30, color=\"g\", label=\"March\")\n",
    "axes[3].hist(apr, bins=30, color=\"b\", label=\"April\")\n",
    "for i in range(4):\n",
    "    axes[i].set_ylim(0,100)\n",
    "    axes[i].set_xlim(0, 30)\n",
    "    axes[i].grid(alpha=0.15)\n",
    "    axes[i].legend()"
   ]
  },
  {
   "cell_type": "code",
   "execution_count": 72,
   "metadata": {},
   "outputs": [],
   "source": [
    "def bootstrap(x, resamples=1000):\n",
    "    bootstrap_samples=[]\n",
    "    for i in range(resamples):\n",
    "        bootstrap = np.random.choice(x, size=30, replace=True)\n",
    "        bootstrap_samples.append(np.mean(bootstrap))\n",
    "    return bootstrap_samples\n",
    "    \n"
   ]
  },
  {
   "cell_type": "code",
   "execution_count": 73,
   "metadata": {},
   "outputs": [],
   "source": [
    "jan = bootstrap(jan)\n",
    "feb = bootstrap(feb)\n",
    "mar = bootstrap(mar)\n",
    "apr = bootstrap(apr)\n",
    "may = bootstrap(may)\n",
    "jun = bootstrap(jun)\n",
    "jul = bootstrap(jul)\n",
    "aug = bootstrap(aug)\n",
    "sep = bootstrap(sep)\n",
    "octo = bootstrap(octo)\n",
    "nov = bootstrap(nov)\n",
    "dec = bootstrap(dec)\n",
    "\n",
    "not_jan = bootstrap(not_jan)\n",
    "not_feb = bootstrap(not_feb)\n",
    "not_mar = bootstrap(not_mar)\n",
    "not_apr = bootstrap(not_apr)\n",
    "not_may = bootstrap(not_may)\n",
    "not_jun = bootstrap(not_jun)\n",
    "not_jul = bootstrap(not_jul)\n",
    "not_aug = bootstrap(not_aug)\n",
    "not_sep = bootstrap(not_sep)\n",
    "not_octo = bootstrap(not_octo)\n",
    "not_nov = bootstrap(not_nov)\n",
    "not_dec = bootstrap(not_dec)\n"
   ]
  },
  {
   "cell_type": "code",
   "execution_count": 74,
   "metadata": {},
   "outputs": [
    {
     "data": {
      "image/png": "[encoded data removed]",
      "text/plain": [
       "<Figure size 432x288 with 1 Axes>"
      ]
     },
     "metadata": {
      "needs_background": "light"
     },
     "output_type": "display_data"
    }
   ],
   "source": [
    "fig, ax = plt.subplots()\n",
    "ax.hist(jan, alpha=.4, density=True, label=\"January\")\n",
    "ax.hist(feb, alpha=.4, density=True, label=\"February\")\n",
    "ax.hist(mar, alpha=.4, density=True, label=\"March\")\n",
    "ax.hist(apr, alpha=.4, density=True, label=\"April\")\n",
    "ax.set_title('First four months')\n",
    "ax.set_xlabel(\"Lifespan (weeks)\", fontsize=12)\n",
    "ax.legend()\n",
    "ax.grid(alpha=0.15)\n",
    "plt.savefig(\"img/first_four_months.png\")"
   ]
  },
  {
   "cell_type": "code",
   "execution_count": 75,
   "metadata": {},
   "outputs": [
    {
     "name": "stdout",
     "output_type": "stream",
     "text": [
      "corrected alpha = 0.004166666666666667\n",
      "Jan vs rest = 1.1238765120724023e-218\n",
      "Feb vs rest = 0.02221184602615466\n",
      "Mar vs rest = 0.021887849527000784\n",
      "Apr vs rest = 2.9852612307170152e-40\n",
      "May vs rest = 4.2279649417257105e-10\n",
      "Jun vs rest = 3.886858550605457e-06\n",
      "Jul vs rest = 0.0003782468859613491\n",
      "Aug vs rest = 8.702493589426346e-88\n",
      "Sep vs rest = 9.427033867124077e-10\n",
      "Oct vs rest = 0.0642181950040024\n",
      "Nov vs rest = 1.8142931441988762e-47\n",
      "Dec vs rest = 1.3248289999081888e-261\n"
     ]
    }
   ],
   "source": [
    "\n",
    "\n",
    "_, p1 = stats.ttest_ind(jan,not_jan)\n",
    "_, p2 = stats.ttest_ind(feb,not_feb)\n",
    "_, p3 = stats.ttest_ind(mar,not_mar)\n",
    "_, p4 = stats.ttest_ind(apr,not_apr)\n",
    "_, p5 = stats.ttest_ind(may,not_may)\n",
    "_, p6 = stats.ttest_ind(jun,not_jun)\n",
    "_, p7 = stats.ttest_ind(jul,not_jul)\n",
    "_, p8 = stats.ttest_ind(aug,not_aug)\n",
    "_, p9 = stats.ttest_ind(sep,not_sep)\n",
    "_, p10 = stats.ttest_ind(octo,not_octo)\n",
    "_, p11 = stats.ttest_ind(nov,not_nov)\n",
    "_, p12 = stats.ttest_ind(dec,not_dec)\n",
    "\n",
    "alpha = 0.05/12\n",
    "print(\"corrected alpha = {}\".format(alpha))\n",
    "print(\"Jan vs rest = \"+ str(p1))\n",
    "print(\"Feb vs rest = \"+ str(p2))\n",
    "print(\"Mar vs rest = \"+ str(p3))\n",
    "print(\"Apr vs rest = \"+ str(p4))\n",
    "print(\"May vs rest = \"+str(p5))\n",
    "print(\"Jun vs rest = \"+str(p6))\n",
    "print(\"Jul vs rest = \"+str(p7))\n",
    "print(\"Aug vs rest = \"+str(p8))\n",
    "print(\"Sep vs rest = \"+str(p9))\n",
    "print(\"Oct vs rest = \"+str(p10))\n",
    "print(\"Nov vs rest = \"+str(p11))\n",
    "print(\"Dec vs rest = \"+str(p12))"
   ]
  },
  {
   "cell_type": "code",
   "execution_count": 76,
   "metadata": {},
   "outputs": [
    {
     "data": {
      "image/png": "[encoded data removed]",
      "text/plain": [
       "<Figure size 432x288 with 1 Axes>"
      ]
     },
     "metadata": {
      "needs_background": "light"
     },
     "output_type": "display_data"
    }
   ],
   "source": [
    "fig, ax = plt.subplots()\n",
    "ax.hist(dec, alpha=0.5, label=\"December\", density=True)\n",
    "ax.hist(not_dec, alpha=0.5, label=\"Everything else\", density=True)\n",
    "ax.set_title('December vs the rest')\n",
    "ax.set_xlabel(\"Lifespan (weeks)\", fontsize=12)\n",
    "ax.legend()\n",
    "ax.grid(alpha=0.15)\n",
    "plt.savefig(\"img/dec_vs_rest.png\")"
   ]
  },
  {
   "cell_type": "code",
   "execution_count": 77,
   "metadata": {},
   "outputs": [
    {
     "data": {
      "image/png": "[encoded data removed]",
      "text/plain": [
       "<Figure size 432x288 with 1 Axes>"
      ]
     },
     "metadata": {
      "needs_background": "light"
     },
     "output_type": "display_data"
    }
   ],
   "source": [
    "fig, ax = plt.subplots()\n",
    "ax.hist(feb, alpha=0.4, label=\"February\", density=True)\n",
    "ax.hist(not_feb, alpha=0.4, label=\"Everything else\", density=True)\n",
    "ax.set_title('February vs the rest')\n",
    "ax.set_xlabel(\"Lifespan (weeks)\", fontsize=12)\n",
    "ax.legend()\n",
    "ax.grid(alpha=0.15)\n",
    "plt.savefig(\"img/feb_vs_rest.png\")"
   ]
  },
  {
   "cell_type": "code",
   "execution_count": null,
   "metadata": {},
   "outputs": [],
   "source": []
  }
 ],
 "metadata": {
  "kernelspec": {
   "display_name": "Python 3",
   "language": "python",
   "name": "python3"
  },
  "language_info": {
   "codemirror_mode": {
    "name": "ipython",
    "version": 3
   },
   "file_extension": ".py",
   "mimetype": "text/x-python",
   "name": "python",
   "nbconvert_exporter": "python",
   "pygments_lexer": "ipython3",
   "version": "3.7.3"
  }
 },
 "nbformat": 4,
 "nbformat_minor": 4
}
