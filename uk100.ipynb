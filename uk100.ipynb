{
 "cells": [
  {
   "cell_type": "code",
   "execution_count": 226,
   "metadata": {},
   "outputs": [],
   "source": [
    "import pyspark as ps\n",
    "import pyspark.sql.functions as f\n",
    "from pyspark import SQLContext\n",
    "from pyspark.sql.types import IntegerType, DateType, TimestampType\n",
    "from datetime import datetime\n",
    "%matplotlib inline\n",
    "import matplotlib.pyplot as plt"
   ]
  },
  {
   "cell_type": "code",
   "execution_count": 2,
   "metadata": {},
   "outputs": [],
   "source": [
    "spark = (ps.sql.SparkSession.builder \n",
    "        .master(\"local[4]\") \n",
    "        .appName(\"sparkSQL exercise\") \n",
    "        .getOrCreate()\n",
    "        )\n",
    "sc = spark.sparkContext"
   ]
  },
  {
   "cell_type": "code",
   "execution_count": 3,
   "metadata": {},
   "outputs": [
    {
     "data": {
      "text/html": [
       "\n",
       "        <div>\n",
       "            <p><b>SparkContext</b></p>\n",
       "\n",
       "            <p><a href=\"http://7e5b74eb1d72:4041\">Spark UI</a></p>\n",
       "\n",
       "            <dl>\n",
       "              <dt>Version</dt>\n",
       "                <dd><code>v2.4.4</code></dd>\n",
       "              <dt>Master</dt>\n",
       "                <dd><code>local[4]</code></dd>\n",
       "              <dt>AppName</dt>\n",
       "                <dd><code>sparkSQL exercise</code></dd>\n",
       "            </dl>\n",
       "        </div>\n",
       "        "
      ],
      "text/plain": [
       "<SparkContext master=local[4] appName=sparkSQL exercise>"
      ]
     },
     "execution_count": 3,
     "metadata": {},
     "output_type": "execute_result"
    }
   ],
   "source": [
    "sc"
   ]
  },
  {
   "cell_type": "code",
   "execution_count": 4,
   "metadata": {},
   "outputs": [],
   "source": [
    "sqlContext = SQLContext(sc)"
   ]
  },
  {
   "cell_type": "code",
   "execution_count": 5,
   "metadata": {},
   "outputs": [],
   "source": [
    "df = sqlContext.read.csv(\"uk100.csv\", header=True)"
   ]
  },
  {
   "cell_type": "code",
   "execution_count": 6,
   "metadata": {},
   "outputs": [
    {
     "name": "stdout",
     "output_type": "stream",
     "text": [
      "root\n",
      " |-- _c0: string (nullable = true)\n",
      " |-- rank: string (nullable = true)\n",
      " |-- last_week_rank: string (nullable = true)\n",
      " |-- hmm: string (nullable = true)\n",
      " |-- title: string (nullable = true)\n",
      " |-- artist: string (nullable = true)\n",
      " |-- label: string (nullable = true)\n",
      " |-- peak_rank: string (nullable = true)\n",
      " |-- weeks_on_chart: string (nullable = true)\n",
      " |-- week_of: string (nullable = true)\n",
      "\n"
     ]
    }
   ],
   "source": [
    "df.printSchema()"
   ]
  },
  {
   "cell_type": "code",
   "execution_count": 7,
   "metadata": {},
   "outputs": [],
   "source": [
    "df.createOrReplaceTempView('test')"
   ]
  },
  {
   "cell_type": "code",
   "execution_count": 8,
   "metadata": {},
   "outputs": [
    {
     "name": "stdout",
     "output_type": "stream",
     "text": [
      "+---+----+--------------+--------+--------------------+--------------------+--------------------+---------+--------------+----------------+\n",
      "|_c0|rank|last_week_rank|     hmm|               title|              artist|               label|peak_rank|weeks_on_chart|         week_of|\n",
      "+---+----+--------------+--------+--------------------+--------------------+--------------------+---------+--------------+----------------+\n",
      "|  0|   1|            11|        |               RIVER|      ELLIE GOULDING|             POLYDOR|        1|             5|December 27 2019|\n",
      "|  1|   2|             8|        |ALL I WANT FOR CH...|        MARIAH CAREY|            COLUMBIA|        2|            99|December 27 2019|\n",
      "|  2|   3|             5|        |      LAST CHRISTMAS|                WHAM|                 RCA|        2|            64|December 27 2019|\n",
      "|  3|   4|            14|        |FAIRYTALE OF NEW ...|POGUES FT KIRSTY ...|         WARNER BROS|        2|            99|December 27 2019|\n",
      "|  4|   5|             2|        |              OWN IT|STORMZY/ED SHEERA...|      ATLANTIC/MERKY|        2|             5|December 27 2019|\n",
      "|  5|   6|            16|        |MERRY CHRISTMAS E...|     SHAKIN' STEVENS|                 RCA|        1|            71|December 27 2019|\n",
      "|  6|   7|            17|        |DO THEY KNOW IT'S...|            BAND AID|             MERCURY|        1|            80|December 27 2019|\n",
      "|  7|   8|            19|        | STEP INTO CHRISTMAS|          ELTON JOHN|             MERCURY|        8|            38|December 27 2019|\n",
      "|  8|   9|            34|        |HAPPY CHRISTMAS (...|         JOHN LEGEND|            COLUMBIA|        9|             3|December 27 2019|\n",
      "|  9|  10|            29|        |I WISH IT COULD B...|             WIZZARD|                 EMI|       10|            57|December 27 2019|\n",
      "| 10|  11|            24|        |IT'S BEGINNING TO...|       MICHAEL BUBLE|             REPRISE|        7|            33|December 27 2019|\n",
      "| 11|  12|             3|        |       BEFORE YOU GO|       LEWIS CAPALDI|                 EMI|        2|             6|December 27 2019|\n",
      "| 12|  13|            28|        |       SANTA TELL ME|       ARIANA GRANDE|    REPUBLIC RECORDS|       13|            18|December 27 2019|\n",
      "| 13|  14|             4|        |     DON'T START NOW|            DUA LIPA|      WARNER RECORDS|        2|             8|December 27 2019|\n",
      "| 14|  15|            25|        |      ONE MORE SLEEP|         LEONA LEWIS|          SYCO MUSIC|        3|            23|December 27 2019|\n",
      "| 15|  16|             7|        |             ROXANNE|      ARIZONA ZERVAS|          SONY MUSIC|        5|             8|December 27 2019|\n",
      "| 16|  17|            36|        |SANTA'S COMING FO...|                 SIA|ATLANTIC/MONKEY P...|       17|            12|December 27 2019|\n",
      "| 17|  18|            32|        |ROCKIN' AROUND TH...|          BRENDA LEE|                 MCA|        6|            47|December 27 2019|\n",
      "| 18|  19|            31|        |MERRY XMAS EVERYBODY|               SLADE|                UMTV|        1|            98|December 27 2019|\n",
      "| 19|  20|            10|        |        DANCE MONKEY|           TONES & I|          PARLOPHONE|        1|            21|December 27 2019|\n",
      "+---+----+--------------+--------+--------------------+--------------------+--------------------+---------+--------------+----------------+\n",
      "only showing top 20 rows\n",
      "\n"
     ]
    }
   ],
   "source": [
    "spark.sql('''SELECT *\n",
    "            FROM test\n",
    "            LIMIT 30\n",
    "            ''').show()"
   ]
  },
  {
   "cell_type": "markdown",
   "metadata": {},
   "source": [
    "## Drop unneeded columns and cast the rest to the correct types."
   ]
  },
  {
   "cell_type": "code",
   "execution_count": 10,
   "metadata": {},
   "outputs": [],
   "source": [
    "df = df.drop('_c0')\n",
    "df = df.drop('hmm')\n",
    "\n",
    "for col in df.columns:\n",
    "    df = df.withColumn(col, f.lower(f.col(col)))\n",
    "\n",
    "df = df.withColumn(\"rank\", df[\"rank\"].cast(IntegerType()))\n",
    "df = df.withColumn(\"peak_rank\", df[\"peak_rank\"].cast(IntegerType()))\n",
    "df = df.withColumn(\"weeks_on_chart\", df[\"weeks_on_chart\"].cast(IntegerType()))\n",
    "\n",
    "def to_date(x):\n",
    "    return datetime.strptime(x, '%B %d %Y')\n",
    "change_to_datetype = f.udf(lambda y: to_date(y), DateType())\n",
    "\n",
    "df = df.withColumn(\"week_of\", change_to_datetype('week_of'))"
   ]
  },
  {
   "cell_type": "code",
   "execution_count": 11,
   "metadata": {},
   "outputs": [
    {
     "name": "stdout",
     "output_type": "stream",
     "text": [
      "root\n",
      " |-- rank: integer (nullable = true)\n",
      " |-- last_week_rank: string (nullable = true)\n",
      " |-- title: string (nullable = true)\n",
      " |-- artist: string (nullable = true)\n",
      " |-- label: string (nullable = true)\n",
      " |-- peak_rank: integer (nullable = true)\n",
      " |-- weeks_on_chart: integer (nullable = true)\n",
      " |-- week_of: date (nullable = true)\n",
      "\n"
     ]
    }
   ],
   "source": [
    "df.printSchema()"
   ]
  },
  {
   "cell_type": "code",
   "execution_count": 12,
   "metadata": {},
   "outputs": [],
   "source": [
    "df.createOrReplaceTempView('test')"
   ]
  },
  {
   "cell_type": "markdown",
   "metadata": {},
   "source": [
    "## Total Count"
   ]
  },
  {
   "cell_type": "code",
   "execution_count": 13,
   "metadata": {},
   "outputs": [
    {
     "name": "stdout",
     "output_type": "stream",
     "text": [
      "+--------+\n",
      "|count(1)|\n",
      "+--------+\n",
      "|   26000|\n",
      "+--------+\n",
      "\n"
     ]
    }
   ],
   "source": [
    "spark.sql('''\n",
    "        SELECT COUNT(*)\n",
    "        FROM test\n",
    "        ''').show()"
   ]
  },
  {
   "cell_type": "code",
   "execution_count": 38,
   "metadata": {},
   "outputs": [
    {
     "name": "stdout",
     "output_type": "stream",
     "text": [
      "+----+--------------+--------------------+--------------------+--------------------+---------+--------------+----------+\n",
      "|rank|last_week_rank|               title|              artist|               label|peak_rank|weeks_on_chart|   week_of|\n",
      "+----+--------------+--------------------+--------------------+--------------------+---------+--------------+----------+\n",
      "|   1|            11|               river|      ellie goulding|             polydor|        1|             5|2019-12-27|\n",
      "|   2|             8|all i want for ch...|        mariah carey|            columbia|        2|            99|2019-12-27|\n",
      "|   3|             5|      last christmas|                wham|                 rca|        2|            64|2019-12-27|\n",
      "|   4|            14|fairytale of new ...|pogues ft kirsty ...|         warner bros|        2|            99|2019-12-27|\n",
      "|   5|             2|              own it|stormzy/ed sheera...|      atlantic/merky|        2|             5|2019-12-27|\n",
      "|   6|            16|merry christmas e...|     shakin' stevens|                 rca|        1|            71|2019-12-27|\n",
      "|   7|            17|do they know it's...|            band aid|             mercury|        1|            80|2019-12-27|\n",
      "|   8|            19| step into christmas|          elton john|             mercury|        8|            38|2019-12-27|\n",
      "|   9|            34|happy christmas (...|         john legend|            columbia|        9|             3|2019-12-27|\n",
      "|  10|            29|i wish it could b...|             wizzard|                 emi|       10|            57|2019-12-27|\n",
      "|  11|            24|it's beginning to...|       michael buble|             reprise|        7|            33|2019-12-27|\n",
      "|  12|             3|       before you go|       lewis capaldi|                 emi|        2|             6|2019-12-27|\n",
      "|  13|            28|       santa tell me|       ariana grande|    republic records|       13|            18|2019-12-27|\n",
      "|  14|             4|     don't start now|            dua lipa|      warner records|        2|             8|2019-12-27|\n",
      "|  15|            25|      one more sleep|         leona lewis|          syco music|        3|            23|2019-12-27|\n",
      "|  16|             7|             roxanne|      arizona zervas|          sony music|        5|             8|2019-12-27|\n",
      "|  17|            36|santa's coming fo...|                 sia|atlantic/monkey p...|       17|            12|2019-12-27|\n",
      "|  18|            32|rockin' around th...|          brenda lee|                 mca|        6|            47|2019-12-27|\n",
      "|  19|            31|merry xmas everybody|               slade|                umtv|        1|            98|2019-12-27|\n",
      "|  20|            10|        dance monkey|           tones & i|          parlophone|        1|            21|2019-12-27|\n",
      "+----+--------------+--------------------+--------------------+--------------------+---------+--------------+----------+\n",
      "only showing top 20 rows\n",
      "\n"
     ]
    }
   ],
   "source": [
    "spark.sql('''\n",
    "        SELECT *\n",
    "        FROM test\n",
    "        ''').show()"
   ]
  },
  {
   "cell_type": "markdown",
   "metadata": {},
   "source": [
    "## Count of distinct titles (songs with same names included)"
   ]
  },
  {
   "cell_type": "code",
   "execution_count": 15,
   "metadata": {},
   "outputs": [
    {
     "name": "stdout",
     "output_type": "stream",
     "text": [
      "+---------------------+\n",
      "|count(DISTINCT title)|\n",
      "+---------------------+\n",
      "|                 2416|\n",
      "+---------------------+\n",
      "\n"
     ]
    }
   ],
   "source": [
    "spark.sql('''\n",
    "        SELECT COUNT(DISTINCT title)\n",
    "        FROM test\n",
    "        ''').show()"
   ]
  },
  {
   "cell_type": "markdown",
   "metadata": {},
   "source": [
    "## Number of distinct titles that have reached rank 1"
   ]
  },
  {
   "cell_type": "code",
   "execution_count": 16,
   "metadata": {},
   "outputs": [
    {
     "name": "stdout",
     "output_type": "stream",
     "text": [
      "+---------------------+\n",
      "|count(DISTINCT title)|\n",
      "+---------------------+\n",
      "|                   77|\n",
      "+---------------------+\n",
      "\n"
     ]
    }
   ],
   "source": [
    "spark.sql('''\n",
    "        SELECT COUNT(DISTINCT title)\n",
    "        FROM test\n",
    "        WHERE rank == 1''').show()"
   ]
  },
  {
   "cell_type": "markdown",
   "metadata": {},
   "source": [
    "## Number of unique songs"
   ]
  },
  {
   "cell_type": "code",
   "execution_count": 26,
   "metadata": {},
   "outputs": [],
   "source": [
    "num_unique_songs = spark.sql('''\n",
    "        SELECT artist, title\n",
    "        FROM test\n",
    "        GROUP BY artist, title''')"
   ]
  },
  {
   "cell_type": "code",
   "execution_count": 27,
   "metadata": {},
   "outputs": [
    {
     "data": {
      "text/plain": [
       "2605"
      ]
     },
     "execution_count": 27,
     "metadata": {},
     "output_type": "execute_result"
    }
   ],
   "source": [
    "num_unique_songs.count()"
   ]
  },
  {
   "cell_type": "code",
   "execution_count": 18,
   "metadata": {},
   "outputs": [
    {
     "name": "stdout",
     "output_type": "stream",
     "text": [
      "+--------+\n",
      "|count(1)|\n",
      "+--------+\n",
      "|    2605|\n",
      "+--------+\n",
      "\n"
     ]
    }
   ],
   "source": [
    "spark.sql('''\n",
    "        SELECT COUNT(*)\n",
    "        FROM(\n",
    "            SELECT artist, title\n",
    "            FROM test\n",
    "            GROUP BY artist, title)\n",
    "        ''').show()"
   ]
  },
  {
   "cell_type": "markdown",
   "metadata": {},
   "source": [
    "## How many weeks did these songs stay at rank 1"
   ]
  },
  {
   "cell_type": "code",
   "execution_count": 28,
   "metadata": {},
   "outputs": [
    {
     "name": "stdout",
     "output_type": "stream",
     "text": [
      "+--------------------+--------------------+---------+------------+\n",
      "|              artist|               title|num_weeks|min(week_of)|\n",
      "+--------------------+--------------------+---------+------------+\n",
      "|drake ft wizkid &...|           one dance|       15|  2016-04-15|\n",
      "|          ed sheeran|        shape of you|       14|  2017-01-13|\n",
      "|           tones & i|        dance monkey|       11|  2019-10-04|\n",
      "|luis fonsi/daddy ...|   despacito (remix)|       11|  2017-05-12|\n",
      "|        clean bandit|            rockabye|        9|  2016-11-11|\n",
      "|               drake|          god's plan|        9|  2018-01-26|\n",
      "|ed sheeran & just...|        i don't care|        8|  2019-05-17|\n",
      "|calvin harris & d...|            one kiss|        8|  2018-04-20|\n",
      "|       lewis capaldi|   someone you loved|        7|  2019-03-01|\n",
      "|       justin bieber|       love yourself|        6|  2015-12-04|\n",
      "|shawn mendes/cami...|            senorita|        6|  2019-07-12|\n",
      "|       ariana grande|        thank u next|        6|  2018-11-09|\n",
      "|          ed sheeran|             perfect|        6|  2017-12-08|\n",
      "|calvin harris & s...|            promises|        6|  2018-09-07|\n",
      "|ed sheeran ft sto...|take me back to l...|        5|  2019-08-30|\n",
      "|       justin bieber|    what do you mean|        5|  2015-09-04|\n",
      "|        lukas graham|             7 years|        5|  2016-02-12|\n",
      "|major lazer/justi...|          cold water|        5|  2016-07-29|\n",
      "|camila cabello ft...|              havana|        5|  2017-11-03|\n",
      "|               drake|      in my feelings|        4|  2018-07-20|\n",
      "+--------------------+--------------------+---------+------------+\n",
      "only showing top 20 rows\n",
      "\n"
     ]
    }
   ],
   "source": [
    "spark.sql('''\n",
    "            SELECT DISTINCT artist, title, COUNT(*) as num_weeks, MIN(week_of)\n",
    "            FROM test\n",
    "            WHERE rank == 1\n",
    "            GROUP BY 1, 2\n",
    "            ORDER BY 3 DESC\n",
    "            ''').show()"
   ]
  },
  {
   "cell_type": "markdown",
   "metadata": {},
   "source": [
    "## Total number of appearances on the top 100, in order"
   ]
  },
  {
   "cell_type": "code",
   "execution_count": 31,
   "metadata": {},
   "outputs": [
    {
     "name": "stdout",
     "output_type": "stream",
     "text": [
      "+--------------------+-------------------+---------+------------+\n",
      "|              artist|              title|num_weeks|min(week_of)|\n",
      "+--------------------+-------------------+---------+------------+\n",
      "|          ed sheeran|       shape of you|       97|  2017-01-13|\n",
      "|          ed sheeran|  thinking out loud|       90|  2015-01-11|\n",
      "|          ed sheeran|            perfect|       81|  2017-12-08|\n",
      "|         george ezra|            shotgun|       74|  2018-06-29|\n",
      "|mark ronson ft br...|        uptown funk|       72|  2015-01-11|\n",
      "|luis fonsi/daddy ...|  despacito (remix)|       71|  2017-05-12|\n",
      "|       justin bieber|              sorry|       65|  2015-11-20|\n",
      "|drake ft wizkid &...|          one dance|       64|  2016-04-15|\n",
      "|       justin bieber|      love yourself|       62|  2015-12-04|\n",
      "|       justin bieber|   what do you mean|       62|  2015-09-04|\n",
      "|            dua lipa|          new rules|       61|  2017-08-18|\n",
      "|       years & years|               king|       59|  2015-03-08|\n",
      "|lady gaga & bradl...|            shallow|       57|  2018-10-26|\n",
      "|      ellie goulding|love me like you do|       57|  2015-02-08|\n",
      "|calvin harris & d...|           one kiss|       52|  2018-04-20|\n",
      "|         jess glynne|       hold my hand|       51|  2015-03-29|\n",
      "|        shawn mendes|           stitches|       51|  2016-01-22|\n",
      "|        lukas graham|            7 years|       49|  2016-02-12|\n",
      "|               adele|              hello|       49|  2015-10-30|\n",
      "|clean bandit ft z...|           symphony|       48|  2017-04-28|\n",
      "+--------------------+-------------------+---------+------------+\n",
      "only showing top 20 rows\n",
      "\n"
     ]
    }
   ],
   "source": [
    "spark.sql('''\n",
    "            SELECT DISTINCT artist, title, COUNT(*) as num_weeks, MIN(week_of)\n",
    "            FROM test\n",
    "            WHERE peak_rank == 1\n",
    "            GROUP BY 1,2\n",
    "            ORDER BY 3 DESC\n",
    "            ''').show()"
   ]
  },
  {
   "cell_type": "markdown",
   "metadata": {},
   "source": [
    "## Average number of weeks in the top 100 (songs that hit rank 1)"
   ]
  },
  {
   "cell_type": "code",
   "execution_count": 33,
   "metadata": {},
   "outputs": [
    {
     "name": "stdout",
     "output_type": "stream",
     "text": [
      "+------------------+\n",
      "|    avg(num_weeks)|\n",
      "+------------------+\n",
      "|26.708661417322833|\n",
      "+------------------+\n",
      "\n"
     ]
    }
   ],
   "source": [
    "spark.sql('''\n",
    "            SELECT AVG(num_weeks)\n",
    "            FROM (SELECT DISTINCT title, COUNT(*) as num_weeks, MIN(week_of)\n",
    "                    FROM test\n",
    "                    WHERE peak_rank == 1\n",
    "                    GROUP BY 1\n",
    "                    ORDER BY 2 DESC)\n",
    "            ''').show()"
   ]
  },
  {
   "cell_type": "markdown",
   "metadata": {},
   "source": [
    "## Average rank for the song \"Shape of You\" by Ed Sheeran"
   ]
  },
  {
   "cell_type": "code",
   "execution_count": 43,
   "metadata": {},
   "outputs": [
    {
     "name": "stdout",
     "output_type": "stream",
     "text": [
      "+-----------------------------------+-------------------+\n",
      "|round(avg(CAST(rank AS BIGINT)), 2)|max(weeks_on_chart)|\n",
      "+-----------------------------------+-------------------+\n",
      "|                              42.52|                 97|\n",
      "+-----------------------------------+-------------------+\n",
      "\n"
     ]
    }
   ],
   "source": [
    "spark.sql('''\n",
    "            SELECT ROUND(AVG(rank),2), MAX(weeks_on_chart)\n",
    "            FROM test\n",
    "            WHERE title = \"shape of you\"\n",
    "            ''').show()"
   ]
  },
  {
   "cell_type": "markdown",
   "metadata": {},
   "source": [
    "## Average rank and number of weeks on chart"
   ]
  },
  {
   "cell_type": "code",
   "execution_count": null,
   "metadata": {},
   "outputs": [],
   "source": [
    "spark.sql('''\n",
    "            SELECT AVG()''')"
   ]
  },
  {
   "cell_type": "code",
   "execution_count": 97,
   "metadata": {},
   "outputs": [
    {
     "name": "stdout",
     "output_type": "stream",
     "text": [
      "+--------------------+--------------------+--------+-----------------------------------+------------+\n",
      "|               title|              artist|count(1)|round(avg(CAST(rank AS BIGINT)), 2)|week_entered|\n",
      "+--------------------+--------------------+--------+-----------------------------------+------------+\n",
      "|             perfect|          ed sheeran|     110|                              48.09|  2017-03-10|\n",
      "|       mr brightside|             killers|     105|                              84.86|  2015-04-19|\n",
      "|        shape of you|          ed sheeran|      97|                              42.52|  2017-01-13|\n",
      "|   thinking out loud|          ed sheeran|      90|                              56.27|  2015-01-11|\n",
      "|          chandelier|                 sia|      87|                              64.46|  2015-01-11|\n",
      "|             shotgun|         george ezra|      87|                              35.99|  2018-03-30|\n",
      "|             lean on|major lazer ft mo...|      79|                              45.92|  2015-03-08|\n",
      "|           let it go|           james bay|      77|                              65.03|  2015-03-29|\n",
      "|          this is me|settle/greatest s...|      75|                              40.84|  2018-01-05|\n",
      "|          photograph|          ed sheeran|      73|                               54.6|  2015-01-11|\n",
      "|         uptown funk|mark ronson ft br...|      72|                              43.81|  2015-01-11|\n",
      "|     shut up & dance|       walk the moon|      72|                              54.63|  2015-06-07|\n",
      "|   despacito (remix)|luis fonsi/daddy ...|      71|                              51.11|  2017-05-12|\n",
      "|can't stop the fe...|   justin timberlake|      71|                              46.94|  2016-05-13|\n",
      "|               sorry|       justin bieber|      68|                              41.43|  2015-10-30|\n",
      "| hold back the river|           james bay|      68|                              47.06|  2015-01-11|\n",
      "|            stitches|        shawn mendes|      67|                              47.63|  2015-09-25|\n",
      "|   take me to church|              hozier|      66|                              46.67|  2015-01-11|\n",
      "|           new rules|            dua lipa|      66|                              43.92|  2017-07-14|\n",
      "|       cheap thrills|                 sia|      66|                              39.12|  2016-02-19|\n",
      "+--------------------+--------------------+--------+-----------------------------------+------------+\n",
      "only showing top 20 rows\n",
      "\n"
     ]
    }
   ],
   "source": [
    "spark.sql('''\n",
    "            SELECT title, artist, COUNT(*), ROUND(AVG(rank),2), MIN(week_of) as week_entered\n",
    "            FROM test\n",
    "            GROUP BY 1,2\n",
    "            ORDER BY 3 DESC\n",
    "            ''').show()"
   ]
  },
  {
   "cell_type": "code",
   "execution_count": 92,
   "metadata": {},
   "outputs": [],
   "source": [
    "new_songs_2015_2019 = spark.sql('''\n",
    "            SELECT *\n",
    "            FROM (SELECT title, artist, COUNT(*), ROUND(AVG(rank),2), MIN(week_of) as week_entered\n",
    "                FROM test\n",
    "                GROUP BY 1,2\n",
    "                ORDER BY 3 DESC)\n",
    "            WHERE week_entered > \"2015-01-11\"''')"
   ]
  },
  {
   "cell_type": "code",
   "execution_count": 93,
   "metadata": {},
   "outputs": [],
   "source": [
    "new_songs_2015_2019.createOrReplaceTempView('test2')"
   ]
  },
  {
   "cell_type": "code",
   "execution_count": 94,
   "metadata": {},
   "outputs": [
    {
     "name": "stdout",
     "output_type": "stream",
     "text": [
      "+--------+\n",
      "|count(1)|\n",
      "+--------+\n",
      "|    2505|\n",
      "+--------+\n",
      "\n"
     ]
    }
   ],
   "source": [
    "spark.sql('''\n",
    "            SELECT COUNT(*)\n",
    "            FROM test2''').show()"
   ]
  },
  {
   "cell_type": "code",
   "execution_count": 95,
   "metadata": {},
   "outputs": [
    {
     "name": "stdout",
     "output_type": "stream",
     "text": [
      "+--------------------+--------------------+--------+-----------------------------------+------------+\n",
      "|               title|              artist|count(1)|round(avg(CAST(rank AS BIGINT)), 2)|week_entered|\n",
      "+--------------------+--------------------+--------+-----------------------------------+------------+\n",
      "|             perfect|          ed sheeran|     110|                              48.09|  2017-03-10|\n",
      "|       mr brightside|             killers|     105|                              84.86|  2015-04-19|\n",
      "|        shape of you|          ed sheeran|      97|                              42.52|  2017-01-13|\n",
      "|             shotgun|         george ezra|      87|                              35.99|  2018-03-30|\n",
      "|             lean on|major lazer ft mo...|      79|                              45.92|  2015-03-08|\n",
      "|           let it go|           james bay|      77|                              65.03|  2015-03-29|\n",
      "|          this is me|settle/greatest s...|      75|                              40.84|  2018-01-05|\n",
      "|     shut up & dance|       walk the moon|      72|                              54.63|  2015-06-07|\n",
      "|   despacito (remix)|luis fonsi/daddy ...|      71|                              51.11|  2017-05-12|\n",
      "|can't stop the fe...|   justin timberlake|      71|                              46.94|  2016-05-13|\n",
      "|               sorry|       justin bieber|      68|                              41.43|  2015-10-30|\n",
      "|            stitches|        shawn mendes|      67|                              47.63|  2015-09-25|\n",
      "|           new rules|            dua lipa|      66|                              43.92|  2017-07-14|\n",
      "|       cheap thrills|                 sia|      66|                              39.12|  2016-02-19|\n",
      "|           one dance|drake ft wizkid &...|      65|                              33.86|  2016-04-08|\n",
      "|       love yourself|       justin bieber|      64|                              44.41|  2015-11-20|\n",
      "|    leave a light on|          tom walker|      63|                              51.38|  2018-01-05|\n",
      "|    what do you mean|       justin bieber|      62|                              37.92|  2015-09-04|\n",
      "|             shallow|lady gaga & bradl...|      60|                              43.43|  2018-10-05|\n",
      "|                king|       years & years|      59|                              51.51|  2015-03-08|\n",
      "+--------------------+--------------------+--------+-----------------------------------+------------+\n",
      "only showing top 20 rows\n",
      "\n"
     ]
    }
   ],
   "source": [
    "spark.sql('''\n",
    "            SELECT *\n",
    "            FROM test2''').show()"
   ]
  },
  {
   "cell_type": "code",
   "execution_count": 53,
   "metadata": {},
   "outputs": [
    {
     "name": "stdout",
     "output_type": "stream",
     "text": [
      "+------------------+\n",
      "|        avg(count)|\n",
      "+------------------+\n",
      "|13.223092998955067|\n",
      "+------------------+\n",
      "\n"
     ]
    }
   ],
   "source": [
    "spark.sql('''\n",
    "            SELECT AVG(count)\n",
    "            FROM (SELECT title, artist, COUNT(*) as count\n",
    "                FROM test\n",
    "                GROUP BY 1,2\n",
    "                HAVING count > 1\n",
    "                ORDER BY 3)\n",
    "            ''').show()"
   ]
  },
  {
   "cell_type": "code",
   "execution_count": null,
   "metadata": {},
   "outputs": [],
   "source": [
    "spark.sql()"
   ]
  },
  {
   "cell_type": "markdown",
   "metadata": {},
   "source": [
    "## Number of appearances by label"
   ]
  },
  {
   "cell_type": "code",
   "execution_count": 98,
   "metadata": {},
   "outputs": [
    {
     "name": "stdout",
     "output_type": "stream",
     "text": [
      "+--------------------+--------+\n",
      "|               label|count(1)|\n",
      "+--------------------+--------+\n",
      "|            atlantic|    2055|\n",
      "|            columbia|    1613|\n",
      "|          interscope|    1493|\n",
      "|             polydor|    1220|\n",
      "|                 rca|    1099|\n",
      "|              virgin|     924|\n",
      "|              asylum|     911|\n",
      "|                 emi|     830|\n",
      "|          syco music|     821|\n",
      "|    republic records|     817|\n",
      "|          parlophone|     791|\n",
      "|         warner bros|     653|\n",
      "|              island|     650|\n",
      "|cash money/republ...|     650|\n",
      "|             capitol|     612|\n",
      "|             def jam|     519|\n",
      "|                epic|     471|\n",
      "|   ministry of sound|     466|\n",
      "|            positiva|     413|\n",
      "|          relentless|     360|\n",
      "+--------------------+--------+\n",
      "only showing top 20 rows\n",
      "\n"
     ]
    }
   ],
   "source": [
    "spark.sql('''\n",
    "            SELECT label, COUNT(*)\n",
    "            FROM test\n",
    "            GROUP BY 1\n",
    "            ORDER BY 2 DESC\n",
    "            ''').show()"
   ]
  },
  {
   "cell_type": "code",
   "execution_count": 99,
   "metadata": {},
   "outputs": [
    {
     "name": "stdout",
     "output_type": "stream",
     "text": [
      "+---------------------+\n",
      "|count(DISTINCT label)|\n",
      "+---------------------+\n",
      "|                  408|\n",
      "+---------------------+\n",
      "\n"
     ]
    }
   ],
   "source": [
    "spark.sql('''\n",
    "            SELECT COUNT(DISTINCT label)\n",
    "            FROM test\n",
    "            ''').show()"
   ]
  },
  {
   "cell_type": "markdown",
   "metadata": {},
   "source": [
    "## Average rank of each label"
   ]
  },
  {
   "cell_type": "code",
   "execution_count": 101,
   "metadata": {},
   "outputs": [
    {
     "name": "stdout",
     "output_type": "stream",
     "text": [
      "+--------------------+---------+--------+\n",
      "|               label|num_songs|avg_rank|\n",
      "+--------------------+---------+--------+\n",
      "|          interscope|      171|   51.51|\n",
      "|                 rca|      136|   53.36|\n",
      "|            columbia|      134|   48.64|\n",
      "|            atlantic|      129|   47.02|\n",
      "|              virgin|      117|   54.65|\n",
      "|             polydor|      110|   50.31|\n",
      "|              island|       90|   54.77|\n",
      "|          syco music|       80|   46.77|\n",
      "|          parlophone|       79|   51.33|\n",
      "|cash money/republ...|       78|   50.38|\n",
      "|                 emi|       76|   47.93|\n",
      "|             def jam|       69|    54.3|\n",
      "|         warner bros|       60|   47.58|\n",
      "|    republic records|       59|   43.67|\n",
      "|             capitol|       48|   48.49|\n",
      "|              asylum|       43|   48.22|\n",
      "|                epic|       42|   53.03|\n",
      "|   ministry of sound|       34|   46.21|\n",
      "| republic records/xo|       33|   47.52|\n",
      "|          relentless|       26|   54.46|\n",
      "+--------------------+---------+--------+\n",
      "only showing top 20 rows\n",
      "\n"
     ]
    }
   ],
   "source": [
    "spark.sql('''\n",
    "            SELECT label, COUNT(DISTINCT title) AS num_songs, ROUND(AVG(rank),2) AS avg_rank\n",
    "            FROM test\n",
    "            GROUP BY 1\n",
    "            ORDER BY 2 DESC\n",
    "            ''').show()"
   ]
  },
  {
   "cell_type": "code",
   "execution_count": 102,
   "metadata": {
    "collapsed": true,
    "jupyter": {
     "outputs_hidden": true
    }
   },
   "outputs": [
    {
     "name": "stdout",
     "output_type": "stream",
     "text": [
      "+---------------------------+---------+--------+\n",
      "|label                      |num_songs|avg_rank|\n",
      "+---------------------------+---------+--------+\n",
      "|republic records           |59       |43.67   |\n",
      "|positiva                   |22       |44.21   |\n",
      "|merky                      |16       |45.04   |\n",
      "|ministry of sound          |34       |46.21   |\n",
      "|warner records             |16       |46.38   |\n",
      "|syco music                 |80       |46.77   |\n",
      "|atlantic                   |129      |47.02   |\n",
      "|disruptor                  |16       |47.25   |\n",
      "|republic records/xo        |33       |47.52   |\n",
      "|warner bros                |60       |47.58   |\n",
      "|emi                        |76       |47.93   |\n",
      "|asylum                     |43       |48.22   |\n",
      "|capitol                    |48       |48.49   |\n",
      "|columbia                   |134      |48.64   |\n",
      "|polydor                    |110      |50.31   |\n",
      "|cash money/republic records|78       |50.38   |\n",
      "|3 beat                     |19       |51.3    |\n",
      "|parlophone                 |79       |51.33   |\n",
      "|interscope                 |171      |51.51   |\n",
      "|black butter               |22       |51.74   |\n",
      "|xl recordings              |17       |52.31   |\n",
      "|epic                       |42       |53.03   |\n",
      "|rca                        |136      |53.36   |\n",
      "|def jam                    |69       |54.3    |\n",
      "|relentless                 |26       |54.46   |\n",
      "|virgin                     |117      |54.65   |\n",
      "|island                     |90       |54.77   |\n",
      "+---------------------------+---------+--------+\n",
      "\n"
     ]
    }
   ],
   "source": [
    "spark.sql('''\n",
    "            SELECT label, COUNT(DISTINCT title) AS num_songs, ROUND(AVG(rank),2) AS avg_rank\n",
    "            FROM test\n",
    "            GROUP BY 1\n",
    "            HAVING num_songs >15\n",
    "            ORDER BY 3\n",
    "            ''').show(50, False)"
   ]
  },
  {
   "cell_type": "markdown",
   "metadata": {},
   "source": [
    "## Average rank per label (without collabs)"
   ]
  },
  {
   "cell_type": "code",
   "execution_count": 104,
   "metadata": {},
   "outputs": [
    {
     "name": "stdout",
     "output_type": "stream",
     "text": [
      "+-----------------+---------------------+--------+\n",
      "|label            |count(DISTINCT title)|avg_rank|\n",
      "+-----------------+---------------------+--------+\n",
      "|interscope       |171                  |51.51   |\n",
      "|rca              |136                  |53.36   |\n",
      "|columbia         |134                  |48.64   |\n",
      "|atlantic         |129                  |47.02   |\n",
      "|virgin           |117                  |54.65   |\n",
      "|polydor          |110                  |50.31   |\n",
      "|island           |90                   |54.77   |\n",
      "|syco music       |80                   |46.77   |\n",
      "|parlophone       |79                   |51.33   |\n",
      "|emi              |76                   |47.93   |\n",
      "|def jam          |69                   |54.3    |\n",
      "|warner bros      |60                   |47.58   |\n",
      "|republic records |59                   |43.67   |\n",
      "|capitol          |48                   |48.49   |\n",
      "|asylum           |43                   |48.22   |\n",
      "|epic             |42                   |53.03   |\n",
      "|ministry of sound|34                   |46.21   |\n",
      "|relentless       |26                   |54.46   |\n",
      "|black butter     |22                   |51.74   |\n",
      "|positiva         |22                   |44.21   |\n",
      "+-----------------+---------------------+--------+\n",
      "only showing top 20 rows\n",
      "\n"
     ]
    }
   ],
   "source": [
    "spark.sql('''\n",
    "            SELECT label, COUNT(DISTINCT title), ROUND(AVG(rank),2) AS avg_rank\n",
    "            FROM test\n",
    "            WHERE label NOT IN (SELECT label\n",
    "                                FROM test\n",
    "                                WHERE label like \"%/%\"\n",
    "                                GROUP BY label)\n",
    "            GROUP BY 1\n",
    "            ORDER BY 2 DESC\n",
    "            ''').show(20, False)"
   ]
  },
  {
   "cell_type": "markdown",
   "metadata": {},
   "source": [
    "## Most appearances by artist"
   ]
  },
  {
   "cell_type": "code",
   "execution_count": 105,
   "metadata": {},
   "outputs": [
    {
     "name": "stdout",
     "output_type": "stream",
     "text": [
      "+--------------+--------+--------+\n",
      "|        artist|count(1)|avg_rank|\n",
      "+--------------+--------+--------+\n",
      "|    ed sheeran|     706|   49.83|\n",
      "|         drake|     352|    49.4|\n",
      "| justin bieber|     280|   47.48|\n",
      "| ariana grande|     269|   39.33|\n",
      "|   george ezra|     263|   48.57|\n",
      "|    little mix|     244|   45.81|\n",
      "|           sia|     244|   55.59|\n",
      "|        weeknd|     228|   46.48|\n",
      "|     sam smith|     216|   48.84|\n",
      "|  shawn mendes|     213|   42.92|\n",
      "|   jess glynne|     207|   44.33|\n",
      "| years & years|     197|   50.62|\n",
      "|  taylor swift|     189|   54.21|\n",
      "|      dua lipa|     172|   41.03|\n",
      "|     james bay|     169|   58.82|\n",
      "| lewis capaldi|     158|   29.18|\n",
      "|      coldplay|     157|   53.01|\n",
      "|ellie goulding|     142|   45.52|\n",
      "|       stormzy|     142|    49.3|\n",
      "|  zara larsson|     142|   43.61|\n",
      "+--------------+--------+--------+\n",
      "only showing top 20 rows\n",
      "\n"
     ]
    }
   ],
   "source": [
    "spark.sql('''\n",
    "            SELECT DISTINCT artist, COUNT(*), ROUND(AVG(rank),2) AS avg_rank\n",
    "            FROM test\n",
    "            GROUP BY 1\n",
    "            ORDER BY 2 DESC''').show()"
   ]
  },
  {
   "cell_type": "markdown",
   "metadata": {},
   "source": [
    "## More Ed Sheeran"
   ]
  },
  {
   "cell_type": "code",
   "execution_count": 106,
   "metadata": {},
   "outputs": [
    {
     "name": "stdout",
     "output_type": "stream",
     "text": [
      "+------------------------------+--------+----+------------+\n",
      "|title                         |count(1)|peak|min(week_of)|\n",
      "+------------------------------+--------+----+------------+\n",
      "|perfect                       |110     |1   |2017-03-10  |\n",
      "|shape of you                  |97      |1   |2017-01-13  |\n",
      "|thinking out loud             |90      |3   |2015-01-11  |\n",
      "|photograph                    |73      |15  |2015-01-11  |\n",
      "|castle on the hill            |53      |2   |2017-01-13  |\n",
      "|bloodstream                   |38      |2   |2015-03-01  |\n",
      "|galway girl                   |31      |2   |2017-03-10  |\n",
      "|sing                          |23      |29  |2015-01-11  |\n",
      "|supermarket flowers           |21      |8   |2017-03-10  |\n",
      "|don't                         |20      |20  |2015-01-11  |\n",
      "|happier                       |18      |6   |2017-03-10  |\n",
      "|what do i know                |17      |9   |2017-03-10  |\n",
      "|i see fire                    |15      |54  |2015-01-11  |\n",
      "|new man                       |14      |5   |2017-03-10  |\n",
      "|dive                          |13      |8   |2017-03-10  |\n",
      "|barcelona                     |13      |12  |2017-03-10  |\n",
      "|how would you feel (paean)    |12      |2   |2017-02-24  |\n",
      "|nancy mulligan                |10      |13  |2017-03-10  |\n",
      "|eraser                        |8       |14  |2017-03-10  |\n",
      "|hearts don't break around here|8       |15  |2017-03-10  |\n",
      "|bibia be ye ye                |8       |18  |2017-03-10  |\n",
      "|save myself                   |6       |19  |2017-03-10  |\n",
      "|the a team                    |5       |52  |2017-01-13  |\n",
      "|give me love                  |1       |94  |2017-01-13  |\n",
      "|one                           |1       |94  |2015-01-25  |\n",
      "|i will take you home          |1       |69  |2015-04-05  |\n",
      "+------------------------------+--------+----+------------+\n",
      "\n"
     ]
    }
   ],
   "source": [
    "spark.sql('''\n",
    "            SELECT title, COUNT(*), MIN(rank) as peak, MIN(week_of)\n",
    "            FROM test\n",
    "            WHERE artist = \"ed sheeran\"\n",
    "            GROUP BY 1\n",
    "            ORDER BY 2 DESC\n",
    "            ''').show(30, False)"
   ]
  },
  {
   "cell_type": "code",
   "execution_count": 107,
   "metadata": {},
   "outputs": [
    {
     "name": "stdout",
     "output_type": "stream",
     "text": [
      "+--------------------------+--------+----+------------+\n",
      "|title                     |count(1)|peak|min(week_of)|\n",
      "+--------------------------+--------+----+------------+\n",
      "|perfect                   |110     |1   |2017-03-10  |\n",
      "|shape of you              |97      |1   |2017-01-13  |\n",
      "|thinking out loud         |90      |3   |2015-01-11  |\n",
      "|castle on the hill        |53      |2   |2017-01-13  |\n",
      "|bloodstream               |38      |2   |2015-03-01  |\n",
      "|galway girl               |31      |2   |2017-03-10  |\n",
      "|new man                   |14      |5   |2017-03-10  |\n",
      "|how would you feel (paean)|12      |2   |2017-02-24  |\n",
      "+--------------------------+--------+----+------------+\n",
      "\n"
     ]
    }
   ],
   "source": [
    "spark.sql('''\n",
    "            SELECT title, COUNT(*), MIN(rank) as peak, MIN(week_of)\n",
    "            FROM test\n",
    "            WHERE artist = \"ed sheeran\"\n",
    "            GROUP BY 1\n",
    "            HAVING peak < 6\n",
    "            ORDER BY 2 DESC\n",
    "            ''').show(20, False)"
   ]
  },
  {
   "cell_type": "code",
   "execution_count": 108,
   "metadata": {},
   "outputs": [
    {
     "name": "stdout",
     "output_type": "stream",
     "text": [
      "+---------------------+\n",
      "|count(DISTINCT title)|\n",
      "+---------------------+\n",
      "|                   26|\n",
      "+---------------------+\n",
      "\n"
     ]
    }
   ],
   "source": [
    "spark.sql('''\n",
    "            SELECT COUNT(DISTINCT title)\n",
    "            FROM test\n",
    "            WHERE artist = \"ed sheeran\"\n",
    "            \n",
    "            ''').show()"
   ]
  },
  {
   "cell_type": "code",
   "execution_count": 110,
   "metadata": {},
   "outputs": [
    {
     "name": "stdout",
     "output_type": "stream",
     "text": [
      "root\n",
      " |-- rank: integer (nullable = true)\n",
      " |-- last_week_rank: string (nullable = true)\n",
      " |-- title: string (nullable = true)\n",
      " |-- artist: string (nullable = true)\n",
      " |-- label: string (nullable = true)\n",
      " |-- peak_rank: integer (nullable = true)\n",
      " |-- weeks_on_chart: integer (nullable = true)\n",
      " |-- week_of: date (nullable = true)\n",
      "\n",
      "root\n",
      " |-- title: string (nullable = true)\n",
      " |-- artist: string (nullable = true)\n",
      " |-- count(1): long (nullable = false)\n",
      " |-- round(avg(CAST(rank AS BIGINT)), 2): double (nullable = true)\n",
      " |-- week_entered: date (nullable = true)\n",
      "\n"
     ]
    }
   ],
   "source": [
    "df.printSchema() #table = test\n",
    "new_songs_2015_2019.printSchema() # table = test2"
   ]
  },
  {
   "cell_type": "markdown",
   "metadata": {},
   "source": [
    "## Number of new songs from 2015-2019"
   ]
  },
  {
   "cell_type": "code",
   "execution_count": 111,
   "metadata": {},
   "outputs": [
    {
     "name": "stdout",
     "output_type": "stream",
     "text": [
      "+--------+\n",
      "|count(1)|\n",
      "+--------+\n",
      "|    2340|\n",
      "+--------+\n",
      "\n"
     ]
    }
   ],
   "source": [
    "spark.sql('''\n",
    "            SELECT COUNT(*)\n",
    "            FROM test\n",
    "            WHERE last_week_rank LIKE \"%new%\"\n",
    "            ''').show()"
   ]
  },
  {
   "cell_type": "code",
   "execution_count": 114,
   "metadata": {},
   "outputs": [],
   "source": [
    "new_songs_2015_2019_2 = spark.sql('''\n",
    "            SELECT artist, title\n",
    "            FROM test\n",
    "            WHERE last_week_rank LIKE \"%new%\"\n",
    "            ''')"
   ]
  },
  {
   "cell_type": "code",
   "execution_count": 115,
   "metadata": {},
   "outputs": [],
   "source": [
    "new_songs_2015_2019_2.createOrReplaceTempView('test3')"
   ]
  },
  {
   "cell_type": "code",
   "execution_count": 116,
   "metadata": {},
   "outputs": [
    {
     "name": "stdout",
     "output_type": "stream",
     "text": [
      "root\n",
      " |-- artist: string (nullable = true)\n",
      " |-- title: string (nullable = true)\n",
      "\n"
     ]
    }
   ],
   "source": [
    "new_songs_2015_2019_2.printSchema()"
   ]
  },
  {
   "cell_type": "code",
   "execution_count": 121,
   "metadata": {},
   "outputs": [
    {
     "name": "stdout",
     "output_type": "stream",
     "text": [
      "+--------------------+--------------------+\n",
      "|              artist|               title|\n",
      "+--------------------+--------------------+\n",
      "|            jessie j|    man with the bag|\n",
      "|          liam payne|all i want (for c...|\n",
      "|               queen|thank god it's ch...|\n",
      "|      chris de burgh|a spaceman came t...|\n",
      "|             ladbaby|i love sausage rolls|\n",
      "|stormzy ft headie...|            audacity|\n",
      "|             stormzy|             lessons|\n",
      "|        harry styles|             falling|\n",
      "|       jarvis cocker|   running the world|\n",
      "|        lil uzi vert| futsal shuffle 2020|\n",
      "|             sidemen|            the gift|\n",
      "|      jonas brothers| like it's christmas|\n",
      "|      d-block europe|             darling|\n",
      "|          juice wrld|             legends|\n",
      "|         roddy ricch|             the box|\n",
      "|        harry styles|           adore you|\n",
      "|         john legend|happy christmas (...|\n",
      "|                jay1|       million bucks|\n",
      "|        bugzy malone|            december|\n",
      "|camila cabello ft...|            my oh my|\n",
      "+--------------------+--------------------+\n",
      "only showing top 20 rows\n",
      "\n"
     ]
    }
   ],
   "source": [
    "spark.sql('''\n",
    "            SELECT *\n",
    "            FROM test3\n",
    "            ''').show()"
   ]
  },
  {
   "cell_type": "code",
   "execution_count": 126,
   "metadata": {},
   "outputs": [
    {
     "name": "stdout",
     "output_type": "stream",
     "text": [
      "root\n",
      " |-- rank: integer (nullable = true)\n",
      " |-- last_week_rank: string (nullable = true)\n",
      " |-- title: string (nullable = true)\n",
      " |-- artist: string (nullable = true)\n",
      " |-- label: string (nullable = true)\n",
      " |-- peak_rank: integer (nullable = true)\n",
      " |-- weeks_on_chart: integer (nullable = true)\n",
      " |-- week_of: date (nullable = true)\n",
      "\n"
     ]
    },
    {
     "data": {
      "text/plain": [
       "26000"
      ]
     },
     "execution_count": 126,
     "metadata": {},
     "output_type": "execute_result"
    }
   ],
   "source": [
    "df.printSchema()\n",
    "df.count()"
   ]
  },
  {
   "cell_type": "code",
   "execution_count": 125,
   "metadata": {},
   "outputs": [
    {
     "name": "stdout",
     "output_type": "stream",
     "text": [
      "root\n",
      " |-- artist: string (nullable = true)\n",
      " |-- title: string (nullable = true)\n",
      "\n"
     ]
    },
    {
     "data": {
      "text/plain": [
       "2340"
      ]
     },
     "execution_count": 125,
     "metadata": {},
     "output_type": "execute_result"
    }
   ],
   "source": [
    "new_songs_2015_2019_2.printSchema()\n",
    "new_songs_2015_2019_2.count()"
   ]
  },
  {
   "cell_type": "code",
   "execution_count": 146,
   "metadata": {},
   "outputs": [],
   "source": [
    "new_df = spark.sql('''\n",
    "            SELECT *\n",
    "            FROM test\n",
    "            LEFT SEMI JOIN test3\n",
    "            ON test.title = test3.title AND test.artist = test3.artist''')"
   ]
  },
  {
   "cell_type": "code",
   "execution_count": 147,
   "metadata": {},
   "outputs": [
    {
     "data": {
      "text/plain": [
       "22822"
      ]
     },
     "execution_count": 147,
     "metadata": {},
     "output_type": "execute_result"
    }
   ],
   "source": [
    "new_df.count()"
   ]
  },
  {
   "cell_type": "code",
   "execution_count": 148,
   "metadata": {},
   "outputs": [],
   "source": [
    "new_df.createOrReplaceTempView('test4')"
   ]
  },
  {
   "cell_type": "code",
   "execution_count": 149,
   "metadata": {},
   "outputs": [
    {
     "name": "stdout",
     "output_type": "stream",
     "text": [
      "+----+--------------+--------------------+--------------------+--------------------+---------+--------------+----------+\n",
      "|rank|last_week_rank|               title|              artist|               label|peak_rank|weeks_on_chart|   week_of|\n",
      "+----+--------------+--------------------+--------------------+--------------------+---------+--------------+----------+\n",
      "|   1|            11|               river|      ellie goulding|             polydor|        1|             5|2019-12-27|\n",
      "|   5|             2|              own it|stormzy/ed sheera...|      atlantic/merky|        2|             5|2019-12-27|\n",
      "|   9|            34|happy christmas (...|         john legend|            columbia|        9|             3|2019-12-27|\n",
      "|  12|             3|       before you go|       lewis capaldi|                 emi|        2|             6|2019-12-27|\n",
      "|  14|             4|     don't start now|            dua lipa|      warner records|        2|             8|2019-12-27|\n",
      "|  16|             7|             roxanne|      arizona zervas|          sony music|        5|             8|2019-12-27|\n",
      "|  17|            36|santa's coming fo...|                 sia|atlantic/monkey p...|       17|            12|2019-12-27|\n",
      "|  20|            10|        dance monkey|           tones & i|          parlophone|        1|            21|2019-12-27|\n",
      "|  22|            43|cozy little chris...|          katy perry|              virgin|       22|             7|2019-12-27|\n",
      "|  23|            13| everything i wanted|       billie eilish|          interscope|        3|             6|2019-12-27|\n",
      "|  26|            12|           adore you|        harry styles|            columbia|       11|             3|2019-12-27|\n",
      "|  30|            61|    jingle bell rock|         bobby helms|                 mca|       30|            10|2019-12-27|\n",
      "|  33|            70|christmas (baby p...|        darlene love|   legacy recordings|       22|             8|2019-12-27|\n",
      "|  36|            23|          pump it up|               endor|            defected|       20|            11|2019-12-27|\n",
      "|  38|             6|            audacity|stormzy ft headie...|      atlantic/merky|        6|             2|2019-12-27|\n",
      "|  40|            re|           vossi bop|             stormzy|               merky|        1|            32|2019-12-27|\n",
      "|  41|            20|     blinding lights|              weeknd|    republic records|       12|             4|2019-12-27|\n",
      "|  43|            22| lose you to love me|        selena gomez|          interscope|        3|            10|2019-12-27|\n",
      "|  44|            30|        this is real|jax jones ft ella...|             polydor|       18|            14|2019-12-27|\n",
      "|  45|            26|             falling|       trevor daniel|               alamo|       26|             5|2019-12-27|\n",
      "+----+--------------+--------------------+--------------------+--------------------+---------+--------------+----------+\n",
      "only showing top 20 rows\n",
      "\n"
     ]
    }
   ],
   "source": [
    "spark.sql('''\n",
    "            SELECT *\n",
    "            FROM test4\n",
    "            ''').show()"
   ]
  },
  {
   "cell_type": "markdown",
   "metadata": {},
   "source": [
    "## Life of songs (ordered by first entrance date) with avg rank over life"
   ]
  },
  {
   "cell_type": "code",
   "execution_count": 159,
   "metadata": {},
   "outputs": [
    {
     "name": "stdout",
     "output_type": "stream",
     "text": [
      "+--------------------+--------------------+---------+--------+-------------+\n",
      "|              artist|               title|num_weeks|avg_rank|entrance_date|\n",
      "+--------------------+--------------------+---------+--------+-------------+\n",
      "|kygo ft conrad se...|           firestone|       55|   46.56|   2015-01-11|\n",
      "|           james bay|               scars|        9|   76.89|   2015-01-11|\n",
      "|                 omi|         cheerleader|       16|   60.81|   2015-01-11|\n",
      "|        fall out boy|        irresistible|        2|    75.5|   2015-01-11|\n",
      "|fuse odg ft killb...|    thinking about u|        3|   80.67|   2015-01-11|\n",
      "|              tulisa|  living without you|        1|    44.0|   2015-01-11|\n",
      "|tchami ft kaleem ...|           promesses|        9|   43.33|   2015-01-11|\n",
      "|noel gallagher's ...|ballad of the mig...|        4|   67.25|   2015-01-18|\n",
      "|          rae morris|   under the shadows|        3|   66.33|   2015-01-18|\n",
      "|        fall out boy|         uma thurman|        3|    83.0|   2015-01-18|\n",
      "|kid ink ft chris ...|               hotel|        5|    53.4|   2015-01-18|\n",
      "|              avicii|          the nights|       33|   35.27|   2015-01-18|\n",
      "|        fall out boy|american beauty/a...|        3|    75.0|   2015-01-18|\n",
      "|        all time low|something's gotta...|        1|    84.0|   2015-01-18|\n",
      "|    big sean ft e-40|i don't f**k with...|       13|   81.54|   2015-01-18|\n",
      "|             prodigy|               nasty|        1|    98.0|   2015-01-18|\n",
      "|            maroon 5|               sugar|       45|   37.93|   2015-01-25|\n",
      "|majestic & jungle 70|creeping in the dark|        1|    75.0|   2015-01-25|\n",
      "|     nathan grisdale|            only one|        1|    67.0|   2015-01-25|\n",
      "|    pitbull ft ne-yo|   time of our lives|       25|   54.12|   2015-01-25|\n",
      "+--------------------+--------------------+---------+--------+-------------+\n",
      "only showing top 20 rows\n",
      "\n"
     ]
    }
   ],
   "source": [
    "spark.sql('''\n",
    "            SELECT artist, title, COUNT(*) AS num_weeks, ROUND(AVG(rank),2) AS avg_rank, MIN(week_of) AS entrance_date\n",
    "            FROM test4\n",
    "            GROUP BY 1,2\n",
    "            ORDER BY 5''').show()"
   ]
  },
  {
   "cell_type": "code",
   "execution_count": 171,
   "metadata": {},
   "outputs": [],
   "source": [
    "join1 = spark.sql('''\n",
    "            SELECT artist, title, COUNT(*) AS num_weeks, ROUND(AVG(rank),2) AS avg_rank, MIN(week_of) AS entrance_date\n",
    "            FROM test4\n",
    "            GROUP BY 1,2\n",
    "            ORDER BY 5''')"
   ]
  },
  {
   "cell_type": "markdown",
   "metadata": {},
   "source": [
    "## starting rank"
   ]
  },
  {
   "cell_type": "code",
   "execution_count": 170,
   "metadata": {},
   "outputs": [
    {
     "name": "stdout",
     "output_type": "stream",
     "text": [
      "+--------------------+--------------------+----+----------+\n",
      "|              artist|               title|rank|   week_of|\n",
      "+--------------------+--------------------+----+----------+\n",
      "|                 omi|         cheerleader|  96|2015-01-11|\n",
      "|           james bay|               scars|  63|2015-01-11|\n",
      "|kygo ft conrad se...|           firestone|  97|2015-01-11|\n",
      "|        fall out boy|        irresistible|  70|2015-01-11|\n",
      "|tchami ft kaleem ...|           promesses|   7|2015-01-11|\n",
      "|              tulisa|  living without you|  44|2015-01-11|\n",
      "|fuse odg ft killb...|    thinking about u|  79|2015-01-11|\n",
      "|        fall out boy|         uma thurman|  71|2015-01-18|\n",
      "|noel gallagher's ...|ballad of the mig...|  75|2015-01-18|\n",
      "|        all time low|something's gotta...|  84|2015-01-18|\n",
      "|             prodigy|               nasty|  98|2015-01-18|\n",
      "|        fall out boy|american beauty/a...|  89|2015-01-18|\n",
      "|          rae morris|   under the shadows|  53|2015-01-18|\n",
      "|    big sean ft e-40|i don't f**k with...|  97|2015-01-18|\n",
      "|              avicii|          the nights|  16|2015-01-18|\n",
      "|kid ink ft chris ...|               hotel|  43|2015-01-18|\n",
      "|            maroon 5|               sugar|  55|2015-01-25|\n",
      "|majestic & jungle 70|creeping in the dark|  75|2015-01-25|\n",
      "|     nathan grisdale|            only one|  67|2015-01-25|\n",
      "|    pitbull ft ne-yo|   time of our lives|  81|2015-01-25|\n",
      "+--------------------+--------------------+----+----------+\n",
      "only showing top 20 rows\n",
      "\n"
     ]
    }
   ],
   "source": [
    "spark.sql('''\n",
    "            SELECT artist, title, rank, week_of\n",
    "            FROM test4\n",
    "            WHERE weeks_on_chart = 1\n",
    "            ORDER BY 4''').show()"
   ]
  },
  {
   "cell_type": "code",
   "execution_count": 185,
   "metadata": {},
   "outputs": [],
   "source": [
    "join2 = spark.sql('''\n",
    "            SELECT artist, title, rank, week_of as entrance_date\n",
    "            FROM test4\n",
    "            WHERE weeks_on_chart = 1\n",
    "            ORDER BY 4''')"
   ]
  },
  {
   "cell_type": "markdown",
   "metadata": {},
   "source": [
    "## Join for final df???"
   ]
  },
  {
   "cell_type": "code",
   "execution_count": 188,
   "metadata": {},
   "outputs": [],
   "source": [
    "left_join = join1.join(join2, ['title', 'artist', 'entrance_date'],how='left')"
   ]
  },
  {
   "cell_type": "code",
   "execution_count": 189,
   "metadata": {},
   "outputs": [],
   "source": [
    "left_join.createOrReplaceTempView('test5')"
   ]
  },
  {
   "cell_type": "code",
   "execution_count": 192,
   "metadata": {},
   "outputs": [
    {
     "name": "stdout",
     "output_type": "stream",
     "text": [
      "+--------------------+--------------------+-------------+---------+--------+----+\n",
      "|               title|              artist|entrance_date|num_weeks|avg_rank|rank|\n",
      "+--------------------+--------------------+-------------+---------+--------+----+\n",
      "|        irresistible|        fall out boy|   2015-01-11|        2|    75.5|  70|\n",
      "|           promesses|tchami ft kaleem ...|   2015-01-11|        9|   43.33|   7|\n",
      "|  living without you|              tulisa|   2015-01-11|        1|    44.0|  44|\n",
      "|         cheerleader|                 omi|   2015-01-11|       16|   60.81|  96|\n",
      "|           firestone|kygo ft conrad se...|   2015-01-11|       55|   46.56|  97|\n",
      "|    thinking about u|fuse odg ft killb...|   2015-01-11|        3|   80.67|  79|\n",
      "|               scars|           james bay|   2015-01-11|        9|   76.89|  63|\n",
      "|american beauty/a...|        fall out boy|   2015-01-18|        3|    75.0|  89|\n",
      "|               hotel|kid ink ft chris ...|   2015-01-18|        5|    53.4|  43|\n",
      "|   under the shadows|          rae morris|   2015-01-18|        3|   66.33|  53|\n",
      "|ballad of the mig...|noel gallagher's ...|   2015-01-18|        4|   67.25|  75|\n",
      "|i don't f**k with...|    big sean ft e-40|   2015-01-18|       13|   81.54|  97|\n",
      "|something's gotta...|        all time low|   2015-01-18|        1|    84.0|  84|\n",
      "|          the nights|              avicii|   2015-01-18|       33|   35.27|  16|\n",
      "|         uma thurman|        fall out boy|   2015-01-18|        3|    83.0|  71|\n",
      "|               nasty|             prodigy|   2015-01-18|        1|    98.0|  98|\n",
      "|creeping in the dark|majestic & jungle 70|   2015-01-25|        1|    75.0|  75|\n",
      "|               sugar|            maroon 5|   2015-01-25|       45|   37.93|  55|\n",
      "|            only one|     nathan grisdale|   2015-01-25|        1|    67.0|  67|\n",
      "|   time of our lives|    pitbull ft ne-yo|   2015-01-25|       25|   54.12|  81|\n",
      "+--------------------+--------------------+-------------+---------+--------+----+\n",
      "only showing top 20 rows\n",
      "\n"
     ]
    }
   ],
   "source": [
    "spark.sql('''\n",
    "            SELECT *\n",
    "            FROM test5''').show()"
   ]
  },
  {
   "cell_type": "code",
   "execution_count": 193,
   "metadata": {},
   "outputs": [
    {
     "name": "stdout",
     "output_type": "stream",
     "text": [
      "+--------------------+--------------------+-------------+---------+--------+----+\n",
      "|               title|              artist|entrance_date|num_weeks|avg_rank|rank|\n",
      "+--------------------+--------------------+-------------+---------+--------+----+\n",
      "|             perfect|          ed sheeran|   2017-03-10|      110|   48.09|   4|\n",
      "|        shape of you|          ed sheeran|   2017-01-13|       97|   42.52|   1|\n",
      "|             shotgun|         george ezra|   2018-03-30|       87|   35.99|  35|\n",
      "|             lean on|major lazer ft mo...|   2015-03-08|       79|   45.92|  77|\n",
      "|          this is me|settle/greatest s...|   2018-01-05|       75|   40.84|  28|\n",
      "|     shut up & dance|       walk the moon|   2015-06-07|       72|   54.63|  75|\n",
      "|can't stop the fe...|   justin timberlake|   2016-05-13|       71|   46.94|   3|\n",
      "|               sorry|       justin bieber|   2015-10-30|       68|   41.43|   2|\n",
      "|            stitches|        shawn mendes|   2015-09-25|       67|   47.63|  97|\n",
      "|           new rules|            dua lipa|   2017-07-14|       66|   43.92|  75|\n",
      "|       cheap thrills|                 sia|   2016-02-19|       66|   39.12|  41|\n",
      "|           one dance|drake ft wizkid &...|   2016-04-08|       65|   33.86|  21|\n",
      "|       love yourself|       justin bieber|   2015-11-20|       64|   44.41|   3|\n",
      "|    leave a light on|          tom walker|   2018-01-05|       63|   51.38|  89|\n",
      "|    what do you mean|       justin bieber|   2015-09-04|       62|   37.92|   1|\n",
      "|             shallow|lady gaga & bradl...|   2018-10-05|       60|   43.43|  13|\n",
      "|                king|       years & years|   2015-03-08|       59|   51.51|   1|\n",
      "|          high hopes|  panic at the disco|   2018-06-01|       58|   50.47|  70|\n",
      "|           lush life|        zara larsson|   2016-01-08|       57|   44.19|  88|\n",
      "| love me like you do|      ellie goulding|   2015-02-08|       57|   53.05|   1|\n",
      "+--------------------+--------------------+-------------+---------+--------+----+\n",
      "only showing top 20 rows\n",
      "\n"
     ]
    }
   ],
   "source": [
    "spark.sql('''\n",
    "            SELECT *\n",
    "            FROM test5\n",
    "            ORDER BY num_weeks DESC''').show()"
   ]
  },
  {
   "cell_type": "code",
   "execution_count": 208,
   "metadata": {},
   "outputs": [],
   "source": [
    "num_per_month_test = spark.sql('''\n",
    "            SELECT COUNT(*)\n",
    "            FROM test5\n",
    "            WHERE MONTH(entrance_date) = 1\n",
    "            ''').collect()"
   ]
  },
  {
   "cell_type": "code",
   "execution_count": 215,
   "metadata": {},
   "outputs": [
    {
     "data": {
      "text/plain": [
       "143"
      ]
     },
     "execution_count": 215,
     "metadata": {},
     "output_type": "execute_result"
    }
   ],
   "source": [
    "num_per_month_test[0][0]"
   ]
  },
  {
   "cell_type": "code",
   "execution_count": 222,
   "metadata": {},
   "outputs": [],
   "source": [
    "num_songs_per_month = []"
   ]
  },
  {
   "cell_type": "code",
   "execution_count": 223,
   "metadata": {},
   "outputs": [],
   "source": [
    "def num_song_per_month(month):\n",
    "    songs_per_month = spark.sql('''\n",
    "                        SELECT COUNT(*)\n",
    "                        FROM test5\n",
    "                        WHERE MONTH(entrance_date) = {}\n",
    "                        '''.format(month)).collect()\n",
    "    return num_songs_per_month.append(songs_per_month[0][0])"
   ]
  },
  {
   "cell_type": "code",
   "execution_count": 224,
   "metadata": {},
   "outputs": [],
   "source": [
    "for i in range(1,13):\n",
    "    num_song_per_month(i)"
   ]
  },
  {
   "cell_type": "code",
   "execution_count": 229,
   "metadata": {},
   "outputs": [
    {
     "data": {
      "text/plain": [
       "[143, 177, 249, 201, 241, 193, 168, 182, 215, 190, 243, 137]"
      ]
     },
     "execution_count": 229,
     "metadata": {},
     "output_type": "execute_result"
    }
   ],
   "source": [
    "num_songs_per_month"
   ]
  },
  {
   "cell_type": "code",
   "execution_count": 277,
   "metadata": {},
   "outputs": [],
   "source": [
    "months = ['January', 'February', 'March', 'April', 'May', 'June', 'July', 'August', 'September', 'October', 'November', 'December']"
   ]
  },
  {
   "cell_type": "code",
   "execution_count": 299,
   "metadata": {},
   "outputs": [
    {
     "data": {
      "text/plain": [
       "Text(0.5, 1.0, 'Number of Songs Per Month')"
      ]
     },
     "execution_count": 299,
     "metadata": {},
     "output_type": "execute_result"
    },
    {
     "data": {
      "image/png": "[encoded data removed]",
      "text/plain": [
       "<Figure size 864x432 with 1 Axes>"
      ]
     },
     "metadata": {
      "needs_background": "light"
     },
     "output_type": "display_data"
    }
   ],
   "source": [
    "fig, ax = plt.subplots(figsize=(12,6))\n",
    "\n",
    "ax.barh(months, num_songs_per_month, height=0.5)\n",
    "ax.invert_yaxis()\n",
    "for i, v in enumerate(num_songs_per_month):\n",
    "    ax.text(v + 3, i + .25, str(v), color='blue')\n",
    "ax.set_xlim(0,280)\n",
    "ax.set_title('Number of Songs Per Month')"
   ]
  },
  {
   "cell_type": "code",
   "execution_count": 291,
   "metadata": {},
   "outputs": [
    {
     "name": "stdout",
     "output_type": "stream",
     "text": [
      "+--------------------+------------------------+\n",
      "|month(entrance_date)|round(avg(num_weeks), 2)|\n",
      "+--------------------+------------------------+\n",
      "|                   1|                   14.31|\n",
      "|                   2|                   10.21|\n",
      "|                   3|                   10.77|\n",
      "|                   4|                    9.27|\n",
      "|                   5|                    9.37|\n",
      "|                   6|                   10.42|\n",
      "|                   7|                    10.1|\n",
      "|                   8|                   10.65|\n",
      "|                   9|                    9.07|\n",
      "|                  10|                    9.65|\n",
      "|                  11|                    9.13|\n",
      "|                  12|                    7.64|\n",
      "+--------------------+------------------------+\n",
      "\n"
     ]
    }
   ],
   "source": [
    "spark.sql('''\n",
    "            SELECT MONTH(entrance_date), ROUND(AVG(num_weeks),2)\n",
    "            FROM test5\n",
    "            WHERE entrance_date < \"2019-11-01\"\n",
    "            GROUP BY MONTH(entrance_date)\n",
    "            ORDER BY 1''').show()"
   ]
  },
  {
   "cell_type": "code",
   "execution_count": 292,
   "metadata": {},
   "outputs": [
    {
     "name": "stdout",
     "output_type": "stream",
     "text": [
      "+--------------------+------------------------+\n",
      "|month(entrance_date)|round(avg(num_weeks), 2)|\n",
      "+--------------------+------------------------+\n",
      "|                   1|                   14.97|\n",
      "|                   2|                   10.87|\n",
      "|                   3|                   11.42|\n",
      "|                   4|                    9.92|\n",
      "|                   5|                   10.13|\n",
      "|                   6|                   10.95|\n",
      "|                   7|                   10.21|\n",
      "|                   8|                   11.99|\n",
      "|                   9|                   10.05|\n",
      "|                  10|                   10.97|\n",
      "|                  11|                    9.13|\n",
      "|                  12|                    7.64|\n",
      "+--------------------+------------------------+\n",
      "\n"
     ]
    }
   ],
   "source": [
    "spark.sql('''\n",
    "            SELECT MONTH(entrance_date), ROUND(AVG(num_weeks),2)\n",
    "            FROM test5\n",
    "            WHERE entrance_date < \"2019-01-01\"\n",
    "            GROUP BY MONTH(entrance_date)\n",
    "            ORDER BY 1''').show()"
   ]
  },
  {
   "cell_type": "code",
   "execution_count": 293,
   "metadata": {},
   "outputs": [
    {
     "name": "stdout",
     "output_type": "stream",
     "text": [
      "+--------------------+------------------------+\n",
      "|month(entrance_date)|round(avg(num_weeks), 2)|\n",
      "+--------------------+------------------------+\n",
      "|                   1|                   14.31|\n",
      "|                   2|                   10.21|\n",
      "|                   3|                   10.77|\n",
      "|                   4|                    9.27|\n",
      "|                   5|                    9.37|\n",
      "|                   6|                   10.42|\n",
      "|                   7|                    10.1|\n",
      "|                   8|                   10.65|\n",
      "|                   9|                    9.07|\n",
      "|                  10|                    9.65|\n",
      "|                  11|                    7.61|\n",
      "|                  12|                    6.46|\n",
      "+--------------------+------------------------+\n",
      "\n"
     ]
    }
   ],
   "source": [
    "spark.sql('''\n",
    "            SELECT MONTH(entrance_date), ROUND(AVG(num_weeks),2)\n",
    "            FROM test5\n",
    "            GROUP BY MONTH(entrance_date)\n",
    "            ORDER BY 1''').show()"
   ]
  },
  {
   "cell_type": "code",
   "execution_count": 279,
   "metadata": {},
   "outputs": [],
   "source": [
    "avg_lifespan_per_month = spark.sql('''\n",
    "            SELECT MONTH(entrance_date) AS month, ROUND(AVG(num_weeks),2) AS avg_lifespan\n",
    "            FROM test5\n",
    "            WHERE entrance_date < \"2019-11-01\"\n",
    "            GROUP BY MONTH(entrance_date)\n",
    "            ORDER BY 1''')"
   ]
  },
  {
   "cell_type": "code",
   "execution_count": 280,
   "metadata": {},
   "outputs": [],
   "source": [
    "avg_lifespan = avg_lifespan_per_month.rdd.map(lambda row: row.avg_lifespan).collect()"
   ]
  },
  {
   "cell_type": "code",
   "execution_count": 281,
   "metadata": {},
   "outputs": [
    {
     "data": {
      "text/plain": [
       "[14.31, 10.21, 10.77, 9.27, 9.37, 10.42, 10.1, 10.65, 9.07, 9.65, 9.13, 7.64]"
      ]
     },
     "execution_count": 281,
     "metadata": {},
     "output_type": "execute_result"
    }
   ],
   "source": [
    "avg_lifespan"
   ]
  },
  {
   "cell_type": "code",
   "execution_count": 300,
   "metadata": {},
   "outputs": [
    {
     "data": {
      "text/plain": [
       "Text(0.5, 1.0, 'Average Lifespan')"
      ]
     },
     "execution_count": 300,
     "metadata": {},
     "output_type": "execute_result"
    },
    {
     "data": {
      "image/png": "[encoded data removed]",
      "text/plain": [
       "<Figure size 864x432 with 1 Axes>"
      ]
     },
     "metadata": {
      "needs_background": "light"
     },
     "output_type": "display_data"
    }
   ],
   "source": [
    "fig, ax = plt.subplots(figsize=(12,6))\n",
    "\n",
    "ax.barh(months, avg_lifespan, height=0.5)\n",
    "ax.invert_yaxis()\n",
    "for i, v in enumerate(avg_lifespan):\n",
    "    ax.text(v + 0.25, i + .1, str(v), color='blue')\n",
    "ax.set_xlim(0,16)\n",
    "ax.set_title('Average Lifespan')"
   ]
  },
  {
   "cell_type": "code",
   "execution_count": 294,
   "metadata": {},
   "outputs": [],
   "source": [
    "avg_lifespan_per_month_2 = spark.sql('''\n",
    "            SELECT MONTH(entrance_date) AS month, ROUND(AVG(num_weeks),2) AS avg_lifespan\n",
    "            FROM test5\n",
    "            WHERE entrance_date < \"2018-01-01\"\n",
    "            GROUP BY MONTH(entrance_date)\n",
    "            ORDER BY 1''')"
   ]
  },
  {
   "cell_type": "code",
   "execution_count": 295,
   "metadata": {},
   "outputs": [],
   "source": [
    "avg_lifespan_2 = avg_lifespan_per_month_2.rdd.map(lambda row: row.avg_lifespan).collect()"
   ]
  },
  {
   "cell_type": "code",
   "execution_count": 301,
   "metadata": {},
   "outputs": [
    {
     "data": {
      "text/plain": [
       "Text(0.5, 1.0, 'Average Lifespan 2')"
      ]
     },
     "execution_count": 301,
     "metadata": {},
     "output_type": "execute_result"
    },
    {
     "data": {
      "image/png": "[encoded data removed]",
      "text/plain": [
       "<Figure size 864x432 with 1 Axes>"
      ]
     },
     "metadata": {
      "needs_background": "light"
     },
     "output_type": "display_data"
    }
   ],
   "source": [
    "fig, ax = plt.subplots(figsize=(12,6))\n",
    "\n",
    "ax.barh(months, avg_lifespan_2, height=0.5)\n",
    "ax.invert_yaxis()\n",
    "for i, v in enumerate(avg_lifespan_2):\n",
    "    ax.text(v + 0.25, i + .1, str(v), color='blue')\n",
    "ax.set_xlim(0,16)\n",
    "ax.set_title('Average Lifespan 2')"
   ]
  },
  {
   "cell_type": "code",
   "execution_count": 307,
   "metadata": {},
   "outputs": [],
   "source": [
    "survival = spark.sql('''\n",
    "            SELECT num_weeks, COUNT(*) as count\n",
    "            FROM test5\n",
    "            GROUP BY num_weeks\n",
    "            ''')"
   ]
  },
  {
   "cell_type": "code",
   "execution_count": null,
   "metadata": {},
   "outputs": [],
   "source": [
    "survival.rdd.map(lambda row: row.avg_lifespan).collect()"
   ]
  }
 ],
 "metadata": {
  "kernelspec": {
   "display_name": "Python 3",
   "language": "python",
   "name": "python3"
  },
  "language_info": {
   "codemirror_mode": {
    "name": "ipython",
    "version": 3
   },
   "file_extension": ".py",
   "mimetype": "text/x-python",
   "name": "python",
   "nbconvert_exporter": "python",
   "pygments_lexer": "ipython3",
   "version": "3.7.3"
  }
 },
 "nbformat": 4,
 "nbformat_minor": 4
}
