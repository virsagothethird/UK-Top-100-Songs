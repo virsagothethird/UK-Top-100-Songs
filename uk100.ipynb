{
 "cells": [
  {
   "cell_type": "code",
   "execution_count": 1,
   "metadata": {},
   "outputs": [],
   "source": [
    "import pyspark as ps\n",
    "import pyspark.sql.functions as f\n",
    "from pyspark import SQLContext\n",
    "from pyspark.sql.types import IntegerType, DateType, TimestampType\n",
    "from datetime import datetime\n",
    "%matplotlib inline\n",
    "import matplotlib.pyplot as plt"
   ]
  },
  {
   "cell_type": "code",
   "execution_count": 2,
   "metadata": {},
   "outputs": [],
   "source": [
    "spark = (ps.sql.SparkSession.builder \n",
    "        .master(\"local[4]\") \n",
    "        .appName(\"sparkSQL exercise\") \n",
    "        .getOrCreate()\n",
    "        )\n",
    "sc = spark.sparkContext"
   ]
  },
  {
   "cell_type": "code",
   "execution_count": 3,
   "metadata": {},
   "outputs": [
    {
     "data": {
      "text/html": [
       "\n",
       "        <div>\n",
       "            <p><b>SparkContext</b></p>\n",
       "\n",
       "            <p><a href=\"http://7e5b74eb1d72:4040\">Spark UI</a></p>\n",
       "\n",
       "            <dl>\n",
       "              <dt>Version</dt>\n",
       "                <dd><code>v2.4.4</code></dd>\n",
       "              <dt>Master</dt>\n",
       "                <dd><code>local[4]</code></dd>\n",
       "              <dt>AppName</dt>\n",
       "                <dd><code>sparkSQL exercise</code></dd>\n",
       "            </dl>\n",
       "        </div>\n",
       "        "
      ],
      "text/plain": [
       "<SparkContext master=local[4] appName=sparkSQL exercise>"
      ]
     },
     "execution_count": 3,
     "metadata": {},
     "output_type": "execute_result"
    }
   ],
   "source": [
    "sc"
   ]
  },
  {
   "cell_type": "code",
   "execution_count": 4,
   "metadata": {},
   "outputs": [],
   "source": [
    "sqlContext = SQLContext(sc)"
   ]
  },
  {
   "cell_type": "code",
   "execution_count": null,
   "metadata": {},
   "outputs": [],
   "source": [
    "df = sqlContext.read.csv(\"uk100.csv\", header=True)"
   ]
  },
  {
   "cell_type": "code",
   "execution_count": null,
   "metadata": {},
   "outputs": [],
   "source": [
    "df.printSchema()"
   ]
  },
  {
   "cell_type": "code",
   "execution_count": null,
   "metadata": {},
   "outputs": [],
   "source": [
    "df.createOrReplaceTempView('test')"
   ]
  },
  {
   "cell_type": "code",
   "execution_count": null,
   "metadata": {},
   "outputs": [],
   "source": [
    "spark.sql('''SELECT *\n",
    "            FROM test\n",
    "            LIMIT 30\n",
    "            ''').show()"
   ]
  },
  {
   "cell_type": "markdown",
   "metadata": {},
   "source": [
    "## Drop unneeded columns and cast the rest to the correct types."
   ]
  },
  {
   "cell_type": "code",
   "execution_count": 9,
   "metadata": {},
   "outputs": [],
   "source": [
    "df = df.drop('_c0')\n",
    "df = df.drop('hmm')\n",
    "\n",
    "for col in df.columns:\n",
    "    df = df.withColumn(col, f.lower(f.col(col)))\n",
    "\n",
    "df = df.withColumn(\"rank\", df[\"rank\"].cast(IntegerType()))\n",
    "df = df.withColumn(\"peak_rank\", df[\"peak_rank\"].cast(IntegerType()))\n",
    "df = df.withColumn(\"weeks_on_chart\", df[\"weeks_on_chart\"].cast(IntegerType()))\n",
    "\n",
    "def to_date(x):\n",
    "    return datetime.strptime(x, '%B %d %Y')\n",
    "change_to_datetype = f.udf(lambda y: to_date(y), DateType())\n",
    "\n",
    "df = df.withColumn(\"week_of\", change_to_datetype('week_of'))"
   ]
  },
  {
   "cell_type": "code",
   "execution_count": 10,
   "metadata": {},
   "outputs": [
    {
     "name": "stdout",
     "output_type": "stream",
     "text": [
      "root\n",
      " |-- rank: integer (nullable = true)\n",
      " |-- last_week_rank: string (nullable = true)\n",
      " |-- title: string (nullable = true)\n",
      " |-- artist: string (nullable = true)\n",
      " |-- label: string (nullable = true)\n",
      " |-- peak_rank: integer (nullable = true)\n",
      " |-- weeks_on_chart: integer (nullable = true)\n",
      " |-- week_of: date (nullable = true)\n",
      "\n"
     ]
    }
   ],
   "source": [
    "df.printSchema()"
   ]
  },
  {
   "cell_type": "code",
   "execution_count": 11,
   "metadata": {},
   "outputs": [],
   "source": [
    "df.createOrReplaceTempView('test')"
   ]
  },
  {
   "cell_type": "markdown",
   "metadata": {},
   "source": [
    "## Total Count"
   ]
  },
  {
   "cell_type": "code",
   "execution_count": 12,
   "metadata": {},
   "outputs": [
    {
     "name": "stdout",
     "output_type": "stream",
     "text": [
      "+--------+\n",
      "|count(1)|\n",
      "+--------+\n",
      "|   26000|\n",
      "+--------+\n",
      "\n"
     ]
    }
   ],
   "source": [
    "spark.sql('''\n",
    "        SELECT COUNT(*)\n",
    "        FROM test\n",
    "        ''').show()"
   ]
  },
  {
   "cell_type": "code",
   "execution_count": 13,
   "metadata": {},
   "outputs": [
    {
     "name": "stdout",
     "output_type": "stream",
     "text": [
      "+----+--------------+--------------------+--------------------+--------------------+---------+--------------+----------+\n",
      "|rank|last_week_rank|               title|              artist|               label|peak_rank|weeks_on_chart|   week_of|\n",
      "+----+--------------+--------------------+--------------------+--------------------+---------+--------------+----------+\n",
      "|   1|            11|               river|      ellie goulding|             polydor|        1|             5|2019-12-27|\n",
      "|   2|             8|all i want for ch...|        mariah carey|            columbia|        2|            99|2019-12-27|\n",
      "|   3|             5|      last christmas|                wham|                 rca|        2|            64|2019-12-27|\n",
      "|   4|            14|fairytale of new ...|pogues ft kirsty ...|         warner bros|        2|            99|2019-12-27|\n",
      "|   5|             2|              own it|stormzy/ed sheera...|      atlantic/merky|        2|             5|2019-12-27|\n",
      "|   6|            16|merry christmas e...|     shakin' stevens|                 rca|        1|            71|2019-12-27|\n",
      "|   7|            17|do they know it's...|            band aid|             mercury|        1|            80|2019-12-27|\n",
      "|   8|            19| step into christmas|          elton john|             mercury|        8|            38|2019-12-27|\n",
      "|   9|            34|happy christmas (...|         john legend|            columbia|        9|             3|2019-12-27|\n",
      "|  10|            29|i wish it could b...|             wizzard|                 emi|       10|            57|2019-12-27|\n",
      "|  11|            24|it's beginning to...|       michael buble|             reprise|        7|            33|2019-12-27|\n",
      "|  12|             3|       before you go|       lewis capaldi|                 emi|        2|             6|2019-12-27|\n",
      "|  13|            28|       santa tell me|       ariana grande|    republic records|       13|            18|2019-12-27|\n",
      "|  14|             4|     don't start now|            dua lipa|      warner records|        2|             8|2019-12-27|\n",
      "|  15|            25|      one more sleep|         leona lewis|          syco music|        3|            23|2019-12-27|\n",
      "|  16|             7|             roxanne|      arizona zervas|          sony music|        5|             8|2019-12-27|\n",
      "|  17|            36|santa's coming fo...|                 sia|atlantic/monkey p...|       17|            12|2019-12-27|\n",
      "|  18|            32|rockin' around th...|          brenda lee|                 mca|        6|            47|2019-12-27|\n",
      "|  19|            31|merry xmas everybody|               slade|                umtv|        1|            98|2019-12-27|\n",
      "|  20|            10|        dance monkey|           tones & i|          parlophone|        1|            21|2019-12-27|\n",
      "+----+--------------+--------------------+--------------------+--------------------+---------+--------------+----------+\n",
      "only showing top 20 rows\n",
      "\n"
     ]
    }
   ],
   "source": [
    "spark.sql('''\n",
    "        SELECT *\n",
    "        FROM test\n",
    "        ''').show()"
   ]
  },
  {
   "cell_type": "markdown",
   "metadata": {},
   "source": [
    "## Count of distinct titles (songs with same names included)"
   ]
  },
  {
   "cell_type": "code",
   "execution_count": 14,
   "metadata": {},
   "outputs": [
    {
     "name": "stdout",
     "output_type": "stream",
     "text": [
      "+---------------------+\n",
      "|count(DISTINCT title)|\n",
      "+---------------------+\n",
      "|                 2416|\n",
      "+---------------------+\n",
      "\n"
     ]
    }
   ],
   "source": [
    "spark.sql('''\n",
    "        SELECT COUNT(DISTINCT title)\n",
    "        FROM test\n",
    "        ''').show()"
   ]
  },
  {
   "cell_type": "markdown",
   "metadata": {},
   "source": [
    "## Number of distinct titles that have reached rank 1"
   ]
  },
  {
   "cell_type": "code",
   "execution_count": 15,
   "metadata": {},
   "outputs": [
    {
     "name": "stdout",
     "output_type": "stream",
     "text": [
      "+---------------------+\n",
      "|count(DISTINCT title)|\n",
      "+---------------------+\n",
      "|                   77|\n",
      "+---------------------+\n",
      "\n"
     ]
    }
   ],
   "source": [
    "spark.sql('''\n",
    "        SELECT COUNT(DISTINCT title)\n",
    "        FROM test\n",
    "        WHERE rank == 1''').show()"
   ]
  },
  {
   "cell_type": "markdown",
   "metadata": {},
   "source": [
    "## Number of unique songs"
   ]
  },
  {
   "cell_type": "code",
   "execution_count": 16,
   "metadata": {},
   "outputs": [],
   "source": [
    "num_unique_songs = spark.sql('''\n",
    "        SELECT artist, title\n",
    "        FROM test\n",
    "        GROUP BY artist, title''')"
   ]
  },
  {
   "cell_type": "code",
   "execution_count": 17,
   "metadata": {},
   "outputs": [
    {
     "data": {
      "text/plain": [
       "2605"
      ]
     },
     "execution_count": 17,
     "metadata": {},
     "output_type": "execute_result"
    }
   ],
   "source": [
    "num_unique_songs.count()"
   ]
  },
  {
   "cell_type": "code",
   "execution_count": 18,
   "metadata": {},
   "outputs": [
    {
     "name": "stdout",
     "output_type": "stream",
     "text": [
      "+--------+\n",
      "|count(1)|\n",
      "+--------+\n",
      "|    2605|\n",
      "+--------+\n",
      "\n"
     ]
    }
   ],
   "source": [
    "spark.sql('''\n",
    "        SELECT COUNT(*)\n",
    "        FROM(\n",
    "            SELECT artist, title\n",
    "            FROM test\n",
    "            GROUP BY artist, title)\n",
    "        ''').show()"
   ]
  },
  {
   "cell_type": "markdown",
   "metadata": {},
   "source": [
    "## How many weeks did these songs stay at rank 1"
   ]
  },
  {
   "cell_type": "code",
   "execution_count": 19,
   "metadata": {},
   "outputs": [
    {
     "name": "stdout",
     "output_type": "stream",
     "text": [
      "+--------------------+--------------------+---------+------------+\n",
      "|              artist|               title|num_weeks|min(week_of)|\n",
      "+--------------------+--------------------+---------+------------+\n",
      "|drake ft wizkid &...|           one dance|       15|  2016-04-15|\n",
      "|          ed sheeran|        shape of you|       14|  2017-01-13|\n",
      "|luis fonsi/daddy ...|   despacito (remix)|       11|  2017-05-12|\n",
      "|           tones & i|        dance monkey|       11|  2019-10-04|\n",
      "|               drake|          god's plan|        9|  2018-01-26|\n",
      "|        clean bandit|            rockabye|        9|  2016-11-11|\n",
      "|ed sheeran & just...|        i don't care|        8|  2019-05-17|\n",
      "|calvin harris & d...|            one kiss|        8|  2018-04-20|\n",
      "|       lewis capaldi|   someone you loved|        7|  2019-03-01|\n",
      "|calvin harris & s...|            promises|        6|  2018-09-07|\n",
      "|          ed sheeran|             perfect|        6|  2017-12-08|\n",
      "|shawn mendes/cami...|            senorita|        6|  2019-07-12|\n",
      "|       justin bieber|       love yourself|        6|  2015-12-04|\n",
      "|       ariana grande|        thank u next|        6|  2018-11-09|\n",
      "|        lukas graham|             7 years|        5|  2016-02-12|\n",
      "|ed sheeran ft sto...|take me back to l...|        5|  2019-08-30|\n",
      "|       justin bieber|    what do you mean|        5|  2015-09-04|\n",
      "|major lazer/justi...|          cold water|        5|  2016-07-29|\n",
      "|camila cabello ft...|              havana|        5|  2017-11-03|\n",
      "|       ariana grande|             7 rings|        4|  2019-01-25|\n",
      "+--------------------+--------------------+---------+------------+\n",
      "only showing top 20 rows\n",
      "\n"
     ]
    }
   ],
   "source": [
    "spark.sql('''\n",
    "            SELECT DISTINCT artist, title, COUNT(*) as num_weeks, MIN(week_of)\n",
    "            FROM test\n",
    "            WHERE rank == 1\n",
    "            GROUP BY 1, 2\n",
    "            ORDER BY 3 DESC\n",
    "            ''').show()"
   ]
  },
  {
   "cell_type": "markdown",
   "metadata": {},
   "source": [
    "## Total number of appearances on the top 100 tht peaked at rank 1, in order"
   ]
  },
  {
   "cell_type": "code",
   "execution_count": 21,
   "metadata": {},
   "outputs": [
    {
     "name": "stdout",
     "output_type": "stream",
     "text": [
      "+--------------------+-------------------+---------+------------+\n",
      "|              artist|              title|num_weeks|min(week_of)|\n",
      "+--------------------+-------------------+---------+------------+\n",
      "|          ed sheeran|       shape of you|       97|  2017-01-13|\n",
      "|          ed sheeran|  thinking out loud|       90|  2015-01-11|\n",
      "|          ed sheeran|            perfect|       81|  2017-12-08|\n",
      "|         george ezra|            shotgun|       74|  2018-06-29|\n",
      "|mark ronson ft br...|        uptown funk|       72|  2015-01-11|\n",
      "|luis fonsi/daddy ...|  despacito (remix)|       71|  2017-05-12|\n",
      "|       justin bieber|              sorry|       65|  2015-11-20|\n",
      "|drake ft wizkid &...|          one dance|       64|  2016-04-15|\n",
      "|       justin bieber|      love yourself|       62|  2015-12-04|\n",
      "|       justin bieber|   what do you mean|       62|  2015-09-04|\n",
      "|            dua lipa|          new rules|       61|  2017-08-18|\n",
      "|       years & years|               king|       59|  2015-03-08|\n",
      "|      ellie goulding|love me like you do|       57|  2015-02-08|\n",
      "|lady gaga & bradl...|            shallow|       57|  2018-10-26|\n",
      "|calvin harris & d...|           one kiss|       52|  2018-04-20|\n",
      "|        shawn mendes|           stitches|       51|  2016-01-22|\n",
      "|         jess glynne|       hold my hand|       51|  2015-03-29|\n",
      "|        lukas graham|            7 years|       49|  2016-02-12|\n",
      "|               adele|              hello|       49|  2015-10-30|\n",
      "|clean bandit ft z...|           symphony|       48|  2017-04-28|\n",
      "+--------------------+-------------------+---------+------------+\n",
      "only showing top 20 rows\n",
      "\n"
     ]
    }
   ],
   "source": [
    "spark.sql('''\n",
    "            SELECT DISTINCT artist, title, COUNT(*) as num_weeks, MIN(week_of)\n",
    "            FROM test\n",
    "            WHERE peak_rank == 1\n",
    "            GROUP BY 1,2\n",
    "            ORDER BY 3 DESC\n",
    "            ''').show()"
   ]
  },
  {
   "cell_type": "markdown",
   "metadata": {},
   "source": [
    "## Average number of weeks in the top 100 (songs that hit rank 1)"
   ]
  },
  {
   "cell_type": "code",
   "execution_count": 22,
   "metadata": {},
   "outputs": [
    {
     "name": "stdout",
     "output_type": "stream",
     "text": [
      "+------------------+\n",
      "|    avg(num_weeks)|\n",
      "+------------------+\n",
      "|26.708661417322833|\n",
      "+------------------+\n",
      "\n"
     ]
    }
   ],
   "source": [
    "spark.sql('''\n",
    "            SELECT AVG(num_weeks)\n",
    "            FROM (SELECT DISTINCT title, COUNT(*) as num_weeks, MIN(week_of)\n",
    "                    FROM test\n",
    "                    WHERE peak_rank == 1\n",
    "                    GROUP BY 1\n",
    "                    ORDER BY 2 DESC)\n",
    "            ''').show()"
   ]
  },
  {
   "cell_type": "markdown",
   "metadata": {},
   "source": [
    "## Average rank for the song \"Shape of You\" by Ed Sheeran"
   ]
  },
  {
   "cell_type": "code",
   "execution_count": 23,
   "metadata": {},
   "outputs": [
    {
     "name": "stdout",
     "output_type": "stream",
     "text": [
      "+-----------------------------------+-------------------+\n",
      "|round(avg(CAST(rank AS BIGINT)), 2)|max(weeks_on_chart)|\n",
      "+-----------------------------------+-------------------+\n",
      "|                              42.52|                 97|\n",
      "+-----------------------------------+-------------------+\n",
      "\n"
     ]
    }
   ],
   "source": [
    "spark.sql('''\n",
    "            SELECT ROUND(AVG(rank),2), MAX(weeks_on_chart)\n",
    "            FROM test\n",
    "            WHERE title = \"shape of you\"\n",
    "            ''').show()"
   ]
  },
  {
   "cell_type": "markdown",
   "metadata": {},
   "source": [
    "## Average rank and number of weeks on chart per song"
   ]
  },
  {
   "cell_type": "code",
   "execution_count": 27,
   "metadata": {},
   "outputs": [
    {
     "name": "stdout",
     "output_type": "stream",
     "text": [
      "+--------------------+--------------------+------------------+--------+\n",
      "|              artist|               title|         avg(rank)|count(1)|\n",
      "+--------------------+--------------------+------------------+--------+\n",
      "|          elton john| step into christmas|  38.8421052631579|      19|\n",
      "|clean bandit ft e...|                mama|              98.0|       1|\n",
      "|            m o/chip|           wondering|              91.0|       1|\n",
      "|               drake|             nonstop| 40.84615384615385|      13|\n",
      "|florence & the ma...|             big god|              97.0|       1|\n",
      "|raye/mabel/steffl...|           cigarette|              55.5|      16|\n",
      "|   jax jones ft raye|   you don't know me| 36.24242424242424|      33|\n",
      "|ryan gosling & em...|       city of stars|             68.25|       4|\n",
      "|kygo ft ella hend...|        here for you|              52.0|      10|\n",
      "|sigma ft paloma f...|            changing| 65.22222222222223|      18|\n",
      "|        adam lambert|          ghost town|              76.5|       2|\n",
      "|               ciara|               i bet|              72.0|       7|\n",
      "|charli xcx ft rit...|            doing it| 37.81818181818182|      11|\n",
      "|       bars & melody|        keep smiling|              52.0|       1|\n",
      "|beyonce/glover/ei...|can you feel the ...|              91.5|       2|\n",
      "|clean bandit ft d...|                solo| 35.89655172413793|      29|\n",
      "|        shawn mendes|where were you in...|              91.0|       1|\n",
      "|               drake| diplomatic immunity|              61.2|       5|\n",
      "|        lil uzi vert|       xo tour llif3|53.205128205128204|      39|\n",
      "|teddy mac the son...|you make me feel ...|              43.0|       1|\n",
      "+--------------------+--------------------+------------------+--------+\n",
      "only showing top 20 rows\n",
      "\n"
     ]
    }
   ],
   "source": [
    "spark.sql('''\n",
    "            SELECT artist, title, AVG(rank), COUNT(*)\n",
    "            FROM test\n",
    "            GROUP BY artist, title''').show()"
   ]
  },
  {
   "cell_type": "markdown",
   "metadata": {},
   "source": [
    "## Create new db of new songs only"
   ]
  },
  {
   "cell_type": "code",
   "execution_count": 38,
   "metadata": {},
   "outputs": [],
   "source": [
    "new_songs = spark.sql('''\n",
    "            SELECT artist, title\n",
    "            FROM test\n",
    "            WHERE last_week_rank like \"%new%\"''')"
   ]
  },
  {
   "cell_type": "code",
   "execution_count": 36,
   "metadata": {},
   "outputs": [
    {
     "name": "stdout",
     "output_type": "stream",
     "text": [
      "+--------+\n",
      "|count(1)|\n",
      "+--------+\n",
      "|    2340|\n",
      "+--------+\n",
      "\n"
     ]
    }
   ],
   "source": [
    "spark.sql('''\n",
    "            SELECT COUNT(*)\n",
    "            FROM (SELECT artist, title\n",
    "                    FROM test\n",
    "                    WHERE last_week_rank like \"%new%\")''').show()"
   ]
  },
  {
   "cell_type": "markdown",
   "metadata": {},
   "source": [
    "## Left semi join to remove non-new songs from original db"
   ]
  },
  {
   "cell_type": "code",
   "execution_count": 44,
   "metadata": {},
   "outputs": [],
   "source": [
    "new_songs_2015_2019 = df.join(new_songs, ['title', 'artist'],how='leftsemi')"
   ]
  },
  {
   "cell_type": "code",
   "execution_count": 45,
   "metadata": {},
   "outputs": [],
   "source": [
    "new_songs_2015_2019.createOrReplaceTempView('test2')"
   ]
  },
  {
   "cell_type": "code",
   "execution_count": 78,
   "metadata": {},
   "outputs": [
    {
     "name": "stdout",
     "output_type": "stream",
     "text": [
      "+--------------------+--------------------+----+--------------+--------------------+---------+--------------+----------+\n",
      "|               title|              artist|rank|last_week_rank|               label|peak_rank|weeks_on_chart|   week_of|\n",
      "+--------------------+--------------------+----+--------------+--------------------+---------+--------------+----------+\n",
      "|               river|      ellie goulding|   1|            11|             polydor|        1|             5|2019-12-27|\n",
      "|              own it|stormzy/ed sheera...|   5|             2|      atlantic/merky|        2|             5|2019-12-27|\n",
      "|happy christmas (...|         john legend|   9|            34|            columbia|        9|             3|2019-12-27|\n",
      "|       before you go|       lewis capaldi|  12|             3|                 emi|        2|             6|2019-12-27|\n",
      "|     don't start now|            dua lipa|  14|             4|      warner records|        2|             8|2019-12-27|\n",
      "|             roxanne|      arizona zervas|  16|             7|          sony music|        5|             8|2019-12-27|\n",
      "|santa's coming fo...|                 sia|  17|            36|atlantic/monkey p...|       17|            12|2019-12-27|\n",
      "|        dance monkey|           tones & i|  20|            10|          parlophone|        1|            21|2019-12-27|\n",
      "|cozy little chris...|          katy perry|  22|            43|              virgin|       22|             7|2019-12-27|\n",
      "| everything i wanted|       billie eilish|  23|            13|          interscope|        3|             6|2019-12-27|\n",
      "|           adore you|        harry styles|  26|            12|            columbia|       11|             3|2019-12-27|\n",
      "|    jingle bell rock|         bobby helms|  30|            61|                 mca|       30|            10|2019-12-27|\n",
      "|christmas (baby p...|        darlene love|  33|            70|   legacy recordings|       22|             8|2019-12-27|\n",
      "|          pump it up|               endor|  36|            23|            defected|       20|            11|2019-12-27|\n",
      "|            audacity|stormzy ft headie...|  38|             6|      atlantic/merky|        6|             2|2019-12-27|\n",
      "|           vossi bop|             stormzy|  40|            re|               merky|        1|            32|2019-12-27|\n",
      "|     blinding lights|              weeknd|  41|            20|    republic records|       12|             4|2019-12-27|\n",
      "| lose you to love me|        selena gomez|  43|            22|          interscope|        3|            10|2019-12-27|\n",
      "|        this is real|jax jones ft ella...|  44|            30|             polydor|       18|            14|2019-12-27|\n",
      "|             falling|       trevor daniel|  45|            26|               alamo|       26|             5|2019-12-27|\n",
      "+--------------------+--------------------+----+--------------+--------------------+---------+--------------+----------+\n",
      "only showing top 20 rows\n",
      "\n"
     ]
    }
   ],
   "source": [
    "spark.sql('''\n",
    "            SELECT *\n",
    "            FROM test2''').show()"
   ]
  },
  {
   "cell_type": "code",
   "execution_count": 47,
   "metadata": {},
   "outputs": [
    {
     "name": "stdout",
     "output_type": "stream",
     "text": [
      "+--------+\n",
      "|count(1)|\n",
      "+--------+\n",
      "|   22822|\n",
      "+--------+\n",
      "\n"
     ]
    }
   ],
   "source": [
    "spark.sql('''\n",
    "            SELECT COUNT(*)\n",
    "            FROM test2''').show()"
   ]
  },
  {
   "cell_type": "code",
   "execution_count": 51,
   "metadata": {},
   "outputs": [
    {
     "name": "stdout",
     "output_type": "stream",
     "text": [
      "+--------------------+--------------------+\n",
      "|              artist|               title|\n",
      "+--------------------+--------------------+\n",
      "|clean bandit ft e...|                mama|\n",
      "|            m o/chip|           wondering|\n",
      "|               drake|             nonstop|\n",
      "|florence & the ma...|             big god|\n",
      "|raye/mabel/steffl...|           cigarette|\n",
      "|   jax jones ft raye|   you don't know me|\n",
      "|ryan gosling & em...|       city of stars|\n",
      "|kygo ft ella hend...|        here for you|\n",
      "|        adam lambert|          ghost town|\n",
      "|               ciara|               i bet|\n",
      "|charli xcx ft rit...|            doing it|\n",
      "|       bars & melody|        keep smiling|\n",
      "|beyonce/glover/ei...|can you feel the ...|\n",
      "|clean bandit ft d...|                solo|\n",
      "|        shawn mendes|where were you in...|\n",
      "|               drake| diplomatic immunity|\n",
      "|        lil uzi vert|       xo tour llif3|\n",
      "|teddy mac the son...|you make me feel ...|\n",
      "|          little mix|                hair|\n",
      "|           aronchupa|    i'm an albatraoz|\n",
      "+--------------------+--------------------+\n",
      "only showing top 20 rows\n",
      "\n"
     ]
    }
   ],
   "source": [
    "spark.sql('''\n",
    "            SELECT artist, title\n",
    "            FROM test2\n",
    "            GROUP BY artist, title''').show()"
   ]
  },
  {
   "cell_type": "code",
   "execution_count": 52,
   "metadata": {},
   "outputs": [
    {
     "name": "stdout",
     "output_type": "stream",
     "text": [
      "+--------+\n",
      "|count(1)|\n",
      "+--------+\n",
      "|    2339|\n",
      "+--------+\n",
      "\n"
     ]
    }
   ],
   "source": [
    "spark.sql('''\n",
    "            SELECT COUNT(*)\n",
    "            FROM (SELECT artist, title\n",
    "                FROM test2\n",
    "                GROUP BY artist, title)''').show()"
   ]
  },
  {
   "cell_type": "code",
   "execution_count": 54,
   "metadata": {},
   "outputs": [
    {
     "name": "stdout",
     "output_type": "stream",
     "text": [
      "root\n",
      " |-- title: string (nullable = true)\n",
      " |-- artist: string (nullable = true)\n",
      " |-- rank: integer (nullable = true)\n",
      " |-- last_week_rank: string (nullable = true)\n",
      " |-- label: string (nullable = true)\n",
      " |-- peak_rank: integer (nullable = true)\n",
      " |-- weeks_on_chart: integer (nullable = true)\n",
      " |-- week_of: date (nullable = true)\n",
      "\n"
     ]
    }
   ],
   "source": [
    "new_songs_2015_2019.printSchema()"
   ]
  },
  {
   "cell_type": "code",
   "execution_count": 55,
   "metadata": {},
   "outputs": [
    {
     "name": "stdout",
     "output_type": "stream",
     "text": [
      "+--------+\n",
      "|count(1)|\n",
      "+--------+\n",
      "|   22822|\n",
      "+--------+\n",
      "\n"
     ]
    }
   ],
   "source": [
    "spark.sql('''\n",
    "            SELECT COUNT(*)\n",
    "            FROM test2''').show()"
   ]
  },
  {
   "cell_type": "markdown",
   "metadata": {},
   "source": [
    "## number of appearances per song and avg rank"
   ]
  },
  {
   "cell_type": "code",
   "execution_count": 56,
   "metadata": {},
   "outputs": [
    {
     "name": "stdout",
     "output_type": "stream",
     "text": [
      "+--------------------+--------------------+--------+-----------------------------------+------------+\n",
      "|               title|              artist|count(1)|round(avg(CAST(rank AS BIGINT)), 2)|week_entered|\n",
      "+--------------------+--------------------+--------+-----------------------------------+------------+\n",
      "|             perfect|          ed sheeran|     110|                              48.09|  2017-03-10|\n",
      "|        shape of you|          ed sheeran|      97|                              42.52|  2017-01-13|\n",
      "|             shotgun|         george ezra|      87|                              35.99|  2018-03-30|\n",
      "|             lean on|major lazer ft mo...|      79|                              45.92|  2015-03-08|\n",
      "|          this is me|settle/greatest s...|      75|                              40.84|  2018-01-05|\n",
      "|     shut up & dance|       walk the moon|      72|                              54.63|  2015-06-07|\n",
      "|can't stop the fe...|   justin timberlake|      71|                              46.94|  2016-05-13|\n",
      "|               sorry|       justin bieber|      68|                              41.43|  2015-10-30|\n",
      "|            stitches|        shawn mendes|      67|                              47.63|  2015-09-25|\n",
      "|       cheap thrills|                 sia|      66|                              39.12|  2016-02-19|\n",
      "|           new rules|            dua lipa|      66|                              43.92|  2017-07-14|\n",
      "|           one dance|drake ft wizkid &...|      65|                              33.86|  2016-04-08|\n",
      "|       love yourself|       justin bieber|      64|                              44.41|  2015-11-20|\n",
      "|    leave a light on|          tom walker|      63|                              51.38|  2018-01-05|\n",
      "|    what do you mean|       justin bieber|      62|                              37.92|  2015-09-04|\n",
      "|             shallow|lady gaga & bradl...|      60|                              43.43|  2018-10-05|\n",
      "|                king|       years & years|      59|                              51.51|  2015-03-08|\n",
      "|          high hopes|  panic at the disco|      58|                              50.47|  2018-06-01|\n",
      "|           lush life|        zara larsson|      57|                              44.19|  2016-01-08|\n",
      "| love me like you do|      ellie goulding|      57|                              53.05|  2015-02-08|\n",
      "+--------------------+--------------------+--------+-----------------------------------+------------+\n",
      "only showing top 20 rows\n",
      "\n"
     ]
    }
   ],
   "source": [
    "spark.sql('''\n",
    "            SELECT title, artist, count(*), ROUND(AVG(rank),2), MIN(week_of) as week_entered\n",
    "            FROM test2\n",
    "            GROUP BY title, artist\n",
    "            ORDER BY 3 DESC''').show()"
   ]
  },
  {
   "cell_type": "code",
   "execution_count": 63,
   "metadata": {},
   "outputs": [
    {
     "name": "stdout",
     "output_type": "stream",
     "text": [
      "+------------------+\n",
      "|        avg(count)|\n",
      "+------------------+\n",
      "|17.502525252525253|\n",
      "+------------------+\n",
      "\n"
     ]
    }
   ],
   "source": [
    "spark.sql('''\n",
    "            SELECT AVG(count)\n",
    "            FROM (SELECT title, artist, COUNT(*) as count\n",
    "                FROM test2\n",
    "                GROUP BY 1,2\n",
    "                HAVING count >4\n",
    "                ORDER BY 3)\n",
    "            ''').show()"
   ]
  },
  {
   "cell_type": "markdown",
   "metadata": {},
   "source": [
    "## Number of appearances by label"
   ]
  },
  {
   "cell_type": "code",
   "execution_count": 64,
   "metadata": {},
   "outputs": [
    {
     "name": "stdout",
     "output_type": "stream",
     "text": [
      "+--------------------+--------+\n",
      "|               label|count(1)|\n",
      "+--------------------+--------+\n",
      "|            atlantic|    1956|\n",
      "|          interscope|    1433|\n",
      "|            columbia|    1312|\n",
      "|             polydor|    1137|\n",
      "|                 rca|     991|\n",
      "|    republic records|     773|\n",
      "|          syco music|     731|\n",
      "|                 emi|     721|\n",
      "|              virgin|     719|\n",
      "|          parlophone|     650|\n",
      "|              asylum|     650|\n",
      "|cash money/republ...|     644|\n",
      "|              island|     590|\n",
      "|         warner bros|     553|\n",
      "|             def jam|     485|\n",
      "|             capitol|     480|\n",
      "|   ministry of sound|     425|\n",
      "|            positiva|     364|\n",
      "|                epic|     361|\n",
      "|          relentless|     360|\n",
      "+--------------------+--------+\n",
      "only showing top 20 rows\n",
      "\n"
     ]
    }
   ],
   "source": [
    "spark.sql('''\n",
    "            SELECT label, COUNT(*)\n",
    "            FROM test2\n",
    "            GROUP BY 1\n",
    "            ORDER BY 2 DESC\n",
    "            ''').show()"
   ]
  },
  {
   "cell_type": "code",
   "execution_count": 67,
   "metadata": {},
   "outputs": [
    {
     "name": "stdout",
     "output_type": "stream",
     "text": [
      "+---------------------+\n",
      "|count(DISTINCT label)|\n",
      "+---------------------+\n",
      "|                  376|\n",
      "+---------------------+\n",
      "\n"
     ]
    }
   ],
   "source": [
    "spark.sql('''\n",
    "            SELECT COUNT(DISTINCT label)\n",
    "            FROM test2\n",
    "            ''').show()"
   ]
  },
  {
   "cell_type": "markdown",
   "metadata": {},
   "source": [
    "## Average rank of each label"
   ]
  },
  {
   "cell_type": "code",
   "execution_count": 68,
   "metadata": {},
   "outputs": [
    {
     "name": "stdout",
     "output_type": "stream",
     "text": [
      "+--------------------+---------+--------+\n",
      "|               label|num_songs|avg_rank|\n",
      "+--------------------+---------+--------+\n",
      "|          interscope|      164|    50.1|\n",
      "|            atlantic|      123|   46.35|\n",
      "|                 rca|      120|   53.58|\n",
      "|            columbia|      118|   47.42|\n",
      "|              virgin|      107|   53.34|\n",
      "|             polydor|      104|   49.25|\n",
      "|              island|       81|   52.89|\n",
      "|cash money/republ...|       76|   50.05|\n",
      "|          syco music|       72|   45.64|\n",
      "|                 emi|       66|   46.21|\n",
      "|             def jam|       64|   53.74|\n",
      "|          parlophone|       63|    49.7|\n",
      "|    republic records|       54|   43.32|\n",
      "|         warner bros|       46|   47.68|\n",
      "|             capitol|       42|   46.08|\n",
      "|              asylum|       34|   44.89|\n",
      "|   ministry of sound|       33|   45.56|\n",
      "| republic records/xo|       32|   47.05|\n",
      "|                epic|       32|   53.89|\n",
      "|          relentless|       26|   54.46|\n",
      "+--------------------+---------+--------+\n",
      "only showing top 20 rows\n",
      "\n"
     ]
    }
   ],
   "source": [
    "spark.sql('''\n",
    "            SELECT label, COUNT(DISTINCT title) AS num_songs, ROUND(AVG(rank),2) AS avg_rank\n",
    "            FROM test2\n",
    "            GROUP BY 1\n",
    "            ORDER BY 2 DESC\n",
    "            ''').show()"
   ]
  },
  {
   "cell_type": "code",
   "execution_count": 69,
   "metadata": {},
   "outputs": [
    {
     "name": "stdout",
     "output_type": "stream",
     "text": [
      "+---------------------------+---------+--------+\n",
      "|label                      |num_songs|avg_rank|\n",
      "+---------------------------+---------+--------+\n",
      "|republic records           |54       |43.32   |\n",
      "|positiva                   |21       |43.67   |\n",
      "|asylum                     |34       |44.89   |\n",
      "|merky                      |16       |45.04   |\n",
      "|ministry of sound          |33       |45.56   |\n",
      "|syco music                 |72       |45.64   |\n",
      "|capitol                    |42       |46.08   |\n",
      "|emi                        |66       |46.21   |\n",
      "|atlantic                   |123      |46.35   |\n",
      "|warner records             |16       |46.38   |\n",
      "|republic records/xo        |32       |47.05   |\n",
      "|disruptor                  |16       |47.25   |\n",
      "|columbia                   |118      |47.42   |\n",
      "|warner bros                |46       |47.68   |\n",
      "|polydor                    |104      |49.25   |\n",
      "|parlophone                 |63       |49.7    |\n",
      "|cash money/republic records|76       |50.05   |\n",
      "|interscope                 |164      |50.1    |\n",
      "|3 beat                     |19       |51.3    |\n",
      "|black butter               |22       |51.74   |\n",
      "|island                     |81       |52.89   |\n",
      "|virgin                     |107      |53.34   |\n",
      "|rca                        |120      |53.58   |\n",
      "|def jam                    |64       |53.74   |\n",
      "|epic                       |32       |53.89   |\n",
      "|relentless                 |26       |54.46   |\n",
      "+---------------------------+---------+--------+\n",
      "\n"
     ]
    }
   ],
   "source": [
    "spark.sql('''\n",
    "            SELECT label, COUNT(DISTINCT title) AS num_songs, ROUND(AVG(rank),2) AS avg_rank\n",
    "            FROM test2\n",
    "            GROUP BY 1\n",
    "            HAVING num_songs >15\n",
    "            ORDER BY 3\n",
    "            ''').show(50, False)"
   ]
  },
  {
   "cell_type": "markdown",
   "metadata": {},
   "source": [
    "## Average rank per label (without collabs)"
   ]
  },
  {
   "cell_type": "code",
   "execution_count": 70,
   "metadata": {},
   "outputs": [
    {
     "name": "stdout",
     "output_type": "stream",
     "text": [
      "+-----------------+---------------------+--------+\n",
      "|label            |count(DISTINCT title)|avg_rank|\n",
      "+-----------------+---------------------+--------+\n",
      "|interscope       |164                  |50.1    |\n",
      "|atlantic         |123                  |46.35   |\n",
      "|rca              |120                  |53.58   |\n",
      "|columbia         |118                  |47.42   |\n",
      "|virgin           |107                  |53.34   |\n",
      "|polydor          |104                  |49.25   |\n",
      "|island           |81                   |52.89   |\n",
      "|syco music       |72                   |45.64   |\n",
      "|emi              |66                   |46.21   |\n",
      "|def jam          |64                   |53.74   |\n",
      "|parlophone       |63                   |49.7    |\n",
      "|republic records |54                   |43.32   |\n",
      "|warner bros      |46                   |47.68   |\n",
      "|capitol          |42                   |46.08   |\n",
      "|asylum           |34                   |44.89   |\n",
      "|ministry of sound|33                   |45.56   |\n",
      "|epic             |32                   |53.89   |\n",
      "|relentless       |26                   |54.46   |\n",
      "|black butter     |22                   |51.74   |\n",
      "|positiva         |21                   |43.67   |\n",
      "+-----------------+---------------------+--------+\n",
      "only showing top 20 rows\n",
      "\n"
     ]
    }
   ],
   "source": [
    "spark.sql('''\n",
    "            SELECT label, COUNT(DISTINCT title), ROUND(AVG(rank),2) AS avg_rank\n",
    "            FROM test2\n",
    "            WHERE label NOT IN (SELECT label\n",
    "                                FROM test2\n",
    "                                WHERE label like \"%/%\"\n",
    "                                GROUP BY label)\n",
    "            GROUP BY 1\n",
    "            ORDER BY 2 DESC\n",
    "            ''').show(20, False)"
   ]
  },
  {
   "cell_type": "markdown",
   "metadata": {},
   "source": [
    "## Most appearances by artist"
   ]
  },
  {
   "cell_type": "code",
   "execution_count": 73,
   "metadata": {},
   "outputs": [
    {
     "name": "stdout",
     "output_type": "stream",
     "text": [
      "+--------------+--------+--------+\n",
      "|        artist|count(1)|avg_rank|\n",
      "+--------------+--------+--------+\n",
      "|    ed sheeran|     440|   45.51|\n",
      "|         drake|     352|    49.4|\n",
      "| justin bieber|     265|   46.88|\n",
      "| ariana grande|     254|   39.24|\n",
      "|    little mix|     244|   45.81|\n",
      "|  shawn mendes|     213|   42.92|\n",
      "|   jess glynne|     207|   44.33|\n",
      "|   george ezra|     194|   45.12|\n",
      "|        weeknd|     187|   45.75|\n",
      "|      dua lipa|     172|   41.03|\n",
      "| lewis capaldi|     158|   29.18|\n",
      "| years & years|     157|   45.59|\n",
      "|       stormzy|     142|    49.3|\n",
      "|  zara larsson|     142|   43.61|\n",
      "|ellie goulding|     140|    44.9|\n",
      "|   post malone|     137|   45.58|\n",
      "|  taylor swift|     131|   50.73|\n",
      "|    anne-marie|     127|   45.94|\n",
      "|      coldplay|     122|   48.21|\n",
      "|           sia|     121|   52.83|\n",
      "+--------------+--------+--------+\n",
      "only showing top 20 rows\n",
      "\n"
     ]
    }
   ],
   "source": [
    "spark.sql('''\n",
    "            SELECT DISTINCT artist, COUNT(*), ROUND(AVG(rank),2) AS avg_rank\n",
    "            FROM test2\n",
    "            GROUP BY 1\n",
    "            ORDER BY 2 DESC''').show()"
   ]
  },
  {
   "cell_type": "markdown",
   "metadata": {},
   "source": [
    "## More Ed Sheeran"
   ]
  },
  {
   "cell_type": "code",
   "execution_count": 74,
   "metadata": {},
   "outputs": [
    {
     "name": "stdout",
     "output_type": "stream",
     "text": [
      "+------------------------------+--------+----+------------+\n",
      "|title                         |count(1)|peak|min(week_of)|\n",
      "+------------------------------+--------+----+------------+\n",
      "|perfect                       |110     |1   |2017-03-10  |\n",
      "|shape of you                  |97      |1   |2017-01-13  |\n",
      "|castle on the hill            |53      |2   |2017-01-13  |\n",
      "|galway girl                   |31      |2   |2017-03-10  |\n",
      "|supermarket flowers           |21      |8   |2017-03-10  |\n",
      "|happier                       |18      |6   |2017-03-10  |\n",
      "|what do i know                |17      |9   |2017-03-10  |\n",
      "|new man                       |14      |5   |2017-03-10  |\n",
      "|dive                          |13      |8   |2017-03-10  |\n",
      "|barcelona                     |13      |12  |2017-03-10  |\n",
      "|how would you feel (paean)    |12      |2   |2017-02-24  |\n",
      "|nancy mulligan                |10      |13  |2017-03-10  |\n",
      "|hearts don't break around here|8       |15  |2017-03-10  |\n",
      "|eraser                        |8       |14  |2017-03-10  |\n",
      "|bibia be ye ye                |8       |18  |2017-03-10  |\n",
      "|save myself                   |6       |19  |2017-03-10  |\n",
      "|i will take you home          |1       |69  |2015-04-05  |\n",
      "+------------------------------+--------+----+------------+\n",
      "\n"
     ]
    }
   ],
   "source": [
    "spark.sql('''\n",
    "            SELECT title, COUNT(*), MIN(rank) as peak, MIN(week_of)\n",
    "            FROM test2\n",
    "            WHERE artist = \"ed sheeran\"\n",
    "            GROUP BY 1\n",
    "            ORDER BY 2 DESC\n",
    "            ''').show(30, False)"
   ]
  },
  {
   "cell_type": "code",
   "execution_count": 75,
   "metadata": {},
   "outputs": [
    {
     "name": "stdout",
     "output_type": "stream",
     "text": [
      "+--------------------------+--------+----+------------+\n",
      "|title                     |count(1)|peak|min(week_of)|\n",
      "+--------------------------+--------+----+------------+\n",
      "|perfect                   |110     |1   |2017-03-10  |\n",
      "|shape of you              |97      |1   |2017-01-13  |\n",
      "|castle on the hill        |53      |2   |2017-01-13  |\n",
      "|galway girl               |31      |2   |2017-03-10  |\n",
      "|new man                   |14      |5   |2017-03-10  |\n",
      "|how would you feel (paean)|12      |2   |2017-02-24  |\n",
      "+--------------------------+--------+----+------------+\n",
      "\n"
     ]
    }
   ],
   "source": [
    "spark.sql('''\n",
    "            SELECT title, COUNT(*), MIN(rank) as peak, MIN(week_of)\n",
    "            FROM test2\n",
    "            WHERE artist = \"ed sheeran\"\n",
    "            GROUP BY 1\n",
    "            HAVING peak < 6\n",
    "            ORDER BY 2 DESC\n",
    "            ''').show(20, False)"
   ]
  },
  {
   "cell_type": "code",
   "execution_count": 76,
   "metadata": {},
   "outputs": [
    {
     "name": "stdout",
     "output_type": "stream",
     "text": [
      "+---------------------+\n",
      "|count(DISTINCT title)|\n",
      "+---------------------+\n",
      "|                   17|\n",
      "+---------------------+\n",
      "\n"
     ]
    }
   ],
   "source": [
    "spark.sql('''\n",
    "            SELECT COUNT(DISTINCT title)\n",
    "            FROM test2\n",
    "            WHERE artist = \"ed sheeran\"\n",
    "            \n",
    "            ''').show()"
   ]
  },
  {
   "cell_type": "code",
   "execution_count": 77,
   "metadata": {},
   "outputs": [
    {
     "name": "stdout",
     "output_type": "stream",
     "text": [
      "root\n",
      " |-- rank: integer (nullable = true)\n",
      " |-- last_week_rank: string (nullable = true)\n",
      " |-- title: string (nullable = true)\n",
      " |-- artist: string (nullable = true)\n",
      " |-- label: string (nullable = true)\n",
      " |-- peak_rank: integer (nullable = true)\n",
      " |-- weeks_on_chart: integer (nullable = true)\n",
      " |-- week_of: date (nullable = true)\n",
      "\n",
      "root\n",
      " |-- title: string (nullable = true)\n",
      " |-- artist: string (nullable = true)\n",
      " |-- rank: integer (nullable = true)\n",
      " |-- last_week_rank: string (nullable = true)\n",
      " |-- label: string (nullable = true)\n",
      " |-- peak_rank: integer (nullable = true)\n",
      " |-- weeks_on_chart: integer (nullable = true)\n",
      " |-- week_of: date (nullable = true)\n",
      "\n"
     ]
    }
   ],
   "source": [
    "df.printSchema() #table = test\n",
    "new_songs_2015_2019.printSchema() # table = test2"
   ]
  },
  {
   "cell_type": "markdown",
   "metadata": {},
   "source": [
    "## Life of songs (ordered by first entrance date) with avg rank over life"
   ]
  },
  {
   "cell_type": "code",
   "execution_count": 80,
   "metadata": {},
   "outputs": [
    {
     "name": "stdout",
     "output_type": "stream",
     "text": [
      "+--------------------+--------------------+---------+--------+-------------+\n",
      "|              artist|               title|num_weeks|avg_rank|entrance_date|\n",
      "+--------------------+--------------------+---------+--------+-------------+\n",
      "|kygo ft conrad se...|           firestone|       55|   46.56|   2015-01-11|\n",
      "|                 omi|         cheerleader|       16|   60.81|   2015-01-11|\n",
      "|           james bay|               scars|        9|   76.89|   2015-01-11|\n",
      "|        fall out boy|        irresistible|        2|    75.5|   2015-01-11|\n",
      "|tchami ft kaleem ...|           promesses|        9|   43.33|   2015-01-11|\n",
      "|fuse odg ft killb...|    thinking about u|        3|   80.67|   2015-01-11|\n",
      "|              tulisa|  living without you|        1|    44.0|   2015-01-11|\n",
      "|noel gallagher's ...|ballad of the mig...|        4|   67.25|   2015-01-18|\n",
      "|        all time low|something's gotta...|        1|    84.0|   2015-01-18|\n",
      "|        fall out boy|         uma thurman|        3|    83.0|   2015-01-18|\n",
      "|        fall out boy|american beauty/a...|        3|    75.0|   2015-01-18|\n",
      "|              avicii|          the nights|       33|   35.27|   2015-01-18|\n",
      "|kid ink ft chris ...|               hotel|        5|    53.4|   2015-01-18|\n",
      "|    big sean ft e-40|i don't f**k with...|       13|   81.54|   2015-01-18|\n",
      "|          rae morris|   under the shadows|        3|   66.33|   2015-01-18|\n",
      "|             prodigy|               nasty|        1|    98.0|   2015-01-18|\n",
      "|majestic & jungle 70|creeping in the dark|        1|    75.0|   2015-01-25|\n",
      "|            maroon 5|               sugar|       45|   37.93|   2015-01-25|\n",
      "|     nathan grisdale|            only one|        1|    67.0|   2015-01-25|\n",
      "|    pitbull ft ne-yo|   time of our lives|       25|   54.12|   2015-01-25|\n",
      "+--------------------+--------------------+---------+--------+-------------+\n",
      "only showing top 20 rows\n",
      "\n"
     ]
    }
   ],
   "source": [
    "spark.sql('''\n",
    "            SELECT artist, title, COUNT(*) AS num_weeks, ROUND(AVG(rank),2) AS avg_rank, MIN(week_of) AS entrance_date\n",
    "            FROM test2\n",
    "            GROUP BY 1,2\n",
    "            ORDER BY 5''').show()"
   ]
  },
  {
   "cell_type": "markdown",
   "metadata": {},
   "source": [
    "## starting rank"
   ]
  },
  {
   "cell_type": "code",
   "execution_count": 93,
   "metadata": {},
   "outputs": [
    {
     "name": "stdout",
     "output_type": "stream",
     "text": [
      "+--------------------+--------------------+----+----------+\n",
      "|              artist|               title|rank|   week_of|\n",
      "+--------------------+--------------------+----+----------+\n",
      "|                 omi|         cheerleader|  96|2015-01-11|\n",
      "|           james bay|               scars|  63|2015-01-11|\n",
      "|kygo ft conrad se...|           firestone|  97|2015-01-11|\n",
      "|        fall out boy|        irresistible|  70|2015-01-11|\n",
      "|tchami ft kaleem ...|           promesses|   7|2015-01-11|\n",
      "|              tulisa|  living without you|  44|2015-01-11|\n",
      "|fuse odg ft killb...|    thinking about u|  79|2015-01-11|\n",
      "|        fall out boy|         uma thurman|  71|2015-01-18|\n",
      "|noel gallagher's ...|ballad of the mig...|  75|2015-01-18|\n",
      "|        all time low|something's gotta...|  84|2015-01-18|\n",
      "|             prodigy|               nasty|  98|2015-01-18|\n",
      "|        fall out boy|american beauty/a...|  89|2015-01-18|\n",
      "|          rae morris|   under the shadows|  53|2015-01-18|\n",
      "|    big sean ft e-40|i don't f**k with...|  97|2015-01-18|\n",
      "|              avicii|          the nights|  16|2015-01-18|\n",
      "|kid ink ft chris ...|               hotel|  43|2015-01-18|\n",
      "|            maroon 5|               sugar|  55|2015-01-25|\n",
      "|majestic & jungle 70|creeping in the dark|  75|2015-01-25|\n",
      "|     nathan grisdale|            only one|  67|2015-01-25|\n",
      "|    pitbull ft ne-yo|   time of our lives|  81|2015-01-25|\n",
      "+--------------------+--------------------+----+----------+\n",
      "only showing top 20 rows\n",
      "\n"
     ]
    }
   ],
   "source": [
    "spark.sql('''\n",
    "            SELECT artist, title, rank, week_of\n",
    "            FROM test2\n",
    "            WHERE weeks_on_chart = 1\n",
    "            ORDER BY 4''').show()"
   ]
  },
  {
   "cell_type": "code",
   "execution_count": 110,
   "metadata": {},
   "outputs": [],
   "source": [
    "join1 = spark.sql('''\n",
    "            SELECT artist, title, COUNT(*) AS num_weeks, ROUND(AVG(rank),2) AS avg_rank, MIN(week_of) AS entrance_date\n",
    "            FROM test2\n",
    "            GROUP BY 1,2\n",
    "            ORDER BY 5''')"
   ]
  },
  {
   "cell_type": "code",
   "execution_count": 111,
   "metadata": {},
   "outputs": [],
   "source": [
    "join2 = spark.sql('''\n",
    "            SELECT artist, title, rank, week_of as entrance_date\n",
    "            FROM test2\n",
    "            WHERE weeks_on_chart = 1\n",
    "            ORDER BY 4''')"
   ]
  },
  {
   "cell_type": "markdown",
   "metadata": {},
   "source": [
    "## Join for final df???"
   ]
  },
  {
   "cell_type": "code",
   "execution_count": 116,
   "metadata": {},
   "outputs": [],
   "source": [
    "left_join = join1.join(join2, ['title', 'artist', 'entrance_date'],how='left')"
   ]
  },
  {
   "cell_type": "code",
   "execution_count": 117,
   "metadata": {},
   "outputs": [],
   "source": [
    "left_join.createOrReplaceTempView('test3')"
   ]
  },
  {
   "cell_type": "code",
   "execution_count": 118,
   "metadata": {},
   "outputs": [
    {
     "name": "stdout",
     "output_type": "stream",
     "text": [
      "+--------+\n",
      "|count(1)|\n",
      "+--------+\n",
      "|    2339|\n",
      "+--------+\n",
      "\n"
     ]
    }
   ],
   "source": [
    "spark.sql('''\n",
    "            SELECT COUNT(*)\n",
    "            FROM test3''').show()"
   ]
  },
  {
   "cell_type": "code",
   "execution_count": 120,
   "metadata": {},
   "outputs": [
    {
     "name": "stdout",
     "output_type": "stream",
     "text": [
      "+--------------------+--------------------+-------------+---------+--------+----+\n",
      "|               title|              artist|entrance_date|num_weeks|avg_rank|rank|\n",
      "+--------------------+--------------------+-------------+---------+--------+----+\n",
      "|             perfect|          ed sheeran|   2017-03-10|      110|   48.09|   4|\n",
      "|        shape of you|          ed sheeran|   2017-01-13|       97|   42.52|   1|\n",
      "|             shotgun|         george ezra|   2018-03-30|       87|   35.99|  35|\n",
      "|             lean on|major lazer ft mo...|   2015-03-08|       79|   45.92|  77|\n",
      "|          this is me|settle/greatest s...|   2018-01-05|       75|   40.84|  28|\n",
      "|     shut up & dance|       walk the moon|   2015-06-07|       72|   54.63|  75|\n",
      "|can't stop the fe...|   justin timberlake|   2016-05-13|       71|   46.94|   3|\n",
      "|               sorry|       justin bieber|   2015-10-30|       68|   41.43|   2|\n",
      "|            stitches|        shawn mendes|   2015-09-25|       67|   47.63|  97|\n",
      "|           new rules|            dua lipa|   2017-07-14|       66|   43.92|  75|\n",
      "|       cheap thrills|                 sia|   2016-02-19|       66|   39.12|  41|\n",
      "|           one dance|drake ft wizkid &...|   2016-04-08|       65|   33.86|  21|\n",
      "|       love yourself|       justin bieber|   2015-11-20|       64|   44.41|   3|\n",
      "|    leave a light on|          tom walker|   2018-01-05|       63|   51.38|  89|\n",
      "|    what do you mean|       justin bieber|   2015-09-04|       62|   37.92|   1|\n",
      "|             shallow|lady gaga & bradl...|   2018-10-05|       60|   43.43|  13|\n",
      "|                king|       years & years|   2015-03-08|       59|   51.51|   1|\n",
      "|          high hopes|  panic at the disco|   2018-06-01|       58|   50.47|  70|\n",
      "| love me like you do|      ellie goulding|   2015-02-08|       57|   53.05|   1|\n",
      "|              havana|camila cabello ft...|   2017-08-11|       57|    39.4|  53|\n",
      "+--------------------+--------------------+-------------+---------+--------+----+\n",
      "only showing top 20 rows\n",
      "\n"
     ]
    }
   ],
   "source": [
    "spark.sql('''\n",
    "            SELECT *\n",
    "            FROM test3\n",
    "            ORDER BY num_weeks DESC''').show()"
   ]
  },
  {
   "cell_type": "code",
   "execution_count": 184,
   "metadata": {},
   "outputs": [],
   "source": [
    "num_per_month_test = spark.sql('''\n",
    "            SELECT MONTH(entrance_date) as month, COUNT(*) as count\n",
    "            FROM test3\n",
    "            GROUP BY MONTH(entrance_date)\n",
    "            ORDER BY 1\n",
    "            ''').collect()"
   ]
  },
  {
   "cell_type": "code",
   "execution_count": 185,
   "metadata": {},
   "outputs": [
    {
     "data": {
      "text/plain": [
       "[Row(month=1, count=143),\n",
       " Row(month=2, count=177),\n",
       " Row(month=3, count=249),\n",
       " Row(month=4, count=201),\n",
       " Row(month=5, count=241),\n",
       " Row(month=6, count=193),\n",
       " Row(month=7, count=168),\n",
       " Row(month=8, count=182),\n",
       " Row(month=9, count=215),\n",
       " Row(month=10, count=190),\n",
       " Row(month=11, count=243),\n",
       " Row(month=12, count=137)]"
      ]
     },
     "execution_count": 185,
     "metadata": {},
     "output_type": "execute_result"
    }
   ],
   "source": [
    "num_per_month_test"
   ]
  },
  {
   "cell_type": "code",
   "execution_count": 187,
   "metadata": {},
   "outputs": [],
   "source": [
    "num_songs_per_month = []\n",
    "for idx, v in enumerate(num_per_month_test):\n",
    "    num_songs_per_month.append(v[1])"
   ]
  },
  {
   "cell_type": "code",
   "execution_count": 188,
   "metadata": {},
   "outputs": [
    {
     "data": {
      "text/plain": [
       "[143, 177, 249, 201, 241, 193, 168, 182, 215, 190, 243, 137]"
      ]
     },
     "execution_count": 188,
     "metadata": {},
     "output_type": "execute_result"
    }
   ],
   "source": [
    "num_songs_per_month"
   ]
  },
  {
   "cell_type": "code",
   "execution_count": 189,
   "metadata": {},
   "outputs": [],
   "source": [
    "months = ['January', 'February', 'March', 'April', 'May', 'June', 'July', 'August', 'September', 'October', 'November', 'December']"
   ]
  },
  {
   "cell_type": "code",
   "execution_count": 190,
   "metadata": {},
   "outputs": [
    {
     "data": {
      "text/plain": [
       "Text(0.5, 1.0, 'Number of Songs Per Month')"
      ]
     },
     "execution_count": 190,
     "metadata": {},
     "output_type": "execute_result"
    },
    {
     "data": {
      "image/png": "[encoded data removed]",
      "text/plain": [
       "<Figure size 864x432 with 1 Axes>"
      ]
     },
     "metadata": {
      "needs_background": "light"
     },
     "output_type": "display_data"
    }
   ],
   "source": [
    "fig, ax = plt.subplots(figsize=(12,6))\n",
    "\n",
    "ax.barh(months, num_songs_per_month, height=0.5)\n",
    "ax.invert_yaxis()\n",
    "for i, v in enumerate(num_songs_per_month):\n",
    "    ax.text(v + 3, i + .25, str(v), color='blue')\n",
    "ax.set_xlim(0,280)\n",
    "ax.set_title('Number of Songs Per Month')"
   ]
  },
  {
   "cell_type": "code",
   "execution_count": 193,
   "metadata": {},
   "outputs": [
    {
     "name": "stdout",
     "output_type": "stream",
     "text": [
      "+--------------------+------------------------+\n",
      "|month(entrance_date)|round(avg(num_weeks), 2)|\n",
      "+--------------------+------------------------+\n",
      "|                   1|                   14.31|\n",
      "|                   2|                   10.21|\n",
      "|                   3|                   10.77|\n",
      "|                   4|                    9.27|\n",
      "|                   5|                    9.37|\n",
      "|                   6|                   10.42|\n",
      "|                   7|                    10.1|\n",
      "|                   8|                   10.65|\n",
      "|                   9|                    9.07|\n",
      "|                  10|                    9.65|\n",
      "|                  11|                    7.61|\n",
      "|                  12|                    6.46|\n",
      "+--------------------+------------------------+\n",
      "\n"
     ]
    }
   ],
   "source": [
    "spark.sql('''\n",
    "            SELECT MONTH(entrance_date), ROUND(AVG(num_weeks),2)\n",
    "            FROM test3\n",
    "            GROUP BY MONTH(entrance_date)\n",
    "            ORDER BY 1''').show()"
   ]
  },
  {
   "cell_type": "code",
   "execution_count": 191,
   "metadata": {},
   "outputs": [
    {
     "name": "stdout",
     "output_type": "stream",
     "text": [
      "+--------------------+------------------------+\n",
      "|month(entrance_date)|round(avg(num_weeks), 2)|\n",
      "+--------------------+------------------------+\n",
      "|                   1|                   14.31|\n",
      "|                   2|                   10.21|\n",
      "|                   3|                   10.77|\n",
      "|                   4|                    9.27|\n",
      "|                   5|                    9.37|\n",
      "|                   6|                   10.42|\n",
      "|                   7|                    10.1|\n",
      "|                   8|                   10.65|\n",
      "|                   9|                    9.07|\n",
      "|                  10|                    9.65|\n",
      "|                  11|                    9.13|\n",
      "|                  12|                    7.64|\n",
      "+--------------------+------------------------+\n",
      "\n"
     ]
    }
   ],
   "source": [
    "spark.sql('''\n",
    "            SELECT MONTH(entrance_date), ROUND(AVG(num_weeks),2)\n",
    "            FROM test3\n",
    "            WHERE entrance_date < \"2019-11-01\"\n",
    "            GROUP BY MONTH(entrance_date)\n",
    "            ORDER BY 1''').show()"
   ]
  },
  {
   "cell_type": "code",
   "execution_count": 192,
   "metadata": {},
   "outputs": [
    {
     "name": "stdout",
     "output_type": "stream",
     "text": [
      "+--------------------+------------------------+\n",
      "|month(entrance_date)|round(avg(num_weeks), 2)|\n",
      "+--------------------+------------------------+\n",
      "|                   1|                   14.97|\n",
      "|                   2|                   10.87|\n",
      "|                   3|                   11.42|\n",
      "|                   4|                    9.92|\n",
      "|                   5|                   10.13|\n",
      "|                   6|                   10.95|\n",
      "|                   7|                   10.21|\n",
      "|                   8|                   11.99|\n",
      "|                   9|                   10.05|\n",
      "|                  10|                   10.97|\n",
      "|                  11|                    9.13|\n",
      "|                  12|                    7.64|\n",
      "+--------------------+------------------------+\n",
      "\n"
     ]
    }
   ],
   "source": [
    "spark.sql('''\n",
    "            SELECT MONTH(entrance_date), ROUND(AVG(num_weeks),2)\n",
    "            FROM test3\n",
    "            WHERE entrance_date < \"2019-01-01\"\n",
    "            GROUP BY MONTH(entrance_date)\n",
    "            ORDER BY 1''').show()"
   ]
  },
  {
   "cell_type": "code",
   "execution_count": 202,
   "metadata": {},
   "outputs": [
    {
     "data": {
      "text/plain": [
       "[14.31, 10.21, 10.77, 9.27, 9.37, 10.42, 10.1, 10.65, 9.07, 9.65, 7.61, 6.46]"
      ]
     },
     "execution_count": 202,
     "metadata": {},
     "output_type": "execute_result"
    }
   ],
   "source": [
    "avg_lifespan_per_month = spark.sql('''\n",
    "            SELECT MONTH(entrance_date) AS month, ROUND(AVG(num_weeks),2) AS avg_lifespan\n",
    "            FROM test3\n",
    "            GROUP BY MONTH(entrance_date)\n",
    "            ORDER BY 1''')\n",
    "avg_lifespan = avg_lifespan_per_month.rdd.map(lambda row: row.avg_lifespan).collect()\n",
    "avg_lifespan"
   ]
  },
  {
   "cell_type": "code",
   "execution_count": 204,
   "metadata": {},
   "outputs": [
    {
     "data": {
      "text/plain": [
       "Text(0.5, 1.0, 'Average Lifespan (2015-2019)')"
      ]
     },
     "execution_count": 204,
     "metadata": {},
     "output_type": "execute_result"
    },
    {
     "data": {
      "image/png": "[encoded data removed]",
      "text/plain": [
       "<Figure size 864x432 with 1 Axes>"
      ]
     },
     "metadata": {
      "needs_background": "light"
     },
     "output_type": "display_data"
    }
   ],
   "source": [
    "fig, ax = plt.subplots(figsize=(12,6))\n",
    "\n",
    "ax.barh(months, avg_lifespan, height=0.5)\n",
    "ax.invert_yaxis()\n",
    "for i, v in enumerate(avg_lifespan):\n",
    "    ax.text(v + 0.25, i + .1, str(v), color='blue')\n",
    "ax.set_xlim(0,16)\n",
    "ax.set_title('Average Lifespan (2015-2019)')"
   ]
  },
  {
   "cell_type": "code",
   "execution_count": 194,
   "metadata": {},
   "outputs": [],
   "source": [
    "avg_lifespan_per_month = spark.sql('''\n",
    "            SELECT MONTH(entrance_date) AS month, ROUND(AVG(num_weeks),2) AS avg_lifespan\n",
    "            FROM test3\n",
    "            WHERE entrance_date < \"2019-11-01\"\n",
    "            GROUP BY MONTH(entrance_date)\n",
    "            ORDER BY 1''')"
   ]
  },
  {
   "cell_type": "code",
   "execution_count": 195,
   "metadata": {},
   "outputs": [],
   "source": [
    "avg_lifespan = avg_lifespan_per_month.rdd.map(lambda row: row.avg_lifespan).collect()"
   ]
  },
  {
   "cell_type": "code",
   "execution_count": 196,
   "metadata": {},
   "outputs": [
    {
     "data": {
      "text/plain": [
       "[14.31, 10.21, 10.77, 9.27, 9.37, 10.42, 10.1, 10.65, 9.07, 9.65, 9.13, 7.64]"
      ]
     },
     "execution_count": 196,
     "metadata": {},
     "output_type": "execute_result"
    }
   ],
   "source": [
    "avg_lifespan"
   ]
  },
  {
   "cell_type": "code",
   "execution_count": 198,
   "metadata": {},
   "outputs": [
    {
     "data": {
      "text/plain": [
       "Text(0.5, 1.0, 'Average Lifespan (Dec 2019 removed)')"
      ]
     },
     "execution_count": 198,
     "metadata": {},
     "output_type": "execute_result"
    },
    {
     "data": {
      "image/png": "[encoded data removed]",
      "text/plain": [
       "<Figure size 864x432 with 1 Axes>"
      ]
     },
     "metadata": {
      "needs_background": "light"
     },
     "output_type": "display_data"
    }
   ],
   "source": [
    "fig, ax = plt.subplots(figsize=(12,6))\n",
    "\n",
    "ax.barh(months, avg_lifespan, height=0.5)\n",
    "ax.invert_yaxis()\n",
    "for i, v in enumerate(avg_lifespan):\n",
    "    ax.text(v + 0.25, i + .1, str(v), color='blue')\n",
    "ax.set_xlim(0,16)\n",
    "ax.set_title('Average Lifespan (Dec 2019 removed)')"
   ]
  },
  {
   "cell_type": "code",
   "execution_count": 199,
   "metadata": {},
   "outputs": [],
   "source": [
    "avg_lifespan_per_month_2 = spark.sql('''\n",
    "            SELECT MONTH(entrance_date) AS month, ROUND(AVG(num_weeks),2) AS avg_lifespan\n",
    "            FROM test3\n",
    "            WHERE entrance_date < \"2018-01-01\"\n",
    "            GROUP BY MONTH(entrance_date)\n",
    "            ORDER BY 1''')"
   ]
  },
  {
   "cell_type": "code",
   "execution_count": 200,
   "metadata": {},
   "outputs": [],
   "source": [
    "avg_lifespan_2 = avg_lifespan_per_month_2.rdd.map(lambda row: row.avg_lifespan).collect()"
   ]
  },
  {
   "cell_type": "code",
   "execution_count": 201,
   "metadata": {},
   "outputs": [
    {
     "data": {
      "text/plain": [
       "Text(0.5, 1.0, 'Average Lifespan (Without songs released in 2019)')"
      ]
     },
     "execution_count": 201,
     "metadata": {},
     "output_type": "execute_result"
    },
    {
     "data": {
      "image/png": "[encoded data removed]",
      "text/plain": [
       "<Figure size 864x432 with 1 Axes>"
      ]
     },
     "metadata": {
      "needs_background": "light"
     },
     "output_type": "display_data"
    }
   ],
   "source": [
    "fig, ax = plt.subplots(figsize=(12,6))\n",
    "\n",
    "ax.barh(months, avg_lifespan_2, height=0.5)\n",
    "ax.invert_yaxis()\n",
    "for i, v in enumerate(avg_lifespan_2):\n",
    "    ax.text(v + 0.25, i + .1, str(v), color='blue')\n",
    "ax.set_xlim(0,16)\n",
    "ax.set_title('Average Lifespan (Without songs released in 2019)')"
   ]
  },
  {
   "cell_type": "code",
   "execution_count": 307,
   "metadata": {},
   "outputs": [],
   "source": [
    "survival = spark.sql('''\n",
    "            SELECT num_weeks, COUNT(*) as count\n",
    "            FROM test5\n",
    "            GROUP BY num_weeks\n",
    "            ''')"
   ]
  },
  {
   "cell_type": "code",
   "execution_count": null,
   "metadata": {},
   "outputs": [],
   "source": [
    "survival.rdd.map(lambda row: row.avg_lifespan).collect()"
   ]
  }
 ],
 "metadata": {
  "kernelspec": {
   "display_name": "Python 3",
   "language": "python",
   "name": "python3"
  },
  "language_info": {
   "codemirror_mode": {
    "name": "ipython",
    "version": 3
   },
   "file_extension": ".py",
   "mimetype": "text/x-python",
   "name": "python",
   "nbconvert_exporter": "python",
   "pygments_lexer": "ipython3",
   "version": "3.7.3"
  }
 },
 "nbformat": 4,
 "nbformat_minor": 4
}
