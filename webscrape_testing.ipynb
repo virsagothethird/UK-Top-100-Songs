{
 "cells": [
  {
   "cell_type": "code",
   "execution_count": 1,
   "metadata": {},
   "outputs": [],
   "source": [
    "import pyspark as ps\n",
    "import pyspark.sql.functions as f\n",
    "from pyspark import SQLContext\n",
    "from pyspark.sql.types import IntegerType, DateType, TimestampType\n",
    "from datetime import datetime\n",
    "\n",
    "spark = (ps.sql.SparkSession.builder \n",
    "        .master(\"local[4]\") \n",
    "        .appName(\"sparkSQL exercise\") \n",
    "        .getOrCreate()\n",
    "        )\n",
    "sc = spark.sparkContext"
   ]
  },
  {
   "cell_type": "code",
   "execution_count": 2,
   "metadata": {},
   "outputs": [
    {
     "data": {
      "text/html": [
       "\n",
       "        <div>\n",
       "            <p><b>SparkContext</b></p>\n",
       "\n",
       "            <p><a href=\"http://7e5b74eb1d72:4040\">Spark UI</a></p>\n",
       "\n",
       "            <dl>\n",
       "              <dt>Version</dt>\n",
       "                <dd><code>v2.4.4</code></dd>\n",
       "              <dt>Master</dt>\n",
       "                <dd><code>local[4]</code></dd>\n",
       "              <dt>AppName</dt>\n",
       "                <dd><code>sparkSQL exercise</code></dd>\n",
       "            </dl>\n",
       "        </div>\n",
       "        "
      ],
      "text/plain": [
       "<SparkContext master=local[4] appName=sparkSQL exercise>"
      ]
     },
     "execution_count": 2,
     "metadata": {},
     "output_type": "execute_result"
    }
   ],
   "source": [
    "sc"
   ]
  },
  {
   "cell_type": "code",
   "execution_count": 3,
   "metadata": {},
   "outputs": [],
   "source": [
    "sqlContext = SQLContext(sc)"
   ]
  },
  {
   "cell_type": "code",
   "execution_count": 4,
   "metadata": {},
   "outputs": [],
   "source": [
    "df = sqlContext.read.csv(\"uk100.csv\", header=True)"
   ]
  },
  {
   "cell_type": "code",
   "execution_count": 5,
   "metadata": {},
   "outputs": [
    {
     "name": "stdout",
     "output_type": "stream",
     "text": [
      "root\n",
      " |-- _c0: string (nullable = true)\n",
      " |-- rank: string (nullable = true)\n",
      " |-- last_week_rank: string (nullable = true)\n",
      " |-- hmm: string (nullable = true)\n",
      " |-- title: string (nullable = true)\n",
      " |-- artist: string (nullable = true)\n",
      " |-- label: string (nullable = true)\n",
      " |-- peak_rank: string (nullable = true)\n",
      " |-- weeks_on_chart: string (nullable = true)\n",
      " |-- week_of: string (nullable = true)\n",
      "\n"
     ]
    }
   ],
   "source": [
    "df.printSchema()"
   ]
  },
  {
   "cell_type": "code",
   "execution_count": 6,
   "metadata": {},
   "outputs": [],
   "source": [
    "df.createOrReplaceTempView('test')"
   ]
  },
  {
   "cell_type": "code",
   "execution_count": 7,
   "metadata": {},
   "outputs": [
    {
     "name": "stdout",
     "output_type": "stream",
     "text": [
      "+---+----+--------------+--------+--------------------+--------------------+--------------------+---------+--------------+----------------+\n",
      "|_c0|rank|last_week_rank|     hmm|               title|              artist|               label|peak_rank|weeks_on_chart|         week_of|\n",
      "+---+----+--------------+--------+--------------------+--------------------+--------------------+---------+--------------+----------------+\n",
      "|  0|   1|            11|        |               RIVER|      ELLIE GOULDING|             POLYDOR|        1|             5|December 27 2019|\n",
      "|  1|   2|             8|        |ALL I WANT FOR CH...|        MARIAH CAREY|            COLUMBIA|        2|            99|December 27 2019|\n",
      "|  2|   3|             5|        |      LAST CHRISTMAS|                WHAM|                 RCA|        2|            64|December 27 2019|\n",
      "|  3|   4|            14|        |FAIRYTALE OF NEW ...|POGUES FT KIRSTY ...|         WARNER BROS|        2|            99|December 27 2019|\n",
      "|  4|   5|             2|        |              OWN IT|STORMZY/ED SHEERA...|      ATLANTIC/MERKY|        2|             5|December 27 2019|\n",
      "|  5|   6|            16|        |MERRY CHRISTMAS E...|     SHAKIN' STEVENS|                 RCA|        1|            71|December 27 2019|\n",
      "|  6|   7|            17|        |DO THEY KNOW IT'S...|            BAND AID|             MERCURY|        1|            80|December 27 2019|\n",
      "|  7|   8|            19|        | STEP INTO CHRISTMAS|          ELTON JOHN|             MERCURY|        8|            38|December 27 2019|\n",
      "|  8|   9|            34|        |HAPPY CHRISTMAS (...|         JOHN LEGEND|            COLUMBIA|        9|             3|December 27 2019|\n",
      "|  9|  10|            29|        |I WISH IT COULD B...|             WIZZARD|                 EMI|       10|            57|December 27 2019|\n",
      "| 10|  11|            24|        |IT'S BEGINNING TO...|       MICHAEL BUBLE|             REPRISE|        7|            33|December 27 2019|\n",
      "| 11|  12|             3|        |       BEFORE YOU GO|       LEWIS CAPALDI|                 EMI|        2|             6|December 27 2019|\n",
      "| 12|  13|            28|        |       SANTA TELL ME|       ARIANA GRANDE|    REPUBLIC RECORDS|       13|            18|December 27 2019|\n",
      "| 13|  14|             4|        |     DON'T START NOW|            DUA LIPA|      WARNER RECORDS|        2|             8|December 27 2019|\n",
      "| 14|  15|            25|        |      ONE MORE SLEEP|         LEONA LEWIS|          SYCO MUSIC|        3|            23|December 27 2019|\n",
      "| 15|  16|             7|        |             ROXANNE|      ARIZONA ZERVAS|          SONY MUSIC|        5|             8|December 27 2019|\n",
      "| 16|  17|            36|        |SANTA'S COMING FO...|                 SIA|ATLANTIC/MONKEY P...|       17|            12|December 27 2019|\n",
      "| 17|  18|            32|        |ROCKIN' AROUND TH...|          BRENDA LEE|                 MCA|        6|            47|December 27 2019|\n",
      "| 18|  19|            31|        |MERRY XMAS EVERYBODY|               SLADE|                UMTV|        1|            98|December 27 2019|\n",
      "| 19|  20|            10|        |        DANCE MONKEY|           TONES & I|          PARLOPHONE|        1|            21|December 27 2019|\n",
      "+---+----+--------------+--------+--------------------+--------------------+--------------------+---------+--------------+----------------+\n",
      "only showing top 20 rows\n",
      "\n"
     ]
    }
   ],
   "source": [
    "result = spark.sql('''SELECT *\n",
    "            FROM test\n",
    "            LIMIT 30\n",
    "            ''')\n",
    "result.show()"
   ]
  },
  {
   "cell_type": "code",
   "execution_count": 8,
   "metadata": {},
   "outputs": [],
   "source": [
    "df = df.drop('_c0')\n",
    "df = df.drop('hmm')"
   ]
  },
  {
   "cell_type": "code",
   "execution_count": 9,
   "metadata": {},
   "outputs": [],
   "source": [
    "for col in df.columns:\n",
    "    df = df.withColumn(col, f.lower(f.col(col)))"
   ]
  },
  {
   "cell_type": "code",
   "execution_count": 10,
   "metadata": {},
   "outputs": [],
   "source": [
    "df = df.withColumn(\"rank\", df[\"rank\"].cast(IntegerType()))\n",
    "df = df.withColumn(\"peak_rank\", df[\"peak_rank\"].cast(IntegerType()))\n",
    "df = df.withColumn(\"weeks_on_chart\", df[\"weeks_on_chart\"].cast(IntegerType()))\n",
    "#df = df.withColumn(\"week_of\", df[\"week_of\"].cast(DateType()))"
   ]
  },
  {
   "cell_type": "code",
   "execution_count": 11,
   "metadata": {},
   "outputs": [],
   "source": [
    "def to_date(x):\n",
    "    return datetime.strptime(x, '%B %d %Y')\n",
    "hmm = f.udf(lambda y: to_date(y), DateType())\n"
   ]
  },
  {
   "cell_type": "code",
   "execution_count": 12,
   "metadata": {},
   "outputs": [],
   "source": [
    "df = df.withColumn(\"week_of\", hmm('week_of'))"
   ]
  },
  {
   "cell_type": "code",
   "execution_count": 13,
   "metadata": {},
   "outputs": [
    {
     "name": "stdout",
     "output_type": "stream",
     "text": [
      "root\n",
      " |-- rank: integer (nullable = true)\n",
      " |-- last_week_rank: string (nullable = true)\n",
      " |-- title: string (nullable = true)\n",
      " |-- artist: string (nullable = true)\n",
      " |-- label: string (nullable = true)\n",
      " |-- peak_rank: integer (nullable = true)\n",
      " |-- weeks_on_chart: integer (nullable = true)\n",
      " |-- week_of: date (nullable = true)\n",
      "\n"
     ]
    }
   ],
   "source": [
    "df.printSchema()"
   ]
  },
  {
   "cell_type": "code",
   "execution_count": 14,
   "metadata": {},
   "outputs": [],
   "source": [
    "df.createOrReplaceTempView('test')"
   ]
  },
  {
   "cell_type": "code",
   "execution_count": 15,
   "metadata": {},
   "outputs": [
    {
     "name": "stdout",
     "output_type": "stream",
     "text": [
      "+--------+\n",
      "|count(1)|\n",
      "+--------+\n",
      "|   26000|\n",
      "+--------+\n",
      "\n"
     ]
    }
   ],
   "source": [
    "result = spark.sql('''SELECT COUNT(*)\n",
    "            FROM test\n",
    "            ''')\n",
    "result.show()"
   ]
  },
  {
   "cell_type": "code",
   "execution_count": 16,
   "metadata": {},
   "outputs": [
    {
     "name": "stdout",
     "output_type": "stream",
     "text": [
      "+----+--------------+--------------------+--------------------+--------------------+---------+--------------+----------+\n",
      "|rank|last_week_rank|               title|              artist|               label|peak_rank|weeks_on_chart|   week_of|\n",
      "+----+--------------+--------------------+--------------------+--------------------+---------+--------------+----------+\n",
      "|   1|            11|               river|      ellie goulding|             polydor|        1|             5|2019-12-27|\n",
      "|   2|             8|all i want for ch...|        mariah carey|            columbia|        2|            99|2019-12-27|\n",
      "|   3|             5|      last christmas|                wham|                 rca|        2|            64|2019-12-27|\n",
      "|   4|            14|fairytale of new ...|pogues ft kirsty ...|         warner bros|        2|            99|2019-12-27|\n",
      "|   5|             2|              own it|stormzy/ed sheera...|      atlantic/merky|        2|             5|2019-12-27|\n",
      "|   6|            16|merry christmas e...|     shakin' stevens|                 rca|        1|            71|2019-12-27|\n",
      "|   7|            17|do they know it's...|            band aid|             mercury|        1|            80|2019-12-27|\n",
      "|   8|            19| step into christmas|          elton john|             mercury|        8|            38|2019-12-27|\n",
      "|   9|            34|happy christmas (...|         john legend|            columbia|        9|             3|2019-12-27|\n",
      "|  10|            29|i wish it could b...|             wizzard|                 emi|       10|            57|2019-12-27|\n",
      "|  11|            24|it's beginning to...|       michael buble|             reprise|        7|            33|2019-12-27|\n",
      "|  12|             3|       before you go|       lewis capaldi|                 emi|        2|             6|2019-12-27|\n",
      "|  13|            28|       santa tell me|       ariana grande|    republic records|       13|            18|2019-12-27|\n",
      "|  14|             4|     don't start now|            dua lipa|      warner records|        2|             8|2019-12-27|\n",
      "|  15|            25|      one more sleep|         leona lewis|          syco music|        3|            23|2019-12-27|\n",
      "|  16|             7|             roxanne|      arizona zervas|          sony music|        5|             8|2019-12-27|\n",
      "|  17|            36|santa's coming fo...|                 sia|atlantic/monkey p...|       17|            12|2019-12-27|\n",
      "|  18|            32|rockin' around th...|          brenda lee|                 mca|        6|            47|2019-12-27|\n",
      "|  19|            31|merry xmas everybody|               slade|                umtv|        1|            98|2019-12-27|\n",
      "|  20|            10|        dance monkey|           tones & i|          parlophone|        1|            21|2019-12-27|\n",
      "+----+--------------+--------------------+--------------------+--------------------+---------+--------------+----------+\n",
      "only showing top 20 rows\n",
      "\n"
     ]
    }
   ],
   "source": [
    "result = spark.sql('''SELECT *\n",
    "            FROM test\n",
    "            LIMIT 30\n",
    "            ''')\n",
    "result.show()"
   ]
  },
  {
   "cell_type": "code",
   "execution_count": 17,
   "metadata": {},
   "outputs": [
    {
     "name": "stdout",
     "output_type": "stream",
     "text": [
      "+----------------------------------------+-----------------------------------+\n",
      "|title                                   |round(avg(CAST(rank AS BIGINT)), 2)|\n",
      "+----------------------------------------+-----------------------------------+\n",
      "|last christmas                          |25.3                               |\n",
      "|all i want for christmas is you         |26.82                              |\n",
      "|happy christmas (war is over)           |28.0                               |\n",
      "|merry christmas everyone                |34.46                              |\n",
      "|do they know it's christmas             |35.7                               |\n",
      "|i wish it could be christmas everyday   |36.0                               |\n",
      "|rockin' around the christmas tree       |37.05                              |\n",
      "|step into christmas                     |38.84                              |\n",
      "|driving home for christmas              |39.37                              |\n",
      "|santa tell me                           |41.0                               |\n",
      "|merry xmas everybody                    |45.5                               |\n",
      "|happy xmas (war is over)                |51.06                              |\n",
      "|cozy little christmas                   |51.43                              |\n",
      "|santa's coming for us                   |51.58                              |\n",
      "|when christmas comes around             |51.83                              |\n",
      "|wonderful christmastime                 |56.17                              |\n",
      "|christmas (baby please come home)       |61.5                               |\n",
      "|christmas lights                        |63.63                              |\n",
      "|holly jolly christmas                   |63.85                              |\n",
      "|white christmas                         |64.28                              |\n",
      "|like it's christmas                     |68.0                               |\n",
      "|i believe in father christmas           |69.0                               |\n",
      "|the christmas song                      |69.4                               |\n",
      "|blue christmas                          |70.25                              |\n",
      "|santa claus is comin' to town           |71.67                              |\n",
      "|santa baby                              |71.82                              |\n",
      "|all i want (for christmas)              |73.0                               |\n",
      "|santa claus is coming to town           |75.67                              |\n",
      "|lonely this christmas                   |77.5                               |\n",
      "|christmas wrapping                      |78.6                               |\n",
      "|christmas time (don't let the bells end)|79.9                               |\n",
      "|christmas tree farm                     |85.0                               |\n",
      "|thank god it's christmas                |86.0                               |\n",
      "|have yourself a merry little christmas  |86.4                               |\n",
      "|you make it feel like christmas         |88.2                               |\n",
      "|run rudolph run                         |88.5                               |\n",
      "+----------------------------------------+-----------------------------------+\n",
      "\n"
     ]
    }
   ],
   "source": [
    "result = spark.sql('''\n",
    "            SELECT DISTINCT title, ROUND(AVG(rank), 2)\n",
    "            FROM test\n",
    "            WHERE title like \"%christmas%\"\n",
    "                OR title like \"%merry%\"\n",
    "                OR title like \"%xmas%\"\n",
    "                OR title like \"%santa%\"\n",
    "                OR title like \"%rudolph%\"\n",
    "                OR title like \"%reindeer%\"\n",
    "            GROUP BY 1\n",
    "            ORDER BY 2\n",
    "            ''')\n",
    "result.show(50, False)"
   ]
  },
  {
   "cell_type": "code",
   "execution_count": 18,
   "metadata": {},
   "outputs": [
    {
     "name": "stdout",
     "output_type": "stream",
     "text": [
      "+---------------------+\n",
      "|count(DISTINCT title)|\n",
      "+---------------------+\n",
      "|                 2416|\n",
      "+---------------------+\n",
      "\n"
     ]
    }
   ],
   "source": [
    "result = spark.sql('''\n",
    "            SELECT COUNT(DISTINCT title)\n",
    "            FROM test\n",
    "            ''')\n",
    "result.show()"
   ]
  },
  {
   "cell_type": "code",
   "execution_count": 19,
   "metadata": {},
   "outputs": [
    {
     "name": "stdout",
     "output_type": "stream",
     "text": [
      "+---------------------+\n",
      "|count(DISTINCT title)|\n",
      "+---------------------+\n",
      "|                   77|\n",
      "+---------------------+\n",
      "\n"
     ]
    }
   ],
   "source": [
    "result = spark.sql('''\n",
    "            SELECT COUNT(DISTINCT title)\n",
    "            FROM test\n",
    "            WHERE rank == 1''')\n",
    "result.show()"
   ]
  },
  {
   "cell_type": "code",
   "execution_count": 64,
   "metadata": {},
   "outputs": [
    {
     "name": "stdout",
     "output_type": "stream",
     "text": [
      "+------------------------------+-----------------------------+\n",
      "|artist                        |title                        |\n",
      "+------------------------------+-----------------------------+\n",
      "|elton john                    |step into christmas          |\n",
      "|clean bandit ft ellie goulding|mama                         |\n",
      "|m o/chip                      |wondering                    |\n",
      "|drake                         |nonstop                      |\n",
      "|florence & the machine        |big god                      |\n",
      "|raye/mabel/stefflon don       |cigarette                    |\n",
      "|jax jones ft raye             |you don't know me            |\n",
      "|ryan gosling & emma stone     |city of stars                |\n",
      "|kygo ft ella henderson        |here for you                 |\n",
      "|sigma ft paloma faith         |changing                     |\n",
      "|adam lambert                  |ghost town                   |\n",
      "|ciara                         |i bet                        |\n",
      "|charli xcx ft rita ora        |doing it                     |\n",
      "|bars & melody                 |keep smiling                 |\n",
      "|beyonce/glover/eichner/rogen  |can you feel the love tonight|\n",
      "|clean bandit ft demi lovato   |solo                         |\n",
      "|shawn mendes                  |where were you in the morning|\n",
      "|drake                         |diplomatic immunity          |\n",
      "|lil uzi vert                  |xo tour llif3                |\n",
      "|teddy mac the songaminute man |you make me feel so young    |\n",
      "+------------------------------+-----------------------------+\n",
      "only showing top 20 rows\n",
      "\n"
     ]
    }
   ],
   "source": [
    "result = spark.sql('''\n",
    "            SELECT artist, title\n",
    "            FROM test\n",
    "            GROUP BY artist, title''').show(20, False)\n"
   ]
  },
  {
   "cell_type": "code",
   "execution_count": 65,
   "metadata": {},
   "outputs": [
    {
     "name": "stdout",
     "output_type": "stream",
     "text": [
      "+--------+\n",
      "|count(1)|\n",
      "+--------+\n",
      "|    2605|\n",
      "+--------+\n",
      "\n"
     ]
    }
   ],
   "source": [
    "result = spark.sql('''\n",
    "            SELECT COUNT(*)\n",
    "            FROM(\n",
    "                SELECT artist, title\n",
    "                FROM test\n",
    "                GROUP BY artist, title)\n",
    "            ''').show()"
   ]
  },
  {
   "cell_type": "code",
   "execution_count": 56,
   "metadata": {},
   "outputs": [
    {
     "name": "stdout",
     "output_type": "stream",
     "text": [
      "+------------------------------+----------------------+---------+------------+\n",
      "|artist                        |title                 |num_weeks|min(week_of)|\n",
      "+------------------------------+----------------------+---------+------------+\n",
      "|drake ft wizkid & kyla        |one dance             |15       |2016-04-15  |\n",
      "|ed sheeran                    |shape of you          |14       |2017-01-13  |\n",
      "|luis fonsi/daddy yankee/bieber|despacito (remix)     |11       |2017-05-12  |\n",
      "|tones & i                     |dance monkey          |11       |2019-10-04  |\n",
      "|clean bandit                  |rockabye              |9        |2016-11-11  |\n",
      "|drake                         |god's plan            |9        |2018-01-26  |\n",
      "|calvin harris & dua lipa      |one kiss              |8        |2018-04-20  |\n",
      "|ed sheeran & justin bieber    |i don't care          |8        |2019-05-17  |\n",
      "|lewis capaldi                 |someone you loved     |7        |2019-03-01  |\n",
      "|shawn mendes/camila cabello   |senorita              |6        |2019-07-12  |\n",
      "|ed sheeran                    |perfect               |6        |2017-12-08  |\n",
      "|justin bieber                 |love yourself         |6        |2015-12-04  |\n",
      "|calvin harris & sam smith     |promises              |6        |2018-09-07  |\n",
      "|ariana grande                 |thank u next          |6        |2018-11-09  |\n",
      "|ed sheeran ft stormzy         |take me back to london|5        |2019-08-30  |\n",
      "|lukas graham                  |7 years               |5        |2016-02-12  |\n",
      "|justin bieber                 |what do you mean      |5        |2015-09-04  |\n",
      "|major lazer/justin bieber/mo  |cold water            |5        |2016-07-29  |\n",
      "|camila cabello ft young thug  |havana                |5        |2017-11-03  |\n",
      "|mark ronson ft bruno mars     |uptown funk           |4        |2015-01-11  |\n",
      "+------------------------------+----------------------+---------+------------+\n",
      "only showing top 20 rows\n",
      "\n"
     ]
    }
   ],
   "source": [
    "result = spark.sql('''\n",
    "            SELECT DISTINCT artist, title, COUNT(*) as num_weeks, MIN(week_of)\n",
    "            FROM test\n",
    "            WHERE rank == 1\n",
    "            GROUP BY 1, 2\n",
    "            ORDER BY 3 DESC\n",
    "            ''')\n",
    "result.show(20, False)"
   ]
  },
  {
   "cell_type": "code",
   "execution_count": 21,
   "metadata": {},
   "outputs": [
    {
     "name": "stdout",
     "output_type": "stream",
     "text": [
      "+-------------------+---------+------------+\n",
      "|              title|num_weeks|min(week_of)|\n",
      "+-------------------+---------+------------+\n",
      "|       shape of you|       97|  2017-01-13|\n",
      "|  thinking out loud|       90|  2015-01-11|\n",
      "|            perfect|       81|  2017-12-08|\n",
      "|            shotgun|       74|  2018-06-29|\n",
      "|        uptown funk|       72|  2015-01-11|\n",
      "|  despacito (remix)|       71|  2017-05-12|\n",
      "|              sorry|       65|  2015-11-20|\n",
      "|          one dance|       64|  2016-04-15|\n",
      "|      love yourself|       62|  2015-12-04|\n",
      "|   what do you mean|       62|  2015-09-04|\n",
      "|          new rules|       61|  2017-08-18|\n",
      "|         these days|       59|  2015-01-11|\n",
      "|               king|       59|  2015-03-08|\n",
      "|            shallow|       57|  2018-10-26|\n",
      "|love me like you do|       57|  2015-02-08|\n",
      "|           one kiss|       52|  2018-04-20|\n",
      "|           stitches|       51|  2016-01-22|\n",
      "|       hold my hand|       51|  2015-03-29|\n",
      "|            7 years|       49|  2016-02-12|\n",
      "|              hello|       49|  2015-10-30|\n",
      "+-------------------+---------+------------+\n",
      "only showing top 20 rows\n",
      "\n"
     ]
    }
   ],
   "source": [
    "result = spark.sql('''\n",
    "            SELECT DISTINCT title, COUNT(*) as num_weeks, MIN(week_of)\n",
    "            FROM test\n",
    "            WHERE peak_rank == 1\n",
    "            GROUP BY 1\n",
    "            ORDER BY 2 DESC\n",
    "            ''')\n",
    "result.show()"
   ]
  },
  {
   "cell_type": "code",
   "execution_count": 22,
   "metadata": {},
   "outputs": [
    {
     "name": "stdout",
     "output_type": "stream",
     "text": [
      "+------------------+\n",
      "|    avg(num_weeks)|\n",
      "+------------------+\n",
      "|26.708661417322833|\n",
      "+------------------+\n",
      "\n"
     ]
    }
   ],
   "source": [
    "result = spark.sql('''\n",
    "            SELECT AVG(num_weeks)\n",
    "            FROM (SELECT DISTINCT title, COUNT(*) as num_weeks, MIN(week_of)\n",
    "                    FROM test\n",
    "                    WHERE peak_rank == 1\n",
    "                    GROUP BY 1\n",
    "                    ORDER BY 2 DESC)\n",
    "            ''')\n",
    "result.show()"
   ]
  },
  {
   "cell_type": "code",
   "execution_count": 23,
   "metadata": {},
   "outputs": [
    {
     "name": "stdout",
     "output_type": "stream",
     "text": [
      "+-----------------+-------------------+\n",
      "|        avg(rank)|max(weeks_on_chart)|\n",
      "+-----------------+-------------------+\n",
      "|42.51546391752577|                 97|\n",
      "+-----------------+-------------------+\n",
      "\n"
     ]
    }
   ],
   "source": [
    "result = spark.sql('''\n",
    "            SELECT AVG(rank), MAX(weeks_on_chart)\n",
    "            FROM test\n",
    "            WHERE title = \"shape of you\"\n",
    "            ''')\n",
    "result.show()"
   ]
  },
  {
   "cell_type": "code",
   "execution_count": 24,
   "metadata": {},
   "outputs": [
    {
     "name": "stdout",
     "output_type": "stream",
     "text": [
      "+--------------------+--------------------+--------+\n",
      "|              artist|               title|count(1)|\n",
      "+--------------------+--------------------+--------+\n",
      "|          ed sheeran|             perfect|     110|\n",
      "|             killers|       mr brightside|     105|\n",
      "|          ed sheeran|        shape of you|      97|\n",
      "|          ed sheeran|   thinking out loud|      90|\n",
      "|                 sia|          chandelier|      87|\n",
      "|         george ezra|             shotgun|      87|\n",
      "|major lazer ft mo...|             lean on|      79|\n",
      "|           james bay|           let it go|      77|\n",
      "|settle/greatest s...|          this is me|      75|\n",
      "|          ed sheeran|          photograph|      73|\n",
      "|       walk the moon|     shut up & dance|      72|\n",
      "|mark ronson ft br...|         uptown funk|      72|\n",
      "|luis fonsi/daddy ...|   despacito (remix)|      71|\n",
      "|   justin timberlake|can't stop the fe...|      71|\n",
      "|           james bay| hold back the river|      68|\n",
      "|       justin bieber|               sorry|      68|\n",
      "|        shawn mendes|            stitches|      67|\n",
      "|                 sia|       cheap thrills|      66|\n",
      "|            dua lipa|           new rules|      66|\n",
      "|              hozier|   take me to church|      66|\n",
      "+--------------------+--------------------+--------+\n",
      "only showing top 20 rows\n",
      "\n"
     ]
    }
   ],
   "source": [
    "result = spark.sql('''\n",
    "            SELECT artist, title, COUNT(*)\n",
    "            FROM test\n",
    "            GROUP BY artist, title\n",
    "            ORDER BY 3 DESC\n",
    "            ''')\n",
    "result.show()"
   ]
  },
  {
   "cell_type": "code",
   "execution_count": 25,
   "metadata": {},
   "outputs": [
    {
     "name": "stdout",
     "output_type": "stream",
     "text": [
      "+-------------+-------+--------+\n",
      "|       artist|  title|count(1)|\n",
      "+-------------+-------+--------+\n",
      "|one direction|perfect|      21|\n",
      "|   ed sheeran|perfect|     110|\n",
      "+-------------+-------+--------+\n",
      "\n"
     ]
    }
   ],
   "source": [
    "result = spark.sql('''\n",
    "            SELECT artist, title, count(*)\n",
    "            FROM test\n",
    "            WHERE title = \"perfect\"\n",
    "            GROUP BY artist, title\n",
    "            ''')\n",
    "result.show()"
   ]
  },
  {
   "cell_type": "code",
   "execution_count": 53,
   "metadata": {},
   "outputs": [
    {
     "name": "stdout",
     "output_type": "stream",
     "text": [
      "+--------------------+--------------------+--------------------+-----+--------+------------+\n",
      "|              artist|               title|               label|count|avg_rank|min(week_of)|\n",
      "+--------------------+--------------------+--------------------+-----+--------+------------+\n",
      "|          ed sheeran|             perfect|              asylum|  110|   48.09|  2017-03-10|\n",
      "|             killers|       mr brightside|             mercury|  105|   84.86|  2015-04-19|\n",
      "|          ed sheeran|        shape of you|              asylum|   97|   42.52|  2017-01-13|\n",
      "|          ed sheeran|   thinking out loud|              asylum|   90|   56.27|  2015-01-11|\n",
      "|         george ezra|             shotgun|            columbia|   87|   35.99|  2018-03-30|\n",
      "|                 sia|          chandelier|   monkey puzzle/rca|   87|   64.46|  2015-01-11|\n",
      "|major lazer ft mo...|             lean on|       because music|   79|   45.92|  2015-03-08|\n",
      "|           james bay|           let it go|              virgin|   77|   65.03|  2015-03-29|\n",
      "|settle/greatest s...|          this is me|            atlantic|   75|   40.84|  2018-01-05|\n",
      "|          ed sheeran|          photograph|              asylum|   73|    54.6|  2015-01-11|\n",
      "|mark ronson ft br...|         uptown funk|            columbia|   72|   43.81|  2015-01-11|\n",
      "|       walk the moon|     shut up & dance|                 rca|   72|   54.63|  2015-06-07|\n",
      "|luis fonsi/daddy ...|   despacito (remix)|def jam/rbmg/repu...|   71|   51.11|  2017-05-12|\n",
      "|   justin timberlake|can't stop the fe...|                 rca|   71|   46.94|  2016-05-13|\n",
      "|           james bay| hold back the river|              virgin|   68|   47.06|  2015-01-11|\n",
      "|       justin bieber|               sorry|             def jam|   68|   41.43|  2015-10-30|\n",
      "|        shawn mendes|            stitches|                 emi|   67|   47.63|  2015-09-25|\n",
      "|            dua lipa|           new rules|         warner bros|   66|   43.92|  2017-07-14|\n",
      "|                 sia|       cheap thrills|   monkey puzzle/rca|   66|   39.12|  2016-02-19|\n",
      "|              hozier|   take me to church|          ruby works|   66|   46.67|  2015-01-11|\n",
      "+--------------------+--------------------+--------------------+-----+--------+------------+\n",
      "only showing top 20 rows\n",
      "\n"
     ]
    }
   ],
   "source": [
    "result = spark.sql('''\n",
    "            SELECT artist, title, label, count(*) as count, ROUND(AVG(rank),2) AS avg_rank, MIN(week_of)\n",
    "            FROM test\n",
    "            GROUP BY artist, title, label\n",
    "            ORDER BY count DESC\n",
    "            ''')\n",
    "result.show()"
   ]
  },
  {
   "cell_type": "code",
   "execution_count": 27,
   "metadata": {},
   "outputs": [
    {
     "name": "stdout",
     "output_type": "stream",
     "text": [
      "+--------------------+--------+\n",
      "|               label|count(1)|\n",
      "+--------------------+--------+\n",
      "|            atlantic|    2055|\n",
      "|            columbia|    1613|\n",
      "|          interscope|    1493|\n",
      "|             polydor|    1220|\n",
      "|                 rca|    1099|\n",
      "|              virgin|     924|\n",
      "|              asylum|     911|\n",
      "|                 emi|     830|\n",
      "|          syco music|     821|\n",
      "|    republic records|     817|\n",
      "|          parlophone|     791|\n",
      "|         warner bros|     653|\n",
      "|              island|     650|\n",
      "|cash money/republ...|     650|\n",
      "|             capitol|     612|\n",
      "|             def jam|     519|\n",
      "|                epic|     471|\n",
      "|   ministry of sound|     466|\n",
      "|            positiva|     413|\n",
      "|          relentless|     360|\n",
      "+--------------------+--------+\n",
      "only showing top 20 rows\n",
      "\n"
     ]
    }
   ],
   "source": [
    "result = spark.sql('''\n",
    "            SELECT label, COUNT(*)\n",
    "            FROM test\n",
    "            GROUP BY 1\n",
    "            ORDER BY 2 DESC\n",
    "            ''')\n",
    "result.show()"
   ]
  },
  {
   "cell_type": "code",
   "execution_count": 28,
   "metadata": {},
   "outputs": [
    {
     "name": "stdout",
     "output_type": "stream",
     "text": [
      "+---------------------+\n",
      "|count(DISTINCT label)|\n",
      "+---------------------+\n",
      "|                  408|\n",
      "+---------------------+\n",
      "\n"
     ]
    }
   ],
   "source": [
    "result = spark.sql('''\n",
    "            SELECT COUNT(DISTINCT label)\n",
    "            FROM test\n",
    "            ''')\n",
    "result.show()"
   ]
  },
  {
   "cell_type": "code",
   "execution_count": 29,
   "metadata": {},
   "outputs": [
    {
     "name": "stdout",
     "output_type": "stream",
     "text": [
      "+--------------------+---------+--------+\n",
      "|               label|num_songs|avg_rank|\n",
      "+--------------------+---------+--------+\n",
      "|        castle music|        1|    13.0|\n",
      "|            emubands|        1|    15.0|\n",
      "|      asylum/def jam|        1|   17.14|\n",
      "|interscope/republ...|        1|   17.56|\n",
      "|cactus jack/epic/...|        1|    22.6|\n",
      "|     asylum/columbia|        1|    25.0|\n",
      "|      emi/syco music|        1|   25.46|\n",
      "|                  zy|        1|    26.5|\n",
      "|       columbia/kygo|        1|   26.72|\n",
      "|black butter/def jam|        2|   26.89|\n",
      "|       perfect havoc|        1|   27.86|\n",
      "|def jam/polydor/r...|        1|   27.88|\n",
      "|             liv'n'g|        1|    28.0|\n",
      "|polydor/rca/repub...|        1|   28.44|\n",
      "|  def jam/parlophone|        1|   29.06|\n",
      "|      merky/atlantic|        1|   29.25|\n",
      "|        fuller beans|        1|    30.0|\n",
      "|          dave clark|        1|    31.0|\n",
      "|   james grant music|        1|    31.0|\n",
      "|black butter/dave...|        1|    31.2|\n",
      "+--------------------+---------+--------+\n",
      "only showing top 20 rows\n",
      "\n"
     ]
    }
   ],
   "source": [
    "result = spark.sql('''\n",
    "            SELECT label, COUNT(DISTINCT title) AS num_songs, ROUND(AVG(rank),2) AS avg_rank\n",
    "            FROM test\n",
    "            GROUP BY 1\n",
    "            ORDER BY 3\n",
    "            ''')\n",
    "result.show()"
   ]
  },
  {
   "cell_type": "code",
   "execution_count": 111,
   "metadata": {},
   "outputs": [
    {
     "name": "stdout",
     "output_type": "stream",
     "text": [
      "+---------------------------+---------+--------+\n",
      "|label                      |num_songs|avg_rank|\n",
      "+---------------------------+---------+--------+\n",
      "|republic records           |59       |43.67   |\n",
      "|positiva                   |22       |44.21   |\n",
      "|merky                      |16       |45.04   |\n",
      "|ministry of sound          |34       |46.21   |\n",
      "|warner records             |16       |46.38   |\n",
      "|syco music                 |80       |46.77   |\n",
      "|atlantic                   |129      |47.02   |\n",
      "|disruptor                  |16       |47.25   |\n",
      "|republic records/xo        |33       |47.52   |\n",
      "|warner bros                |60       |47.58   |\n",
      "|emi                        |76       |47.93   |\n",
      "|asylum                     |43       |48.22   |\n",
      "|capitol                    |48       |48.49   |\n",
      "|columbia                   |134      |48.64   |\n",
      "|polydor                    |110      |50.31   |\n",
      "|cash money/republic records|78       |50.38   |\n",
      "|3 beat                     |19       |51.3    |\n",
      "|parlophone                 |79       |51.33   |\n",
      "|interscope                 |171      |51.51   |\n",
      "|black butter               |22       |51.74   |\n",
      "|xl recordings              |17       |52.31   |\n",
      "|epic                       |42       |53.03   |\n",
      "|rca                        |136      |53.36   |\n",
      "|def jam                    |69       |54.3    |\n",
      "|relentless                 |26       |54.46   |\n",
      "|virgin                     |117      |54.65   |\n",
      "|island                     |90       |54.77   |\n",
      "+---------------------------+---------+--------+\n",
      "\n"
     ]
    }
   ],
   "source": [
    "result = spark.sql('''\n",
    "            SELECT label, COUNT(DISTINCT title) AS num_songs, ROUND(AVG(rank),2) AS avg_rank\n",
    "            FROM test\n",
    "            GROUP BY 1\n",
    "            HAVING num_songs >15\n",
    "            ORDER BY 3\n",
    "            ''').show(50, False)\n"
   ]
  },
  {
   "cell_type": "code",
   "execution_count": 119,
   "metadata": {},
   "outputs": [
    {
     "name": "stdout",
     "output_type": "stream",
     "text": [
      "+-----------------+---------+--------+\n",
      "|label            |num_songs|avg_rank|\n",
      "+-----------------+---------+--------+\n",
      "|interscope       |171      |51.51   |\n",
      "|rca              |136      |53.36   |\n",
      "|columbia         |134      |48.64   |\n",
      "|atlantic         |129      |47.02   |\n",
      "|virgin           |117      |54.65   |\n",
      "|polydor          |110      |50.31   |\n",
      "|island           |90       |54.77   |\n",
      "|syco music       |80       |46.77   |\n",
      "|parlophone       |79       |51.33   |\n",
      "|emi              |76       |47.93   |\n",
      "|def jam          |69       |54.3    |\n",
      "|warner bros      |60       |47.58   |\n",
      "|republic records |59       |43.67   |\n",
      "|capitol          |48       |48.49   |\n",
      "|asylum           |43       |48.22   |\n",
      "|epic             |42       |53.03   |\n",
      "|ministry of sound|34       |46.21   |\n",
      "|relentless       |26       |54.46   |\n",
      "|black butter     |22       |51.74   |\n",
      "|positiva         |22       |44.21   |\n",
      "|3 beat           |19       |51.3    |\n",
      "|xl recordings    |17       |52.31   |\n",
      "|merky            |16       |45.04   |\n",
      "|warner records   |16       |46.38   |\n",
      "|disruptor        |16       |47.25   |\n",
      "+-----------------+---------+--------+\n",
      "\n"
     ]
    }
   ],
   "source": [
    "result = spark.sql('''\n",
    "            SELECT label, COUNT(DISTINCT title) AS num_songs, ROUND(AVG(rank),2) AS avg_rank\n",
    "            FROM test\n",
    "            WHERE label NOT IN (SELECT label\n",
    "                                FROM test\n",
    "                                WHERE label like \"%/%\"\n",
    "                                GROUP BY label)\n",
    "            GROUP BY 1\n",
    "            HAVING num_songs >15\n",
    "            ORDER BY 2 DESC\n",
    "            ''').show(50, False)\n"
   ]
  },
  {
   "cell_type": "code",
   "execution_count": null,
   "metadata": {},
   "outputs": [],
   "source": []
  },
  {
   "cell_type": "code",
   "execution_count": 118,
   "metadata": {},
   "outputs": [
    {
     "name": "stdout",
     "output_type": "stream",
     "text": [
      "+----------------------+---------------------+--------+\n",
      "|label                 |count(DISTINCT title)|avg_rank|\n",
      "+----------------------+---------------------+--------+\n",
      "|interscope            |171                  |51.51   |\n",
      "|rca                   |136                  |53.36   |\n",
      "|columbia              |134                  |48.64   |\n",
      "|atlantic              |129                  |47.02   |\n",
      "|virgin                |117                  |54.65   |\n",
      "|polydor               |110                  |50.31   |\n",
      "|island                |90                   |54.77   |\n",
      "|syco music            |80                   |46.77   |\n",
      "|parlophone            |79                   |51.33   |\n",
      "|emi                   |76                   |47.93   |\n",
      "|def jam               |69                   |54.3    |\n",
      "|warner bros           |60                   |47.58   |\n",
      "|republic records      |59                   |43.67   |\n",
      "|capitol               |48                   |48.49   |\n",
      "|asylum                |43                   |48.22   |\n",
      "|epic                  |42                   |53.03   |\n",
      "|ministry of sound     |34                   |46.21   |\n",
      "|relentless            |26                   |54.46   |\n",
      "|black butter          |22                   |51.74   |\n",
      "|positiva              |22                   |44.21   |\n",
      "|3 beat                |19                   |51.3    |\n",
      "|xl recordings         |17                   |52.31   |\n",
      "|merky                 |16                   |45.04   |\n",
      "|disruptor             |16                   |47.25   |\n",
      "|warner records        |16                   |46.38   |\n",
      "|boy better know       |15                   |66.03   |\n",
      "|walt disney           |13                   |75.82   |\n",
      "|right hand music      |12                   |53.45   |\n",
      "|roc nation            |12                   |49.95   |\n",
      "|aj tracey             |12                   |47.84   |\n",
      "|bmg                   |11                   |55.77   |\n",
      "|since 93              |10                   |41.25   |\n",
      "|sony music            |10                   |61.16   |\n",
      "|tenthousand projects  |9                    |52.55   |\n",
      "|decca                 |9                    |65.41   |\n",
      "|d-block europe        |9                    |58.51   |\n",
      "|bad vibes forever     |9                    |65.88   |\n",
      "|bighit entertainment  |8                    |73.35   |\n",
      "|300 entertainment     |8                    |54.72   |\n",
      "|because music         |8                    |41.9    |\n",
      "|young turks recordings|8                    |73.0    |\n",
      "|hollywood             |8                    |49.94   |\n",
      "|famm                  |7                    |47.98   |\n",
      "|mercury               |6                    |71.76   |\n",
      "|speakerbox recordings |6                    |44.55   |\n",
      "|east west             |6                    |50.96   |\n",
      "|sour mash             |6                    |73.05   |\n",
      "|reprise               |5                    |51.78   |\n",
      "|the plug              |5                    |63.18   |\n",
      "|fueled by ramen       |5                    |52.17   |\n",
      "+----------------------+---------------------+--------+\n",
      "only showing top 50 rows\n",
      "\n"
     ]
    }
   ],
   "source": [
    "result = spark.sql('''\n",
    "            SELECT label, COUNT(DISTINCT title), ROUND(AVG(rank),2) AS avg_rank\n",
    "            FROM test\n",
    "            WHERE label NOT IN (SELECT label\n",
    "                                FROM test\n",
    "                                WHERE label like \"%/%\"\n",
    "                                GROUP BY label)\n",
    "            GROUP BY 1\n",
    "            ORDER BY 2 DESC\n",
    "            ''').show(50, False)\n"
   ]
  },
  {
   "cell_type": "code",
   "execution_count": 31,
   "metadata": {},
   "outputs": [
    {
     "name": "stdout",
     "output_type": "stream",
     "text": [
      "+------------+------------+\n",
      "|max(week_of)|min(week_of)|\n",
      "+------------+------------+\n",
      "|  2019-12-27|  2015-01-11|\n",
      "+------------+------------+\n",
      "\n"
     ]
    }
   ],
   "source": [
    "result = spark.sql('''\n",
    "            SELECT MAX(week_of), MIN(week_of)\n",
    "            FROM test\n",
    "            ''').show()\n"
   ]
  },
  {
   "cell_type": "code",
   "execution_count": 32,
   "metadata": {},
   "outputs": [
    {
     "name": "stdout",
     "output_type": "stream",
     "text": [
      "+--------------+--------+--------+\n",
      "|        artist|count(1)|avg_rank|\n",
      "+--------------+--------+--------+\n",
      "|    ed sheeran|     706|   49.83|\n",
      "|         drake|     352|    49.4|\n",
      "| justin bieber|     280|   47.48|\n",
      "| ariana grande|     269|   39.33|\n",
      "|   george ezra|     263|   48.57|\n",
      "|    little mix|     244|   45.81|\n",
      "|           sia|     244|   55.59|\n",
      "|        weeknd|     228|   46.48|\n",
      "|     sam smith|     216|   48.84|\n",
      "|  shawn mendes|     213|   42.92|\n",
      "|   jess glynne|     207|   44.33|\n",
      "| years & years|     197|   50.62|\n",
      "|  taylor swift|     189|   54.21|\n",
      "|      dua lipa|     172|   41.03|\n",
      "|     james bay|     169|   58.82|\n",
      "| lewis capaldi|     158|   29.18|\n",
      "|      coldplay|     157|   53.01|\n",
      "|  zara larsson|     142|   43.61|\n",
      "|       stormzy|     142|    49.3|\n",
      "|ellie goulding|     142|   45.52|\n",
      "+--------------+--------+--------+\n",
      "only showing top 20 rows\n",
      "\n"
     ]
    }
   ],
   "source": [
    "result = spark.sql('''\n",
    "            SELECT DISTINCT artist, COUNT(*), ROUND(AVG(rank),2) AS avg_rank\n",
    "            FROM test\n",
    "            GROUP BY 1\n",
    "            ORDER BY 2 DESC''').show()"
   ]
  },
  {
   "cell_type": "code",
   "execution_count": 50,
   "metadata": {},
   "outputs": [
    {
     "name": "stdout",
     "output_type": "stream",
     "text": [
      "+------------------------------+--------+----+------------+\n",
      "|title                         |count(1)|peak|min(week_of)|\n",
      "+------------------------------+--------+----+------------+\n",
      "|perfect                       |110     |1   |2017-03-10  |\n",
      "|shape of you                  |97      |1   |2017-01-13  |\n",
      "|thinking out loud             |90      |3   |2015-01-11  |\n",
      "|photograph                    |73      |15  |2015-01-11  |\n",
      "|castle on the hill            |53      |2   |2017-01-13  |\n",
      "|bloodstream                   |38      |2   |2015-03-01  |\n",
      "|galway girl                   |31      |2   |2017-03-10  |\n",
      "|sing                          |23      |29  |2015-01-11  |\n",
      "|supermarket flowers           |21      |8   |2017-03-10  |\n",
      "|don't                         |20      |20  |2015-01-11  |\n",
      "|happier                       |18      |6   |2017-03-10  |\n",
      "|what do i know                |17      |9   |2017-03-10  |\n",
      "|i see fire                    |15      |54  |2015-01-11  |\n",
      "|new man                       |14      |5   |2017-03-10  |\n",
      "|dive                          |13      |8   |2017-03-10  |\n",
      "|barcelona                     |13      |12  |2017-03-10  |\n",
      "|how would you feel (paean)    |12      |2   |2017-02-24  |\n",
      "|nancy mulligan                |10      |13  |2017-03-10  |\n",
      "|bibia be ye ye                |8       |18  |2017-03-10  |\n",
      "|eraser                        |8       |14  |2017-03-10  |\n",
      "|hearts don't break around here|8       |15  |2017-03-10  |\n",
      "|save myself                   |6       |19  |2017-03-10  |\n",
      "|the a team                    |5       |52  |2017-01-13  |\n",
      "|give me love                  |1       |94  |2017-01-13  |\n",
      "|i will take you home          |1       |69  |2015-04-05  |\n",
      "|one                           |1       |94  |2015-01-25  |\n",
      "+------------------------------+--------+----+------------+\n",
      "\n"
     ]
    }
   ],
   "source": [
    "result = spark.sql('''\n",
    "            SELECT title, COUNT(*), MIN(rank) as peak, MIN(week_of)\n",
    "            FROM test\n",
    "            WHERE artist = \"ed sheeran\"\n",
    "            GROUP BY 1\n",
    "            ORDER BY 2 DESC\n",
    "            ''').show(30, False)"
   ]
  },
  {
   "cell_type": "code",
   "execution_count": 52,
   "metadata": {},
   "outputs": [
    {
     "name": "stdout",
     "output_type": "stream",
     "text": [
      "+--------------------------+--------+----+------------+\n",
      "|title                     |count(1)|peak|min(week_of)|\n",
      "+--------------------------+--------+----+------------+\n",
      "|perfect                   |110     |1   |2017-03-10  |\n",
      "|shape of you              |97      |1   |2017-01-13  |\n",
      "|thinking out loud         |90      |3   |2015-01-11  |\n",
      "|castle on the hill        |53      |2   |2017-01-13  |\n",
      "|bloodstream               |38      |2   |2015-03-01  |\n",
      "|galway girl               |31      |2   |2017-03-10  |\n",
      "|new man                   |14      |5   |2017-03-10  |\n",
      "|how would you feel (paean)|12      |2   |2017-02-24  |\n",
      "+--------------------------+--------+----+------------+\n",
      "\n"
     ]
    }
   ],
   "source": [
    "result = spark.sql('''\n",
    "            SELECT title, COUNT(*), MIN(rank) as peak, MIN(week_of)\n",
    "            FROM test\n",
    "            WHERE artist = \"ed sheeran\"\n",
    "            GROUP BY 1\n",
    "            HAVING peak < 6\n",
    "            ORDER BY 2 DESC\n",
    "            ''').show(20, False)"
   ]
  },
  {
   "cell_type": "code",
   "execution_count": 35,
   "metadata": {},
   "outputs": [
    {
     "name": "stdout",
     "output_type": "stream",
     "text": [
      "+---------------------+\n",
      "|count(DISTINCT title)|\n",
      "+---------------------+\n",
      "|                   26|\n",
      "+---------------------+\n",
      "\n"
     ]
    }
   ],
   "source": [
    "result = spark.sql('''\n",
    "            SELECT COUNT(DISTINCT title)\n",
    "            FROM test\n",
    "            WHERE artist = \"ed sheeran\"\n",
    "            \n",
    "            ''').show()"
   ]
  },
  {
   "cell_type": "code",
   "execution_count": 66,
   "metadata": {},
   "outputs": [
    {
     "name": "stdout",
     "output_type": "stream",
     "text": [
      "root\n",
      " |-- rank: integer (nullable = true)\n",
      " |-- last_week_rank: string (nullable = true)\n",
      " |-- title: string (nullable = true)\n",
      " |-- artist: string (nullable = true)\n",
      " |-- label: string (nullable = true)\n",
      " |-- peak_rank: integer (nullable = true)\n",
      " |-- weeks_on_chart: integer (nullable = true)\n",
      " |-- week_of: date (nullable = true)\n",
      "\n"
     ]
    }
   ],
   "source": [
    "df.printSchema()"
   ]
  },
  {
   "cell_type": "code",
   "execution_count": 70,
   "metadata": {},
   "outputs": [
    {
     "name": "stdout",
     "output_type": "stream",
     "text": [
      "+---------------+\n",
      "| last_week_rank|\n",
      "+---------------+\n",
      "|             re|\n",
      "|            new|\n",
      "|             99|\n",
      "|             98|\n",
      "|             97|\n",
      "|             96|\n",
      "|             95|\n",
      "|             94|\n",
      "|             93|\n",
      "|             92|\n",
      "|             91|\n",
      "|             90|\n",
      "|              9|\n",
      "|             89|\n",
      "|             88|\n",
      "|             87|\n",
      "|             86|\n",
      "|             85|\n",
      "|             84|\n",
      "|             83|\n",
      "+---------------+\n",
      "only showing top 20 rows\n",
      "\n"
     ]
    }
   ],
   "source": [
    "result = spark.sql('''\n",
    "            SELECT DISTINCT last_week_rank\n",
    "            FROM test\n",
    "            ORDER BY 1 DESC''').show()"
   ]
  },
  {
   "cell_type": "code",
   "execution_count": 85,
   "metadata": {},
   "outputs": [
    {
     "name": "stdout",
     "output_type": "stream",
     "text": [
      "+----+--------------------+--------------------+\n",
      "|rank|               title|              artist|\n",
      "+----+--------------------+--------------------+\n",
      "|  70|    man with the bag|            jessie j|\n",
      "|  73|all i want (for c...|          liam payne|\n",
      "|  86|thank god it's ch...|               queen|\n",
      "|  94|a spaceman came t...|      chris de burgh|\n",
      "|   1|i love sausage rolls|             ladbaby|\n",
      "|   6|            audacity|stormzy ft headie...|\n",
      "|   9|             lessons|             stormzy|\n",
      "|  39|             falling|        harry styles|\n",
      "|  48|   running the world|       jarvis cocker|\n",
      "|  57| futsal shuffle 2020|        lil uzi vert|\n",
      "|  77|            the gift|             sidemen|\n",
      "|  83| like it's christmas|      jonas brothers|\n",
      "|  94|             darling|      d-block europe|\n",
      "|  98|             legends|          juice wrld|\n",
      "|  99|             the box|         roddy ricch|\n",
      "|  11|           adore you|        harry styles|\n",
      "|  41|happy christmas (...|         john legend|\n",
      "|  60|       million bucks|                jay1|\n",
      "|  66|            december|        bugzy malone|\n",
      "|  69|            my oh my|camila cabello ft...|\n",
      "+----+--------------------+--------------------+\n",
      "only showing top 20 rows\n",
      "\n"
     ]
    }
   ],
   "source": [
    "result = spark.sql('''\n",
    "            SELECT rank, title, artist, COUNT(*)\n",
    "            FROM test\n",
    "            GROUP BY \n",
    "            ''').show()"
   ]
  },
  {
   "cell_type": "code",
   "execution_count": 95,
   "metadata": {},
   "outputs": [
    {
     "name": "stdout",
     "output_type": "stream",
     "text": [
      "+--------+\n",
      "|count(1)|\n",
      "+--------+\n",
      "|    2340|\n",
      "+--------+\n",
      "\n"
     ]
    }
   ],
   "source": [
    "result = spark.sql('''\n",
    "            SELECT COUNT(*)\n",
    "            FROM test\n",
    "            WHERE weeks_on_chart = 1\n",
    "            ''').show()"
   ]
  },
  {
   "cell_type": "code",
   "execution_count": 96,
   "metadata": {},
   "outputs": [
    {
     "name": "stdout",
     "output_type": "stream",
     "text": [
      "+--------+\n",
      "|count(1)|\n",
      "+--------+\n",
      "|    2340|\n",
      "+--------+\n",
      "\n"
     ]
    }
   ],
   "source": [
    "result = spark.sql('''\n",
    "            SELECT COUNT(*)\n",
    "            FROM test\n",
    "            WHERE last_week_rank LIKE \"%new%\"\n",
    "            ''').show()"
   ]
  },
  {
   "cell_type": "code",
   "execution_count": null,
   "metadata": {},
   "outputs": [],
   "source": []
  }
 ],
 "metadata": {
  "kernelspec": {
   "display_name": "Python 3",
   "language": "python",
   "name": "python3"
  },
  "language_info": {
   "codemirror_mode": {
    "name": "ipython",
    "version": 3
   },
   "file_extension": ".py",
   "mimetype": "text/x-python",
   "name": "python",
   "nbconvert_exporter": "python",
   "pygments_lexer": "ipython3",
   "version": "3.7.3"
  }
 },
 "nbformat": 4,
 "nbformat_minor": 4
}
