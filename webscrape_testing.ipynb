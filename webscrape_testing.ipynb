{
 "cells": [
  {
   "cell_type": "code",
   "execution_count": 1,
   "metadata": {},
   "outputs": [],
   "source": [
    "import pyspark as ps\n",
    "import pyspark.sql.functions as f\n",
    "from pyspark import SQLContext\n",
    "from pyspark.sql.types import IntegerType, DateType, TimestampType\n",
    "from datetime import datetime\n",
    "\n",
    "spark = (ps.sql.SparkSession.builder \n",
    "        .master(\"local[4]\") \n",
    "        .appName(\"sparkSQL exercise\") \n",
    "        .getOrCreate()\n",
    "        )\n",
    "sc = spark.sparkContext"
   ]
  },
  {
   "cell_type": "code",
   "execution_count": 2,
   "metadata": {},
   "outputs": [
    {
     "data": {
      "text/html": [
       "\n",
       "        <div>\n",
       "            <p><b>SparkContext</b></p>\n",
       "\n",
       "            <p><a href=\"http://7e5b74eb1d72:4040\">Spark UI</a></p>\n",
       "\n",
       "            <dl>\n",
       "              <dt>Version</dt>\n",
       "                <dd><code>v2.4.4</code></dd>\n",
       "              <dt>Master</dt>\n",
       "                <dd><code>local[4]</code></dd>\n",
       "              <dt>AppName</dt>\n",
       "                <dd><code>sparkSQL exercise</code></dd>\n",
       "            </dl>\n",
       "        </div>\n",
       "        "
      ],
      "text/plain": [
       "<SparkContext master=local[4] appName=sparkSQL exercise>"
      ]
     },
     "execution_count": 2,
     "metadata": {},
     "output_type": "execute_result"
    }
   ],
   "source": [
    "sc"
   ]
  },
  {
   "cell_type": "code",
   "execution_count": 3,
   "metadata": {},
   "outputs": [],
   "source": [
    "sqlContext = SQLContext(sc)"
   ]
  },
  {
   "cell_type": "code",
   "execution_count": 4,
   "metadata": {},
   "outputs": [],
   "source": [
    "df = sqlContext.read.csv(\"uk100.csv\", header=True)"
   ]
  },
  {
   "cell_type": "code",
   "execution_count": 5,
   "metadata": {},
   "outputs": [
    {
     "name": "stdout",
     "output_type": "stream",
     "text": [
      "root\n",
      " |-- _c0: string (nullable = true)\n",
      " |-- rank: string (nullable = true)\n",
      " |-- last_week_rank: string (nullable = true)\n",
      " |-- hmm: string (nullable = true)\n",
      " |-- title: string (nullable = true)\n",
      " |-- artist: string (nullable = true)\n",
      " |-- label: string (nullable = true)\n",
      " |-- peak_rank: string (nullable = true)\n",
      " |-- weeks_on_chart: string (nullable = true)\n",
      " |-- week_of: string (nullable = true)\n",
      "\n"
     ]
    }
   ],
   "source": [
    "df.printSchema()"
   ]
  },
  {
   "cell_type": "code",
   "execution_count": 6,
   "metadata": {},
   "outputs": [],
   "source": [
    "df.createOrReplaceTempView('test')"
   ]
  },
  {
   "cell_type": "code",
   "execution_count": 7,
   "metadata": {},
   "outputs": [
    {
     "name": "stdout",
     "output_type": "stream",
     "text": [
      "+---+----+--------------+--------+--------------------+--------------------+--------------------+---------+--------------+----------------+\n",
      "|_c0|rank|last_week_rank|     hmm|               title|              artist|               label|peak_rank|weeks_on_chart|         week_of|\n",
      "+---+----+--------------+--------+--------------------+--------------------+--------------------+---------+--------------+----------------+\n",
      "|  0|   1|            11|        |               RIVER|      ELLIE GOULDING|             POLYDOR|        1|             5|December 27 2019|\n",
      "|  1|   2|             8|        |ALL I WANT FOR CH...|        MARIAH CAREY|            COLUMBIA|        2|            99|December 27 2019|\n",
      "|  2|   3|             5|        |      LAST CHRISTMAS|                WHAM|                 RCA|        2|            64|December 27 2019|\n",
      "|  3|   4|            14|        |FAIRYTALE OF NEW ...|POGUES FT KIRSTY ...|         WARNER BROS|        2|            99|December 27 2019|\n",
      "|  4|   5|             2|        |              OWN IT|STORMZY/ED SHEERA...|      ATLANTIC/MERKY|        2|             5|December 27 2019|\n",
      "|  5|   6|            16|        |MERRY CHRISTMAS E...|     SHAKIN' STEVENS|                 RCA|        1|            71|December 27 2019|\n",
      "|  6|   7|            17|        |DO THEY KNOW IT'S...|            BAND AID|             MERCURY|        1|            80|December 27 2019|\n",
      "|  7|   8|            19|        | STEP INTO CHRISTMAS|          ELTON JOHN|             MERCURY|        8|            38|December 27 2019|\n",
      "|  8|   9|            34|        |HAPPY CHRISTMAS (...|         JOHN LEGEND|            COLUMBIA|        9|             3|December 27 2019|\n",
      "|  9|  10|            29|        |I WISH IT COULD B...|             WIZZARD|                 EMI|       10|            57|December 27 2019|\n",
      "| 10|  11|            24|        |IT'S BEGINNING TO...|       MICHAEL BUBLE|             REPRISE|        7|            33|December 27 2019|\n",
      "| 11|  12|             3|        |       BEFORE YOU GO|       LEWIS CAPALDI|                 EMI|        2|             6|December 27 2019|\n",
      "| 12|  13|            28|        |       SANTA TELL ME|       ARIANA GRANDE|    REPUBLIC RECORDS|       13|            18|December 27 2019|\n",
      "| 13|  14|             4|        |     DON'T START NOW|            DUA LIPA|      WARNER RECORDS|        2|             8|December 27 2019|\n",
      "| 14|  15|            25|        |      ONE MORE SLEEP|         LEONA LEWIS|          SYCO MUSIC|        3|            23|December 27 2019|\n",
      "| 15|  16|             7|        |             ROXANNE|      ARIZONA ZERVAS|          SONY MUSIC|        5|             8|December 27 2019|\n",
      "| 16|  17|            36|        |SANTA'S COMING FO...|                 SIA|ATLANTIC/MONKEY P...|       17|            12|December 27 2019|\n",
      "| 17|  18|            32|        |ROCKIN' AROUND TH...|          BRENDA LEE|                 MCA|        6|            47|December 27 2019|\n",
      "| 18|  19|            31|        |MERRY XMAS EVERYBODY|               SLADE|                UMTV|        1|            98|December 27 2019|\n",
      "| 19|  20|            10|        |        DANCE MONKEY|           TONES & I|          PARLOPHONE|        1|            21|December 27 2019|\n",
      "+---+----+--------------+--------+--------------------+--------------------+--------------------+---------+--------------+----------------+\n",
      "only showing top 20 rows\n",
      "\n"
     ]
    }
   ],
   "source": [
    "result = spark.sql('''SELECT *\n",
    "            FROM test\n",
    "            LIMIT 30\n",
    "            ''')\n",
    "result.show()"
   ]
  },
  {
   "cell_type": "code",
   "execution_count": 8,
   "metadata": {},
   "outputs": [],
   "source": [
    "df = df.drop('_c0')\n",
    "df = df.drop('hmm')"
   ]
  },
  {
   "cell_type": "code",
   "execution_count": 9,
   "metadata": {},
   "outputs": [],
   "source": [
    "for col in df.columns:\n",
    "    df = df.withColumn(col, f.lower(f.col(col)))"
   ]
  },
  {
   "cell_type": "code",
   "execution_count": 10,
   "metadata": {},
   "outputs": [],
   "source": [
    "df = df.withColumn(\"rank\", df[\"rank\"].cast(IntegerType()))\n",
    "df = df.withColumn(\"peak_rank\", df[\"peak_rank\"].cast(IntegerType()))\n",
    "df = df.withColumn(\"weeks_on_chart\", df[\"weeks_on_chart\"].cast(IntegerType()))\n",
    "#df = df.withColumn(\"week_of\", df[\"week_of\"].cast(DateType()))"
   ]
  },
  {
   "cell_type": "code",
   "execution_count": 11,
   "metadata": {},
   "outputs": [],
   "source": [
    "def to_date(x):\n",
    "    return datetime.strptime(x, '%B %d %Y')\n",
    "hmm = f.udf(lambda y: to_date(y), DateType())\n"
   ]
  },
  {
   "cell_type": "code",
   "execution_count": 12,
   "metadata": {},
   "outputs": [],
   "source": [
    "df = df.withColumn(\"week_of\", hmm('week_of'))"
   ]
  },
  {
   "cell_type": "code",
   "execution_count": 13,
   "metadata": {},
   "outputs": [
    {
     "name": "stdout",
     "output_type": "stream",
     "text": [
      "root\n",
      " |-- rank: integer (nullable = true)\n",
      " |-- last_week_rank: string (nullable = true)\n",
      " |-- title: string (nullable = true)\n",
      " |-- artist: string (nullable = true)\n",
      " |-- label: string (nullable = true)\n",
      " |-- peak_rank: integer (nullable = true)\n",
      " |-- weeks_on_chart: integer (nullable = true)\n",
      " |-- week_of: date (nullable = true)\n",
      "\n"
     ]
    }
   ],
   "source": [
    "df.printSchema()"
   ]
  },
  {
   "cell_type": "code",
   "execution_count": 14,
   "metadata": {},
   "outputs": [],
   "source": [
    "df.createOrReplaceTempView('test')"
   ]
  },
  {
   "cell_type": "code",
   "execution_count": 15,
   "metadata": {},
   "outputs": [
    {
     "name": "stdout",
     "output_type": "stream",
     "text": [
      "+--------+\n",
      "|count(1)|\n",
      "+--------+\n",
      "|   26000|\n",
      "+--------+\n",
      "\n"
     ]
    }
   ],
   "source": [
    "result = spark.sql('''SELECT COUNT(*)\n",
    "            FROM test\n",
    "            ''')\n",
    "result.show()"
   ]
  },
  {
   "cell_type": "code",
   "execution_count": 16,
   "metadata": {},
   "outputs": [
    {
     "name": "stdout",
     "output_type": "stream",
     "text": [
      "+----+--------------+--------------------+--------------------+--------------------+---------+--------------+----------+\n",
      "|rank|last_week_rank|               title|              artist|               label|peak_rank|weeks_on_chart|   week_of|\n",
      "+----+--------------+--------------------+--------------------+--------------------+---------+--------------+----------+\n",
      "|   1|            11|               river|      ellie goulding|             polydor|        1|             5|2019-12-27|\n",
      "|   2|             8|all i want for ch...|        mariah carey|            columbia|        2|            99|2019-12-27|\n",
      "|   3|             5|      last christmas|                wham|                 rca|        2|            64|2019-12-27|\n",
      "|   4|            14|fairytale of new ...|pogues ft kirsty ...|         warner bros|        2|            99|2019-12-27|\n",
      "|   5|             2|              own it|stormzy/ed sheera...|      atlantic/merky|        2|             5|2019-12-27|\n",
      "|   6|            16|merry christmas e...|     shakin' stevens|                 rca|        1|            71|2019-12-27|\n",
      "|   7|            17|do they know it's...|            band aid|             mercury|        1|            80|2019-12-27|\n",
      "|   8|            19| step into christmas|          elton john|             mercury|        8|            38|2019-12-27|\n",
      "|   9|            34|happy christmas (...|         john legend|            columbia|        9|             3|2019-12-27|\n",
      "|  10|            29|i wish it could b...|             wizzard|                 emi|       10|            57|2019-12-27|\n",
      "|  11|            24|it's beginning to...|       michael buble|             reprise|        7|            33|2019-12-27|\n",
      "|  12|             3|       before you go|       lewis capaldi|                 emi|        2|             6|2019-12-27|\n",
      "|  13|            28|       santa tell me|       ariana grande|    republic records|       13|            18|2019-12-27|\n",
      "|  14|             4|     don't start now|            dua lipa|      warner records|        2|             8|2019-12-27|\n",
      "|  15|            25|      one more sleep|         leona lewis|          syco music|        3|            23|2019-12-27|\n",
      "|  16|             7|             roxanne|      arizona zervas|          sony music|        5|             8|2019-12-27|\n",
      "|  17|            36|santa's coming fo...|                 sia|atlantic/monkey p...|       17|            12|2019-12-27|\n",
      "|  18|            32|rockin' around th...|          brenda lee|                 mca|        6|            47|2019-12-27|\n",
      "|  19|            31|merry xmas everybody|               slade|                umtv|        1|            98|2019-12-27|\n",
      "|  20|            10|        dance monkey|           tones & i|          parlophone|        1|            21|2019-12-27|\n",
      "+----+--------------+--------------------+--------------------+--------------------+---------+--------------+----------+\n",
      "only showing top 20 rows\n",
      "\n"
     ]
    }
   ],
   "source": [
    "result = spark.sql('''SELECT *\n",
    "            FROM test\n",
    "            LIMIT 30\n",
    "            ''')\n",
    "result.show()"
   ]
  },
  {
   "cell_type": "code",
   "execution_count": 17,
   "metadata": {},
   "outputs": [
    {
     "name": "stdout",
     "output_type": "stream",
     "text": [
      "+----------------------------------------+-----------------------------------+\n",
      "|title                                   |round(avg(CAST(rank AS BIGINT)), 2)|\n",
      "+----------------------------------------+-----------------------------------+\n",
      "|last christmas                          |25.3                               |\n",
      "|all i want for christmas is you         |26.82                              |\n",
      "|happy christmas (war is over)           |28.0                               |\n",
      "|merry christmas everyone                |34.46                              |\n",
      "|do they know it's christmas             |35.7                               |\n",
      "|i wish it could be christmas everyday   |36.0                               |\n",
      "|rockin' around the christmas tree       |37.05                              |\n",
      "|step into christmas                     |38.84                              |\n",
      "|driving home for christmas              |39.37                              |\n",
      "|santa tell me                           |41.0                               |\n",
      "|merry xmas everybody                    |45.5                               |\n",
      "|happy xmas (war is over)                |51.06                              |\n",
      "|cozy little christmas                   |51.43                              |\n",
      "|santa's coming for us                   |51.58                              |\n",
      "|when christmas comes around             |51.83                              |\n",
      "|wonderful christmastime                 |56.17                              |\n",
      "|christmas (baby please come home)       |61.5                               |\n",
      "|christmas lights                        |63.63                              |\n",
      "|holly jolly christmas                   |63.85                              |\n",
      "|white christmas                         |64.28                              |\n",
      "|like it's christmas                     |68.0                               |\n",
      "|i believe in father christmas           |69.0                               |\n",
      "|the christmas song                      |69.4                               |\n",
      "|blue christmas                          |70.25                              |\n",
      "|santa claus is comin' to town           |71.67                              |\n",
      "|santa baby                              |71.82                              |\n",
      "|all i want (for christmas)              |73.0                               |\n",
      "|santa claus is coming to town           |75.67                              |\n",
      "|lonely this christmas                   |77.5                               |\n",
      "|christmas wrapping                      |78.6                               |\n",
      "|christmas time (don't let the bells end)|79.9                               |\n",
      "|christmas tree farm                     |85.0                               |\n",
      "|thank god it's christmas                |86.0                               |\n",
      "|have yourself a merry little christmas  |86.4                               |\n",
      "|you make it feel like christmas         |88.2                               |\n",
      "|run rudolph run                         |88.5                               |\n",
      "+----------------------------------------+-----------------------------------+\n",
      "\n"
     ]
    }
   ],
   "source": [
    "result = spark.sql('''\n",
    "            SELECT DISTINCT title, ROUND(AVG(rank), 2)\n",
    "            FROM test\n",
    "            WHERE title like \"%christmas%\"\n",
    "                OR title like \"%merry%\"\n",
    "                OR title like \"%xmas%\"\n",
    "                OR title like \"%santa%\"\n",
    "                OR title like \"%rudolph%\"\n",
    "                OR title like \"%reindeer%\"\n",
    "            GROUP BY 1\n",
    "            ORDER BY 2\n",
    "            ''')\n",
    "result.show(50, False)"
   ]
  },
  {
   "cell_type": "code",
   "execution_count": 18,
   "metadata": {},
   "outputs": [
    {
     "name": "stdout",
     "output_type": "stream",
     "text": [
      "+---------------------+\n",
      "|count(DISTINCT title)|\n",
      "+---------------------+\n",
      "|                   77|\n",
      "+---------------------+\n",
      "\n"
     ]
    }
   ],
   "source": [
    "result = spark.sql('''\n",
    "            SELECT COUNT(DISTINCT title)\n",
    "            FROM test\n",
    "            WHERE rank == 1''')\n",
    "result.show()"
   ]
  },
  {
   "cell_type": "code",
   "execution_count": 19,
   "metadata": {},
   "outputs": [
    {
     "name": "stdout",
     "output_type": "stream",
     "text": [
      "+--------------------+---------+------------+\n",
      "|               title|max_weeks|min(week_of)|\n",
      "+--------------------+---------+------------+\n",
      "|   thinking out loud|      118|  2015-01-11|\n",
      "|             perfect|      110|  2017-12-08|\n",
      "|merry xmas everybody|       98|  2015-12-11|\n",
      "|        shape of you|       97|  2017-01-13|\n",
      "|               happy|       92|  2015-01-11|\n",
      "|           rather be|       90|  2015-01-11|\n",
      "|             shotgun|       87|  2018-06-29|\n",
      "|            titanium|       87|  2015-08-14|\n",
      "|do they know it's...|       80|  2015-12-11|\n",
      "|    someone like you|       78|  2015-10-30|\n",
      "|      counting stars|       77|  2015-01-11|\n",
      "|         uptown funk|       76|  2015-01-11|\n",
      "|   despacito (remix)|       74|  2017-05-12|\n",
      "|        stay with me|       74|  2015-01-11|\n",
      "|          wake me up|       72|  2015-01-25|\n",
      "|merry christmas e...|       71|  2015-12-04|\n",
      "|               waves|       70|  2015-01-11|\n",
      "|               sorry|       68|  2015-11-20|\n",
      "|        viva la vida|       68|  2017-06-09|\n",
      "|            stitches|       67|  2016-01-22|\n",
      "+--------------------+---------+------------+\n",
      "only showing top 20 rows\n",
      "\n"
     ]
    }
   ],
   "source": [
    "result = spark.sql('''\n",
    "            SELECT DISTINCT title, MAX(weeks_on_chart) as max_weeks, MIN(week_of)\n",
    "            FROM test\n",
    "            WHERE peak_rank == 1\n",
    "            GROUP BY 1\n",
    "            ORDER BY 2 DESC\n",
    "            ''')\n",
    "result.show()"
   ]
  },
  {
   "cell_type": "code",
   "execution_count": 20,
   "metadata": {},
   "outputs": [
    {
     "name": "stdout",
     "output_type": "stream",
     "text": [
      "+-----------------+\n",
      "|   avg(max_weeks)|\n",
      "+-----------------+\n",
      "|41.92125984251968|\n",
      "+-----------------+\n",
      "\n"
     ]
    }
   ],
   "source": [
    "result = spark.sql('''\n",
    "            SELECT AVG(max_weeks)\n",
    "            FROM (SELECT DISTINCT title, MAX(weeks_on_chart) as max_weeks, MIN(week_of)\n",
    "                    FROM test\n",
    "                    WHERE peak_rank == 1\n",
    "                    GROUP BY 1\n",
    "                    ORDER BY 2 DESC)\n",
    "            ''')\n",
    "result.show()"
   ]
  },
  {
   "cell_type": "code",
   "execution_count": 21,
   "metadata": {},
   "outputs": [
    {
     "name": "stdout",
     "output_type": "stream",
     "text": [
      "+-----------------+-------------------+\n",
      "|        avg(rank)|max(weeks_on_chart)|\n",
      "+-----------------+-------------------+\n",
      "|42.51546391752577|                 97|\n",
      "+-----------------+-------------------+\n",
      "\n"
     ]
    }
   ],
   "source": [
    "result = spark.sql('''\n",
    "            SELECT AVG(rank), MAX(weeks_on_chart)\n",
    "            FROM test\n",
    "            WHERE title = \"shape of you\"\n",
    "            ''')\n",
    "result.show()"
   ]
  },
  {
   "cell_type": "code",
   "execution_count": 22,
   "metadata": {},
   "outputs": [
    {
     "name": "stdout",
     "output_type": "stream",
     "text": [
      "+--------------------+--------------------+--------+\n",
      "|              artist|               title|count(1)|\n",
      "+--------------------+--------------------+--------+\n",
      "|          ed sheeran|             perfect|     110|\n",
      "|             killers|       mr brightside|     105|\n",
      "|          ed sheeran|        shape of you|      97|\n",
      "|          ed sheeran|   thinking out loud|      90|\n",
      "|         george ezra|             shotgun|      87|\n",
      "|                 sia|          chandelier|      87|\n",
      "|major lazer ft mo...|             lean on|      79|\n",
      "|           james bay|           let it go|      77|\n",
      "|settle/greatest s...|          this is me|      75|\n",
      "|          ed sheeran|          photograph|      73|\n",
      "|       walk the moon|     shut up & dance|      72|\n",
      "|mark ronson ft br...|         uptown funk|      72|\n",
      "|   justin timberlake|can't stop the fe...|      71|\n",
      "|luis fonsi/daddy ...|   despacito (remix)|      71|\n",
      "|           james bay| hold back the river|      68|\n",
      "|       justin bieber|               sorry|      68|\n",
      "|        shawn mendes|            stitches|      67|\n",
      "|              hozier|   take me to church|      66|\n",
      "|                 sia|       cheap thrills|      66|\n",
      "|            dua lipa|           new rules|      66|\n",
      "+--------------------+--------------------+--------+\n",
      "only showing top 20 rows\n",
      "\n"
     ]
    }
   ],
   "source": [
    "result = spark.sql('''\n",
    "            SELECT artist, title, COUNT(*)\n",
    "            FROM test\n",
    "            GROUP BY artist, title\n",
    "            ORDER BY 3 DESC\n",
    "            ''')\n",
    "result.show()"
   ]
  },
  {
   "cell_type": "code",
   "execution_count": 23,
   "metadata": {},
   "outputs": [
    {
     "name": "stdout",
     "output_type": "stream",
     "text": [
      "+-------------+-------+--------+\n",
      "|       artist|  title|count(1)|\n",
      "+-------------+-------+--------+\n",
      "|one direction|perfect|      21|\n",
      "|   ed sheeran|perfect|     110|\n",
      "+-------------+-------+--------+\n",
      "\n"
     ]
    }
   ],
   "source": [
    "result = spark.sql('''\n",
    "            SELECT artist, title, count(*)\n",
    "            FROM test\n",
    "            WHERE title = \"perfect\"\n",
    "            GROUP BY artist, title\n",
    "            ''')\n",
    "result.show()"
   ]
  },
  {
   "cell_type": "code",
   "execution_count": 29,
   "metadata": {},
   "outputs": [
    {
     "name": "stdout",
     "output_type": "stream",
     "text": [
      "+--------------------+--------------------+--------------------+-----+\n",
      "|              artist|               title|               label|count|\n",
      "+--------------------+--------------------+--------------------+-----+\n",
      "|          ed sheeran|             perfect|              asylum|  110|\n",
      "|             killers|       mr brightside|             mercury|  105|\n",
      "|          ed sheeran|        shape of you|              asylum|   97|\n",
      "|          ed sheeran|   thinking out loud|              asylum|   90|\n",
      "|                 sia|          chandelier|   monkey puzzle/rca|   87|\n",
      "|         george ezra|             shotgun|            columbia|   87|\n",
      "|major lazer ft mo...|             lean on|       because music|   79|\n",
      "|           james bay|           let it go|              virgin|   77|\n",
      "|settle/greatest s...|          this is me|            atlantic|   75|\n",
      "|          ed sheeran|          photograph|              asylum|   73|\n",
      "|mark ronson ft br...|         uptown funk|            columbia|   72|\n",
      "|       walk the moon|     shut up & dance|                 rca|   72|\n",
      "|luis fonsi/daddy ...|   despacito (remix)|def jam/rbmg/repu...|   71|\n",
      "|   justin timberlake|can't stop the fe...|                 rca|   71|\n",
      "|           james bay| hold back the river|              virgin|   68|\n",
      "|       justin bieber|               sorry|             def jam|   68|\n",
      "|        shawn mendes|            stitches|                 emi|   67|\n",
      "|              hozier|   take me to church|          ruby works|   66|\n",
      "|            dua lipa|           new rules|         warner bros|   66|\n",
      "|                 sia|       cheap thrills|   monkey puzzle/rca|   66|\n",
      "+--------------------+--------------------+--------------------+-----+\n",
      "only showing top 20 rows\n",
      "\n"
     ]
    }
   ],
   "source": [
    "result = spark.sql('''\n",
    "            SELECT artist, title, label, count(*) as count\n",
    "            FROM test\n",
    "            GROUP BY artist, title, label\n",
    "            ORDER BY count DESC\n",
    "            ''')\n",
    "result.show()"
   ]
  },
  {
   "cell_type": "code",
   "execution_count": 31,
   "metadata": {},
   "outputs": [
    {
     "name": "stdout",
     "output_type": "stream",
     "text": [
      "+--------------------+--------+\n",
      "|               label|count(1)|\n",
      "+--------------------+--------+\n",
      "|            atlantic|    2055|\n",
      "|            columbia|    1613|\n",
      "|          interscope|    1493|\n",
      "|             polydor|    1220|\n",
      "|                 rca|    1099|\n",
      "|              virgin|     924|\n",
      "|              asylum|     911|\n",
      "|                 emi|     830|\n",
      "|          syco music|     821|\n",
      "|    republic records|     817|\n",
      "|          parlophone|     791|\n",
      "|         warner bros|     653|\n",
      "|              island|     650|\n",
      "|cash money/republ...|     650|\n",
      "|             capitol|     612|\n",
      "|             def jam|     519|\n",
      "|                epic|     471|\n",
      "|   ministry of sound|     466|\n",
      "|            positiva|     413|\n",
      "|          relentless|     360|\n",
      "+--------------------+--------+\n",
      "only showing top 20 rows\n",
      "\n"
     ]
    }
   ],
   "source": [
    "result = spark.sql('''\n",
    "            SELECT label, COUNT(*)\n",
    "            FROM test\n",
    "            GROUP BY 1\n",
    "            ORDER BY 2 DESC\n",
    "            ''')\n",
    "result.show()"
   ]
  },
  {
   "cell_type": "code",
   "execution_count": 32,
   "metadata": {},
   "outputs": [
    {
     "name": "stdout",
     "output_type": "stream",
     "text": [
      "+---------------------+\n",
      "|count(DISTINCT label)|\n",
      "+---------------------+\n",
      "|                  408|\n",
      "+---------------------+\n",
      "\n"
     ]
    }
   ],
   "source": [
    "result = spark.sql('''\n",
    "            SELECT COUNT(DISTINCT label)\n",
    "            FROM test\n",
    "            ''')\n",
    "result.show()"
   ]
  },
  {
   "cell_type": "code",
   "execution_count": 33,
   "metadata": {},
   "outputs": [
    {
     "name": "stdout",
     "output_type": "stream",
     "text": [
      "+--------------------+--------+\n",
      "|               label|count(1)|\n",
      "+--------------------+--------+\n",
      "|            atlantic|    2055|\n",
      "|            columbia|    1613|\n",
      "|          interscope|    1493|\n",
      "|             polydor|    1220|\n",
      "|                 rca|    1099|\n",
      "|              virgin|     924|\n",
      "|              asylum|     911|\n",
      "|                 emi|     830|\n",
      "|          syco music|     821|\n",
      "|    republic records|     817|\n",
      "|          parlophone|     791|\n",
      "|         warner bros|     653|\n",
      "|              island|     650|\n",
      "|cash money/republ...|     650|\n",
      "|             capitol|     612|\n",
      "|             def jam|     519|\n",
      "|                epic|     471|\n",
      "|   ministry of sound|     466|\n",
      "|            positiva|     413|\n",
      "|          relentless|     360|\n",
      "+--------------------+--------+\n",
      "only showing top 20 rows\n",
      "\n"
     ]
    }
   ],
   "source": [
    "result = spark.sql('''\n",
    "            SELECT label, COUNT(*)\n",
    "            FROM test\n",
    "            GROUP BY 1\n",
    "            ORDER BY 2 DESC\n",
    "            ''')\n",
    "result.show()"
   ]
  },
  {
   "cell_type": "code",
   "execution_count": null,
   "metadata": {},
   "outputs": [],
   "source": []
  }
 ],
 "metadata": {
  "kernelspec": {
   "display_name": "Python 3",
   "language": "python",
   "name": "python3"
  },
  "language_info": {
   "codemirror_mode": {
    "name": "ipython",
    "version": 3
   },
   "file_extension": ".py",
   "mimetype": "text/x-python",
   "name": "python",
   "nbconvert_exporter": "python",
   "pygments_lexer": "ipython3",
   "version": "3.7.3"
  }
 },
 "nbformat": 4,
 "nbformat_minor": 4
}
